{
 "cells": [
  {
   "cell_type": "code",
   "execution_count": 1,
   "metadata": {},
   "outputs": [
    {
     "name": "stdout",
     "output_type": "stream",
     "text": [
      "19\n",
      "2\n",
      "2021-02-25 08:58:20.203403\n",
      "12516 days, 21:27:52.203403\n",
      "2\n",
      "February 25, 2021\n"
     ]
    }
   ],
   "source": [
    "from datetime import datetime\n",
    "my_birthday = datetime(1986, 11, 19, 11, 30, 28)\n",
    "# Year, month, day are mandatory; hour, minute, second are not.\n",
    "# datetime() is an object\n",
    "print(my_birthday.day)\n",
    "print(my_birthday.weekday())\n",
    "# datetime.mow() accesses to the current datetime.\n",
    "right_now = datetime.now()\n",
    "print(right_now)\n",
    "my_age = right_now - my_birthday\n",
    "print(my_age)\n",
    "# strptime extracts a datetime() object from a string containing a date\n",
    "string_birthday = 'July 17th, 1991'\n",
    "parsed_birthday = datetime.strptime(string_birthday, \"%B %dth, %Y\")\n",
    "# the second argument explains the format of the string\n",
    "print(parsed_birthday.weekday())\n",
    "# strftime converts a datetime() object into a legible string\n",
    "now_as_a_string = datetime.strftime(datetime.now(), \"%B %d, %Y\")\n",
    "print(now_as_a_string)"
   ]
  }
 ],
 "metadata": {
  "kernelspec": {
   "display_name": "Python 3",
   "language": "python",
   "name": "python3"
  },
  "language_info": {
   "codemirror_mode": {
    "name": "ipython",
    "version": 3
   },
   "file_extension": ".py",
   "mimetype": "text/x-python",
   "name": "python",
   "nbconvert_exporter": "python",
   "pygments_lexer": "ipython3",
   "version": "3.8.5"
  }
 },
 "nbformat": 4,
 "nbformat_minor": 4
}
