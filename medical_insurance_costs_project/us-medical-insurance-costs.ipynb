{
 "cells": [
  {
   "cell_type": "markdown",
   "metadata": {},
   "source": [
    "# U.S. Medical Insurance Costs"
   ]
  },
  {
   "cell_type": "markdown",
   "metadata": {},
   "source": [
    "## Scope of the Project\n",
    "\n",
    "This project aims at analyzing a [Kaggle dataset](https://www.kaggle.com/mirichoi0218/insurance) containing information regarding the costs of insurance for various people in various parts of the United States. In what follows, I aim at:\n",
    "\n",
    "1. analyzing the available data, providing basic information concerning percentages and distribution;\n",
    "2. answering questions about how sex and geographical context may affect one's lifestyle and insurance costs.\n",
    "\n",
    "An immediately evident challenge for this project is the complexity of the data and the mulltiple factors that affect the costs of insurance; **how can I examine the impact of a single variable (say, sex or geographical location) without taking into account everything else?**"
   ]
  },
  {
   "cell_type": "markdown",
   "metadata": {},
   "source": [
    "### Importing the dataset into Python"
   ]
  },
  {
   "cell_type": "code",
   "execution_count": 1,
   "metadata": {},
   "outputs": [
    {
     "data": {
      "text/html": [
       "<div>\n",
       "<style scoped>\n",
       "    .dataframe tbody tr th:only-of-type {\n",
       "        vertical-align: middle;\n",
       "    }\n",
       "\n",
       "    .dataframe tbody tr th {\n",
       "        vertical-align: top;\n",
       "    }\n",
       "\n",
       "    .dataframe thead th {\n",
       "        text-align: right;\n",
       "    }\n",
       "</style>\n",
       "<table border=\"1\" class=\"dataframe\">\n",
       "  <thead>\n",
       "    <tr style=\"text-align: right;\">\n",
       "      <th></th>\n",
       "      <th>age</th>\n",
       "      <th>sex</th>\n",
       "      <th>bmi</th>\n",
       "      <th>children</th>\n",
       "      <th>smoker</th>\n",
       "      <th>region</th>\n",
       "      <th>charges</th>\n",
       "    </tr>\n",
       "  </thead>\n",
       "  <tbody>\n",
       "    <tr>\n",
       "      <th>0</th>\n",
       "      <td>19</td>\n",
       "      <td>female</td>\n",
       "      <td>27.900</td>\n",
       "      <td>0</td>\n",
       "      <td>yes</td>\n",
       "      <td>southwest</td>\n",
       "      <td>16884.92400</td>\n",
       "    </tr>\n",
       "    <tr>\n",
       "      <th>1</th>\n",
       "      <td>18</td>\n",
       "      <td>male</td>\n",
       "      <td>33.770</td>\n",
       "      <td>1</td>\n",
       "      <td>no</td>\n",
       "      <td>southeast</td>\n",
       "      <td>1725.55230</td>\n",
       "    </tr>\n",
       "    <tr>\n",
       "      <th>2</th>\n",
       "      <td>28</td>\n",
       "      <td>male</td>\n",
       "      <td>33.000</td>\n",
       "      <td>3</td>\n",
       "      <td>no</td>\n",
       "      <td>southeast</td>\n",
       "      <td>4449.46200</td>\n",
       "    </tr>\n",
       "    <tr>\n",
       "      <th>3</th>\n",
       "      <td>33</td>\n",
       "      <td>male</td>\n",
       "      <td>22.705</td>\n",
       "      <td>0</td>\n",
       "      <td>no</td>\n",
       "      <td>northwest</td>\n",
       "      <td>21984.47061</td>\n",
       "    </tr>\n",
       "    <tr>\n",
       "      <th>4</th>\n",
       "      <td>32</td>\n",
       "      <td>male</td>\n",
       "      <td>28.880</td>\n",
       "      <td>0</td>\n",
       "      <td>no</td>\n",
       "      <td>northwest</td>\n",
       "      <td>3866.85520</td>\n",
       "    </tr>\n",
       "  </tbody>\n",
       "</table>\n",
       "</div>"
      ],
      "text/plain": [
       "   age     sex     bmi  children smoker     region      charges\n",
       "0   19  female  27.900         0    yes  southwest  16884.92400\n",
       "1   18    male  33.770         1     no  southeast   1725.55230\n",
       "2   28    male  33.000         3     no  southeast   4449.46200\n",
       "3   33    male  22.705         0     no  northwest  21984.47061\n",
       "4   32    male  28.880         0     no  northwest   3866.85520"
      ]
     },
     "execution_count": 1,
     "metadata": {},
     "output_type": "execute_result"
    }
   ],
   "source": [
    "import pandas as pd\n",
    "import numpy as np\n",
    "from matplotlib import pyplot as plt\n",
    "from scipy.stats import chi2_contingency\n",
    "\n",
    "df = pd.read_csv(\"insurance.csv\")\n",
    "df.head()"
   ]
  },
  {
   "cell_type": "markdown",
   "metadata": {},
   "source": [
    "### Preliminary analysis of the dataset\n",
    "\n",
    "I will start by creating different arrays for the numerical values in the dataset:\n",
    "\n",
    "1. age\n",
    "2. BMI\n",
    "3. number of children\n",
    "4. insurance charges."
   ]
  },
  {
   "cell_type": "code",
   "execution_count": 2,
   "metadata": {},
   "outputs": [],
   "source": [
    "age = df[\"age\"]\n",
    "\n",
    "bmi = df[\"bmi\"]\n",
    "children = df[\"children\"]\n",
    "\n",
    "charges = df[\"charges\"]"
   ]
  },
  {
   "cell_type": "markdown",
   "metadata": {},
   "source": [
    "Now I will analyze some of this data, starting with the numerical values (charges, age, bmi, number of children)."
   ]
  },
  {
   "cell_type": "code",
   "execution_count": 3,
   "metadata": {},
   "outputs": [
    {
     "name": "stdout",
     "output_type": "stream",
     "text": [
      "\n",
      " **Individual medical costs billed by health insurance**\n",
      " \n",
      "        The mean of this array is 13270.422265141257.\n",
      "        This is the five-number summary for this array:\n",
      "            - sample minimum: 1121.8739,\n",
      "            - first quartile: 4740.28715,\n",
      "            - median: 9382.033,\n",
      "            - third quartile: 16639.912515,\n",
      "            - sample maximum: 63770.42801.\n",
      "        The interquartile range for this array is 11899.625365.\n",
      "        The standard deviation is 12105.484975561612.\n",
      "        The variance is 146542766.49354792.\n",
      "        \n"
     ]
    },
    {
     "data": {
      "image/png": "[encoded data removed]",
      "text/plain": [
       "<Figure size 432x288 with 1 Axes>"
      ]
     },
     "metadata": {
      "needs_background": "light"
     },
     "output_type": "display_data"
    },
    {
     "name": "stdout",
     "output_type": "stream",
     "text": [
      "\n",
      " **Age of primary beneficiary** \n",
      " \n",
      "        The mean of this array is 39.20702541106129.\n",
      "        This is the five-number summary for this array:\n",
      "            - sample minimum: 18,\n",
      "            - first quartile: 27.0,\n",
      "            - median: 39.0,\n",
      "            - third quartile: 51.0,\n",
      "            - sample maximum: 64.\n",
      "        The interquartile range for this array is 24.0.\n",
      "        The standard deviation is 14.044709038954522.\n",
      "        The variance is 197.2538519888909.\n",
      "        \n"
     ]
    },
    {
     "data": {
      "image/png": "[encoded data removed]",
      "text/plain": [
       "<Figure size 432x288 with 1 Axes>"
      ]
     },
     "metadata": {
      "needs_background": "light"
     },
     "output_type": "display_data"
    }
   ],
   "source": [
    "def essential_array_analysis(array):\n",
    "    return (\n",
    "        \"\"\"\n",
    "        The mean of this array is {mean}.\n",
    "        This is the five-number summary for this array:\n",
    "            - sample minimum: {sample_minimum},\n",
    "            - first quartile: {first_quartile},\n",
    "            - median: {median},\n",
    "            - third quartile: {third_quartile},\n",
    "            - sample maximum: {sample_maximum}.\n",
    "        The interquartile range for this array is {interquartile_range}.\n",
    "        The standard deviation is {standard_deviation}.\n",
    "        The variance is {variance}.\n",
    "        \"\"\".format(\n",
    "        mean = np.mean(array),\n",
    "        sample_minimum = min(array),\n",
    "        first_quartile = np.percentile(array, 25),\n",
    "        median = np.median(array),\n",
    "        third_quartile = np.percentile(array, 75),\n",
    "        sample_maximum = max(array),\n",
    "        interquartile_range = (np.percentile(array, 75) - np.percentile(array, 25)),\n",
    "        standard_deviation = np.std(array),\n",
    "        variance = np.var(array)\n",
    "        ))\n",
    "\n",
    "print(\"\\n **Individual medical costs billed by health insurance**\\n\", essential_array_analysis(charges))\n",
    "plt.hist(charges)\n",
    "plt.title(\"Medical costs\")\n",
    "plt.xlabel(\"Costs in USD\")\n",
    "plt.ylabel(\"Number of beneficiaries\")\n",
    "plt.show()\n",
    "print(\"\\n **Age of primary beneficiary** \\n\", essential_array_analysis(age))\n",
    "plt.hist(age)\n",
    "plt.title(\"Age\")\n",
    "plt.xlabel(\"Age\")\n",
    "plt.ylabel(\"Number of beneficiaries\")\n",
    "plt.show()"
   ]
  },
  {
   "cell_type": "code",
   "execution_count": 4,
   "metadata": {},
   "outputs": [
    {
     "name": "stdout",
     "output_type": "stream",
     "text": [
      "\n",
      " **Body mass index** \n",
      " \n",
      "        The mean of this array is 30.66339686098655.\n",
      "        This is the five-number summary for this array:\n",
      "            - sample minimum: 15.96,\n",
      "            - first quartile: 26.29625,\n",
      "            - median: 30.4,\n",
      "            - third quartile: 34.69375,\n",
      "            - sample maximum: 53.13.\n",
      "        The interquartile range for this array is 8.3975.\n",
      "        The standard deviation is 6.0959076415894256.\n",
      "        The variance is 37.16008997478835.\n",
      "        \n"
     ]
    },
    {
     "data": {
      "image/png": "[encoded data removed]",
      "text/plain": [
       "<Figure size 432x288 with 1 Axes>"
      ]
     },
     "metadata": {
      "needs_background": "light"
     },
     "output_type": "display_data"
    },
    {
     "name": "stdout",
     "output_type": "stream",
     "text": [
      "\n",
      " **Number of children** \n",
      " \n",
      "        The mean of this array is 1.0949177877429.\n",
      "        This is the five-number summary for this array:\n",
      "            - sample minimum: 0,\n",
      "            - first quartile: 0.0,\n",
      "            - median: 1.0,\n",
      "            - third quartile: 2.0,\n",
      "            - sample maximum: 5.\n",
      "        The interquartile range for this array is 2.0.\n",
      "        The standard deviation is 1.2050421724928497.\n",
      "        The variance is 1.452126637486287.\n",
      "        \n"
     ]
    },
    {
     "data": {
      "image/png": "[encoded data removed]",
      "text/plain": [
       "<Figure size 432x288 with 1 Axes>"
      ]
     },
     "metadata": {
      "needs_background": "light"
     },
     "output_type": "display_data"
    }
   ],
   "source": [
    "print(\"\\n **Body mass index** \\n\", essential_array_analysis(bmi))\n",
    "plt.hist(bmi)\n",
    "plt.title(\"Body Mass Index\")\n",
    "plt.xlabel(\"BMI\")\n",
    "plt.ylabel(\"Number of beneficiaries\")\n",
    "plt.show()\n",
    "print(\"\\n **Number of children** \\n\", essential_array_analysis(children))\n",
    "plt.hist(children)\n",
    "plt.title(\"Number of children\")\n",
    "plt.xlabel(\"Number of children\")\n",
    "plt.ylabel(\"Number of beneficiaries\")\n",
    "plt.show()"
   ]
  },
  {
   "cell_type": "markdown",
   "metadata": {},
   "source": [
    "Now I will analyze the categorical values in the dataset (smokers and non-smokers, region of provenance, sex)."
   ]
  },
  {
   "cell_type": "code",
   "execution_count": 5,
   "metadata": {},
   "outputs": [
    {
     "data": {
      "image/png": "[encoded data removed]",
      "text/plain": [
       "<Figure size 432x288 with 1 Axes>"
      ]
     },
     "metadata": {},
     "output_type": "display_data"
    },
    {
     "name": "stdout",
     "output_type": "stream",
     "text": [
      "      region  beneficiaries  percentage\n",
      "0  northeast            324   24.215247\n",
      "1  northwest            325   24.289985\n",
      "2  southeast            364   27.204783\n",
      "3  southwest            325   24.289985\n"
     ]
    },
    {
     "data": {
      "image/png": "[encoded data removed]",
      "text/plain": [
       "<Figure size 432x288 with 1 Axes>"
      ]
     },
     "metadata": {},
     "output_type": "display_data"
    },
    {
     "name": "stdout",
     "output_type": "stream",
     "text": [
      "  smoker  beneficiaries  percentage\n",
      "0     no           1064   79.521674\n",
      "1    yes            274   20.478326\n"
     ]
    },
    {
     "data": {
      "image/png": "[encoded data removed]",
      "text/plain": [
       "<Figure size 432x288 with 1 Axes>"
      ]
     },
     "metadata": {},
     "output_type": "display_data"
    },
    {
     "name": "stdout",
     "output_type": "stream",
     "text": [
      "      sex  beneficiaries  percentage\n",
      "0  female            662   49.476831\n",
      "1    male            676   50.523169\n"
     ]
    }
   ],
   "source": [
    "category = lambda category: \\\n",
    "    df.rename(columns = {\"charges\": \"beneficiaries\"}).groupby(category).beneficiaries.count().reset_index()\n",
    "region = category(\"region\")\n",
    "plt.pie(region[\"beneficiaries\"], labels = region[\"region\"], autopct = \"%d%%\")\n",
    "plt.title(\"Distribution of dataset by US region\")\n",
    "plt.show()\n",
    "perc_column = lambda perc_column: (perc_column[\"beneficiaries\"] / df[\"charges\"].count()) * 100\n",
    "region[\"percentage\"] = perc_column(region)\n",
    "print(region)\n",
    "smoker = category(\"smoker\")\n",
    "plt.pie(smoker[\"beneficiaries\"], labels = smoker[\"smoker\"], autopct = \"%d%%\")\n",
    "plt.title(\"Percentage of smokers and non-smokers in the dataset\")\n",
    "plt.show()\n",
    "smoker[\"percentage\"] = perc_column(smoker)\n",
    "print(smoker)\n",
    "sex = category(\"sex\")\n",
    "plt.pie(sex[\"beneficiaries\"], labels = sex[\"sex\"], autopct = \"%d%%\")\n",
    "plt.title(\"Distribution of dataset by gender\")\n",
    "plt.show()\n",
    "sex[\"percentage\"] = perc_column(sex)\n",
    "print(sex)"
   ]
  },
  {
   "cell_type": "markdown",
   "metadata": {},
   "source": [
    "### Adding a column for insurance costs tiers\n",
    "The insurance costs in this dataset tend to be under $10,000; few go above $15,000; a minimal percentage goes above $50,000. To facilitate the next steps of the analysis, I will add another column where the insurance costs are categorized into four tiers:\n",
    "- below $5,000: **low**;\n",
    "- between $5,000 and $10,000: **medium**;\n",
    "- between $10,000 and 15,000: **high**;\n",
    "- above $15,000: **highest**."
   ]
  },
  {
   "cell_type": "code",
   "execution_count": 16,
   "metadata": {},
   "outputs": [
    {
     "data": {
      "text/html": [
       "<div>\n",
       "<style scoped>\n",
       "    .dataframe tbody tr th:only-of-type {\n",
       "        vertical-align: middle;\n",
       "    }\n",
       "\n",
       "    .dataframe tbody tr th {\n",
       "        vertical-align: top;\n",
       "    }\n",
       "\n",
       "    .dataframe thead th {\n",
       "        text-align: right;\n",
       "    }\n",
       "</style>\n",
       "<table border=\"1\" class=\"dataframe\">\n",
       "  <thead>\n",
       "    <tr style=\"text-align: right;\">\n",
       "      <th></th>\n",
       "      <th>age</th>\n",
       "      <th>sex</th>\n",
       "      <th>bmi</th>\n",
       "      <th>children</th>\n",
       "      <th>smoker</th>\n",
       "      <th>region</th>\n",
       "      <th>charges</th>\n",
       "    </tr>\n",
       "  </thead>\n",
       "  <tbody>\n",
       "    <tr>\n",
       "      <th>0</th>\n",
       "      <td>19</td>\n",
       "      <td>female</td>\n",
       "      <td>27.900</td>\n",
       "      <td>0</td>\n",
       "      <td>yes</td>\n",
       "      <td>southwest</td>\n",
       "      <td>16884.92400</td>\n",
       "    </tr>\n",
       "    <tr>\n",
       "      <th>1</th>\n",
       "      <td>18</td>\n",
       "      <td>male</td>\n",
       "      <td>33.770</td>\n",
       "      <td>1</td>\n",
       "      <td>no</td>\n",
       "      <td>southeast</td>\n",
       "      <td>1725.55230</td>\n",
       "    </tr>\n",
       "    <tr>\n",
       "      <th>2</th>\n",
       "      <td>28</td>\n",
       "      <td>male</td>\n",
       "      <td>33.000</td>\n",
       "      <td>3</td>\n",
       "      <td>no</td>\n",
       "      <td>southeast</td>\n",
       "      <td>4449.46200</td>\n",
       "    </tr>\n",
       "    <tr>\n",
       "      <th>3</th>\n",
       "      <td>33</td>\n",
       "      <td>male</td>\n",
       "      <td>22.705</td>\n",
       "      <td>0</td>\n",
       "      <td>no</td>\n",
       "      <td>northwest</td>\n",
       "      <td>21984.47061</td>\n",
       "    </tr>\n",
       "    <tr>\n",
       "      <th>4</th>\n",
       "      <td>32</td>\n",
       "      <td>male</td>\n",
       "      <td>28.880</td>\n",
       "      <td>0</td>\n",
       "      <td>no</td>\n",
       "      <td>northwest</td>\n",
       "      <td>3866.85520</td>\n",
       "    </tr>\n",
       "  </tbody>\n",
       "</table>\n",
       "</div>"
      ],
      "text/plain": [
       "   age     sex     bmi  children smoker     region      charges\n",
       "0   19  female  27.900         0    yes  southwest  16884.92400\n",
       "1   18    male  33.770         1     no  southeast   1725.55230\n",
       "2   28    male  33.000         3     no  southeast   4449.46200\n",
       "3   33    male  22.705         0     no  northwest  21984.47061\n",
       "4   32    male  28.880         0     no  northwest   3866.85520"
      ]
     },
     "execution_count": 16,
     "metadata": {},
     "output_type": "execute_result"
    }
   ],
   "source": [
    "for i, row in df.iterrows():\n",
    "    if row[\"charges\"] < 5000:\n",
    "        row[\"cost_tier\"] = \"low\"\n",
    "    elif row[\"charges\"] >= 5000 and row[\"charges\"] < 10000:\n",
    "        row[\"cost_tier\"] = \"medium\"\n",
    "    elif row[\"charges\"] >= 10000 and row[\"charges\"] < 15000:\n",
    "        row[\"cost_tier\"] = \"high\"\n",
    "    else:\n",
    "        row[\"cost_tier\"] = \"highest\"\n",
    "\n",
    "df.head()"
   ]
  },
  {
   "cell_type": "markdown",
   "metadata": {},
   "source": [
    "### Additional tables\n",
    "I will now create additional tables where the data is rearranged according to two particular categories: gender and geographical provenance."
   ]
  },
  {
   "cell_type": "markdown",
   "metadata": {},
   "source": [
    "#### Analysis on the basis of gender\n",
    "I will start with insurance costs."
   ]
  },
  {
   "cell_type": "code",
   "execution_count": 9,
   "metadata": {},
   "outputs": [
    {
     "name": "stdout",
     "output_type": "stream",
     "text": [
      "         sex      charges  bmi\n",
      "0     female   1607.51010    1\n",
      "1     female   1615.76670    1\n",
      "2     female   1621.88270    1\n",
      "3     female   1622.18850    1\n",
      "4     female   1629.83350    1\n",
      "...      ...          ...  ...\n",
      "1332    male  49577.66240    1\n",
      "1333    male  51194.55914    1\n",
      "1334    male  52590.82939    1\n",
      "1335    male  60021.39897    1\n",
      "1336    male  62592.87309    1\n",
      "\n",
      "[1337 rows x 3 columns]\n"
     ]
    }
   ],
   "source": [
    "sex_costs = df.groupby([\"sex\", \"charges\"]).bmi.count().reset_index()\n",
    "print(sex_costs)"
   ]
  }
 ],
 "metadata": {
  "kernelspec": {
   "display_name": "Python 3",
   "language": "python",
   "name": "python3"
  },
  "language_info": {
   "codemirror_mode": {
    "name": "ipython",
    "version": 3
   },
   "file_extension": ".py",
   "mimetype": "text/x-python",
   "name": "python",
   "nbconvert_exporter": "python",
   "pygments_lexer": "ipython3",
   "version": "3.8.5"
  }
 },
 "nbformat": 4,
 "nbformat_minor": 4
}
