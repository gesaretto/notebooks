{
 "cells": [
  {
   "cell_type": "markdown",
   "metadata": {},
   "source": [
    "# U.S. Medical Insurance Costs"
   ]
  },
  {
   "cell_type": "markdown",
   "metadata": {},
   "source": [
    "## Scope of the Project\n",
    "\n",
    "This project aims at analyzing a [Kaggle dataset](https://www.kaggle.com/mirichoi0218/insurance) containing information regarding the costs of insurance for various people in various parts of the United States. In what follows, I aim at:\n",
    "\n",
    "1. analyzing the available data, providing basic information concerning percentages and distribution;\n",
    "2. answering questions about how sex and geographical context may affect one's lifestyle and insurance costs.\n",
    "\n",
    "An immediately evident challenge for this project is the complexity of the data and the mulltiple factors that affect the costs of insurance; **how can I examine the impact of a single variable (say, sex or geographical location) without taking into account everything else?**"
   ]
  },
  {
   "cell_type": "markdown",
   "metadata": {},
   "source": [
    "### Importing the dataset into Python"
   ]
  },
  {
   "cell_type": "code",
   "execution_count": 57,
   "metadata": {},
   "outputs": [
    {
     "name": "stdout",
     "output_type": "stream",
     "text": [
      "   age     sex     bmi  children smoker     region      charges\n",
      "0   19  female  27.900         0    yes  southwest  16884.92400\n",
      "1   18    male  33.770         1     no  southeast   1725.55230\n",
      "2   28    male  33.000         3     no  southeast   4449.46200\n",
      "3   33    male  22.705         0     no  northwest  21984.47061\n",
      "4   32    male  28.880         0     no  northwest   3866.85520\n"
     ]
    },
    {
     "data": {
      "text/html": [
       "<div>\n",
       "<style scoped>\n",
       "    .dataframe tbody tr th:only-of-type {\n",
       "        vertical-align: middle;\n",
       "    }\n",
       "\n",
       "    .dataframe tbody tr th {\n",
       "        vertical-align: top;\n",
       "    }\n",
       "\n",
       "    .dataframe thead th {\n",
       "        text-align: right;\n",
       "    }\n",
       "</style>\n",
       "<table border=\"1\" class=\"dataframe\">\n",
       "  <thead>\n",
       "    <tr style=\"text-align: right;\">\n",
       "      <th></th>\n",
       "      <th>age</th>\n",
       "      <th>sex</th>\n",
       "      <th>bmi</th>\n",
       "      <th>children</th>\n",
       "      <th>smoker</th>\n",
       "      <th>region</th>\n",
       "      <th>charges</th>\n",
       "    </tr>\n",
       "  </thead>\n",
       "  <tbody>\n",
       "    <tr>\n",
       "      <th>0</th>\n",
       "      <td>19</td>\n",
       "      <td>female</td>\n",
       "      <td>27.900</td>\n",
       "      <td>0</td>\n",
       "      <td>yes</td>\n",
       "      <td>southwest</td>\n",
       "      <td>16884.92400</td>\n",
       "    </tr>\n",
       "    <tr>\n",
       "      <th>1</th>\n",
       "      <td>18</td>\n",
       "      <td>male</td>\n",
       "      <td>33.770</td>\n",
       "      <td>1</td>\n",
       "      <td>no</td>\n",
       "      <td>southeast</td>\n",
       "      <td>1725.55230</td>\n",
       "    </tr>\n",
       "    <tr>\n",
       "      <th>2</th>\n",
       "      <td>28</td>\n",
       "      <td>male</td>\n",
       "      <td>33.000</td>\n",
       "      <td>3</td>\n",
       "      <td>no</td>\n",
       "      <td>southeast</td>\n",
       "      <td>4449.46200</td>\n",
       "    </tr>\n",
       "    <tr>\n",
       "      <th>3</th>\n",
       "      <td>33</td>\n",
       "      <td>male</td>\n",
       "      <td>22.705</td>\n",
       "      <td>0</td>\n",
       "      <td>no</td>\n",
       "      <td>northwest</td>\n",
       "      <td>21984.47061</td>\n",
       "    </tr>\n",
       "    <tr>\n",
       "      <th>4</th>\n",
       "      <td>32</td>\n",
       "      <td>male</td>\n",
       "      <td>28.880</td>\n",
       "      <td>0</td>\n",
       "      <td>no</td>\n",
       "      <td>northwest</td>\n",
       "      <td>3866.85520</td>\n",
       "    </tr>\n",
       "  </tbody>\n",
       "</table>\n",
       "</div>"
      ],
      "text/plain": [
       "   age     sex     bmi  children smoker     region      charges\n",
       "0   19  female  27.900         0    yes  southwest  16884.92400\n",
       "1   18    male  33.770         1     no  southeast   1725.55230\n",
       "2   28    male  33.000         3     no  southeast   4449.46200\n",
       "3   33    male  22.705         0     no  northwest  21984.47061\n",
       "4   32    male  28.880         0     no  northwest   3866.85520"
      ]
     },
     "execution_count": 57,
     "metadata": {},
     "output_type": "execute_result"
    }
   ],
   "source": [
    "import pandas as pd\n",
    "import numpy as np\n",
    "from matplotlib import pyplot as plt\n",
    "from scipy.stats import ttest_ind\n",
    "from scipy.stats import chi2_contingency\n",
    "\n",
    "df = pd.read_csv(\"insurance.csv\")\n",
    "print(df.head())\n",
    "df.head()"
   ]
  },
  {
   "cell_type": "markdown",
   "metadata": {},
   "source": [
    "### Preliminary analysis of the dataset\n",
    "\n",
    "I will start by creating different arrays for the numerical values in the dataset:\n",
    "\n",
    "1. age\n",
    "2. BMI\n",
    "3. number of children\n",
    "4. insurance charges."
   ]
  },
  {
   "cell_type": "code",
   "execution_count": 2,
   "metadata": {},
   "outputs": [],
   "source": [
    "age = df[\"age\"]\n",
    "\n",
    "bmi = df[\"bmi\"]\n",
    "children = df[\"children\"]\n",
    "\n",
    "charges = df[\"charges\"]"
   ]
  },
  {
   "cell_type": "markdown",
   "metadata": {},
   "source": [
    "Now I will analyze some of this data, starting with the numerical values (charges, age, bmi, number of children)."
   ]
  },
  {
   "cell_type": "code",
   "execution_count": 3,
   "metadata": {},
   "outputs": [
    {
     "name": "stdout",
     "output_type": "stream",
     "text": [
      "\n",
      " **Individual medical costs billed by health insurance**\n",
      " \n",
      "        The mean of this array is 13270.422265141257.\n",
      "        This is the five-number summary for this array:\n",
      "            - sample minimum: 1121.8739,\n",
      "            - first quartile: 4740.28715,\n",
      "            - median: 9382.033,\n",
      "            - third quartile: 16639.912515,\n",
      "            - sample maximum: 63770.42801.\n",
      "        The interquartile range for this array is 11899.625365.\n",
      "        The standard deviation is 12105.484975561612.\n",
      "        The variance is 146542766.49354792.\n",
      "        \n"
     ]
    },
    {
     "data": {
      "image/png": "[encoded data removed]",
      "text/plain": [
       "<Figure size 432x288 with 1 Axes>"
      ]
     },
     "metadata": {
      "needs_background": "light"
     },
     "output_type": "display_data"
    },
    {
     "name": "stdout",
     "output_type": "stream",
     "text": [
      "\n",
      " **Age of primary beneficiary** \n",
      " \n",
      "        The mean of this array is 39.20702541106129.\n",
      "        This is the five-number summary for this array:\n",
      "            - sample minimum: 18,\n",
      "            - first quartile: 27.0,\n",
      "            - median: 39.0,\n",
      "            - third quartile: 51.0,\n",
      "            - sample maximum: 64.\n",
      "        The interquartile range for this array is 24.0.\n",
      "        The standard deviation is 14.044709038954522.\n",
      "        The variance is 197.2538519888909.\n",
      "        \n"
     ]
    },
    {
     "data": {
      "image/png": "[encoded data removed]",
      "text/plain": [
       "<Figure size 432x288 with 1 Axes>"
      ]
     },
     "metadata": {
      "needs_background": "light"
     },
     "output_type": "display_data"
    }
   ],
   "source": [
    "def essential_array_analysis(array):\n",
    "    return (\n",
    "        \"\"\"\n",
    "        The mean of this array is {mean}.\n",
    "        This is the five-number summary for this array:\n",
    "            - sample minimum: {sample_minimum},\n",
    "            - first quartile: {first_quartile},\n",
    "            - median: {median},\n",
    "            - third quartile: {third_quartile},\n",
    "            - sample maximum: {sample_maximum}.\n",
    "        The interquartile range for this array is {interquartile_range}.\n",
    "        The standard deviation is {standard_deviation}.\n",
    "        The variance is {variance}.\n",
    "        \"\"\".format(\n",
    "        mean = np.mean(array),\n",
    "        sample_minimum = min(array),\n",
    "        first_quartile = np.percentile(array, 25),\n",
    "        median = np.median(array),\n",
    "        third_quartile = np.percentile(array, 75),\n",
    "        sample_maximum = max(array),\n",
    "        interquartile_range = (np.percentile(array, 75) - np.percentile(array, 25)),\n",
    "        standard_deviation = np.std(array),\n",
    "        variance = np.var(array)\n",
    "        ))\n",
    "\n",
    "print(\"\\n **Individual medical costs billed by health insurance**\\n\", essential_array_analysis(charges))\n",
    "plt.hist(charges)\n",
    "plt.title(\"Medical costs\")\n",
    "plt.xlabel(\"Costs in USD\")\n",
    "plt.ylabel(\"Number of beneficiaries\")\n",
    "plt.show()\n",
    "print(\"\\n **Age of primary beneficiary** \\n\", essential_array_analysis(age))\n",
    "plt.hist(age)\n",
    "plt.title(\"Age\")\n",
    "plt.xlabel(\"Age\")\n",
    "plt.ylabel(\"Number of beneficiaries\")\n",
    "plt.show()"
   ]
  },
  {
   "cell_type": "code",
   "execution_count": 4,
   "metadata": {},
   "outputs": [
    {
     "name": "stdout",
     "output_type": "stream",
     "text": [
      "\n",
      " **Body mass index** \n",
      " \n",
      "        The mean of this array is 30.66339686098655.\n",
      "        This is the five-number summary for this array:\n",
      "            - sample minimum: 15.96,\n",
      "            - first quartile: 26.29625,\n",
      "            - median: 30.4,\n",
      "            - third quartile: 34.69375,\n",
      "            - sample maximum: 53.13.\n",
      "        The interquartile range for this array is 8.3975.\n",
      "        The standard deviation is 6.0959076415894256.\n",
      "        The variance is 37.16008997478835.\n",
      "        \n"
     ]
    },
    {
     "data": {
      "image/png": "[encoded data removed]",
      "text/plain": [
       "<Figure size 432x288 with 1 Axes>"
      ]
     },
     "metadata": {
      "needs_background": "light"
     },
     "output_type": "display_data"
    },
    {
     "name": "stdout",
     "output_type": "stream",
     "text": [
      "\n",
      " **Number of children** \n",
      " \n",
      "        The mean of this array is 1.0949177877429.\n",
      "        This is the five-number summary for this array:\n",
      "            - sample minimum: 0,\n",
      "            - first quartile: 0.0,\n",
      "            - median: 1.0,\n",
      "            - third quartile: 2.0,\n",
      "            - sample maximum: 5.\n",
      "        The interquartile range for this array is 2.0.\n",
      "        The standard deviation is 1.2050421724928497.\n",
      "        The variance is 1.452126637486287.\n",
      "        \n"
     ]
    },
    {
     "data": {
      "image/png": "[encoded data removed]",
      "text/plain": [
       "<Figure size 432x288 with 1 Axes>"
      ]
     },
     "metadata": {
      "needs_background": "light"
     },
     "output_type": "display_data"
    }
   ],
   "source": [
    "print(\"\\n **Body mass index** \\n\", essential_array_analysis(bmi))\n",
    "plt.hist(bmi)\n",
    "plt.title(\"Body Mass Index\")\n",
    "plt.xlabel(\"BMI\")\n",
    "plt.ylabel(\"Number of beneficiaries\")\n",
    "plt.show()\n",
    "print(\"\\n **Number of children** \\n\", essential_array_analysis(children))\n",
    "plt.hist(children)\n",
    "plt.title(\"Number of children\")\n",
    "plt.xlabel(\"Number of children\")\n",
    "plt.ylabel(\"Number of beneficiaries\")\n",
    "plt.show()"
   ]
  },
  {
   "cell_type": "markdown",
   "metadata": {},
   "source": [
    "Now I will analyze the categorical values in the dataset (smokers and non-smokers, region of provenance, sex)."
   ]
  },
  {
   "cell_type": "code",
   "execution_count": 5,
   "metadata": {},
   "outputs": [
    {
     "data": {
      "image/png": "[encoded data removed]",
      "text/plain": [
       "<Figure size 432x288 with 1 Axes>"
      ]
     },
     "metadata": {},
     "output_type": "display_data"
    },
    {
     "name": "stdout",
     "output_type": "stream",
     "text": [
      "      region  beneficiaries  percentage\n",
      "0  northeast            324   24.215247\n",
      "1  northwest            325   24.289985\n",
      "2  southeast            364   27.204783\n",
      "3  southwest            325   24.289985\n"
     ]
    },
    {
     "data": {
      "image/png": "[encoded data removed]",
      "text/plain": [
       "<Figure size 432x288 with 1 Axes>"
      ]
     },
     "metadata": {},
     "output_type": "display_data"
    },
    {
     "name": "stdout",
     "output_type": "stream",
     "text": [
      "  smoker  beneficiaries  percentage\n",
      "0     no           1064   79.521674\n",
      "1    yes            274   20.478326\n"
     ]
    },
    {
     "data": {
      "image/png": "[encoded data removed]",
      "text/plain": [
       "<Figure size 432x288 with 1 Axes>"
      ]
     },
     "metadata": {},
     "output_type": "display_data"
    },
    {
     "name": "stdout",
     "output_type": "stream",
     "text": [
      "      sex  beneficiaries  percentage\n",
      "0  female            662   49.476831\n",
      "1    male            676   50.523169\n"
     ]
    }
   ],
   "source": [
    "category = lambda category: \\\n",
    "    df.rename(columns = {\"charges\": \"beneficiaries\"}).groupby(category).beneficiaries.count().reset_index()\n",
    "region = category(\"region\")\n",
    "plt.pie(region[\"beneficiaries\"], labels = region[\"region\"], autopct = \"%d%%\")\n",
    "plt.title(\"Distribution of dataset by US region\")\n",
    "plt.show()\n",
    "perc_column = lambda perc_column: (perc_column[\"beneficiaries\"] / df[\"charges\"].count()) * 100\n",
    "region[\"percentage\"] = perc_column(region)\n",
    "print(region)\n",
    "smoker = category(\"smoker\")\n",
    "plt.pie(smoker[\"beneficiaries\"], labels = smoker[\"smoker\"], autopct = \"%d%%\")\n",
    "plt.title(\"Percentage of smokers and non-smokers in the dataset\")\n",
    "plt.show()\n",
    "smoker[\"percentage\"] = perc_column(smoker)\n",
    "print(smoker)\n",
    "sex = category(\"sex\")\n",
    "plt.pie(sex[\"beneficiaries\"], labels = sex[\"sex\"], autopct = \"%d%%\")\n",
    "plt.title(\"Distribution of dataset by gender\")\n",
    "plt.show()\n",
    "sex[\"percentage\"] = perc_column(sex)\n",
    "print(sex)"
   ]
  },
  {
   "cell_type": "markdown",
   "metadata": {},
   "source": [
    "### Adding a column for insurance costs tiers\n",
    "The insurance costs in this dataset tend to be under \\\\$10,000; few go above \\\\$15,000; a minimal percentage goes above \\\\$50,000. To facilitate the next steps of the analysis, I will add another column where the insurance costs are categorized into four tiers:\n",
    "- below \\\\$5,000: **low**;\n",
    "- between \\\\$5,000 and \\\\$10,000: **medium**;\n",
    "- between \\\\$10,000 and \\\\$15,000: **high**;\n",
    "- above \\\\$15,000: **highest**."
   ]
  },
  {
   "cell_type": "code",
   "execution_count": 6,
   "metadata": {},
   "outputs": [
    {
     "data": {
      "image/png": "[encoded data removed]",
      "text/plain": [
       "<Figure size 432x288 with 1 Axes>"
      ]
     },
     "metadata": {},
     "output_type": "display_data"
    },
    {
     "data": {
      "text/html": [
       "<div>\n",
       "<style scoped>\n",
       "    .dataframe tbody tr th:only-of-type {\n",
       "        vertical-align: middle;\n",
       "    }\n",
       "\n",
       "    .dataframe tbody tr th {\n",
       "        vertical-align: top;\n",
       "    }\n",
       "\n",
       "    .dataframe thead th {\n",
       "        text-align: right;\n",
       "    }\n",
       "</style>\n",
       "<table border=\"1\" class=\"dataframe\">\n",
       "  <thead>\n",
       "    <tr style=\"text-align: right;\">\n",
       "      <th></th>\n",
       "      <th>age</th>\n",
       "      <th>sex</th>\n",
       "      <th>bmi</th>\n",
       "      <th>children</th>\n",
       "      <th>smoker</th>\n",
       "      <th>region</th>\n",
       "      <th>charges</th>\n",
       "      <th>cost tier</th>\n",
       "    </tr>\n",
       "  </thead>\n",
       "  <tbody>\n",
       "    <tr>\n",
       "      <th>0</th>\n",
       "      <td>19</td>\n",
       "      <td>female</td>\n",
       "      <td>27.900</td>\n",
       "      <td>0</td>\n",
       "      <td>yes</td>\n",
       "      <td>southwest</td>\n",
       "      <td>16884.92400</td>\n",
       "      <td>above 15k</td>\n",
       "    </tr>\n",
       "    <tr>\n",
       "      <th>1</th>\n",
       "      <td>18</td>\n",
       "      <td>male</td>\n",
       "      <td>33.770</td>\n",
       "      <td>1</td>\n",
       "      <td>no</td>\n",
       "      <td>southeast</td>\n",
       "      <td>1725.55230</td>\n",
       "      <td>less than 5k</td>\n",
       "    </tr>\n",
       "    <tr>\n",
       "      <th>2</th>\n",
       "      <td>28</td>\n",
       "      <td>male</td>\n",
       "      <td>33.000</td>\n",
       "      <td>3</td>\n",
       "      <td>no</td>\n",
       "      <td>southeast</td>\n",
       "      <td>4449.46200</td>\n",
       "      <td>less than 5k</td>\n",
       "    </tr>\n",
       "    <tr>\n",
       "      <th>3</th>\n",
       "      <td>33</td>\n",
       "      <td>male</td>\n",
       "      <td>22.705</td>\n",
       "      <td>0</td>\n",
       "      <td>no</td>\n",
       "      <td>northwest</td>\n",
       "      <td>21984.47061</td>\n",
       "      <td>above 15k</td>\n",
       "    </tr>\n",
       "    <tr>\n",
       "      <th>4</th>\n",
       "      <td>32</td>\n",
       "      <td>male</td>\n",
       "      <td>28.880</td>\n",
       "      <td>0</td>\n",
       "      <td>no</td>\n",
       "      <td>northwest</td>\n",
       "      <td>3866.85520</td>\n",
       "      <td>less than 5k</td>\n",
       "    </tr>\n",
       "  </tbody>\n",
       "</table>\n",
       "</div>"
      ],
      "text/plain": [
       "   age     sex     bmi  children smoker     region      charges     cost tier\n",
       "0   19  female  27.900         0    yes  southwest  16884.92400     above 15k\n",
       "1   18    male  33.770         1     no  southeast   1725.55230  less than 5k\n",
       "2   28    male  33.000         3     no  southeast   4449.46200  less than 5k\n",
       "3   33    male  22.705         0     no  northwest  21984.47061     above 15k\n",
       "4   32    male  28.880         0     no  northwest   3866.85520  less than 5k"
      ]
     },
     "execution_count": 6,
     "metadata": {},
     "output_type": "execute_result"
    }
   ],
   "source": [
    "df[\"cost tier\"] = df.apply(lambda row: \"less than 5k\" if row[\"charges\"] < 5000 else (\n",
    "    \"between 5k and 10k\" if row[\"charges\"] >= 5000 and row[\"charges\"] < 10000 else (\n",
    "    \"between 10k and 15k\" if row[\"charges\"] >= 10000 and row[\"charges\"] < 15000 else \"above 15k\")), axis = 1)\n",
    "\n",
    "tier = category(\"cost tier\")\n",
    "plt.pie(tier[\"beneficiaries\"], labels = tier[\"cost tier\"], autopct = \"%d%%\")\n",
    "plt.title(\"Distribution of dataset according to cost tiers\")\n",
    "plt.show()\n",
    "df.head()"
   ]
  },
  {
   "cell_type": "markdown",
   "metadata": {},
   "source": [
    "### Additional tables\n",
    "I will now create additional tables where the data is rearranged according to two particular categories: gender and geographical provenance."
   ]
  },
  {
   "cell_type": "markdown",
   "metadata": {},
   "source": [
    "#### Analysis on the basis of gender\n",
    "I will start with insurance costs."
   ]
  },
  {
   "cell_type": "code",
   "execution_count": 7,
   "metadata": {},
   "outputs": [
    {
     "name": "stdout",
     "output_type": "stream",
     "text": [
      "\n",
      "**Costs for male beneficiaries**\n",
      " \n",
      "        The mean of this array is 13956.751177721893.\n",
      "        This is the five-number summary for this array:\n",
      "            - sample minimum: 1121.8739,\n",
      "            - first quartile: 4619.134,\n",
      "            - median: 9369.61575,\n",
      "            - third quartile: 18989.59025,\n",
      "            - sample maximum: 62592.87309.\n",
      "        The interquartile range for this array is 14370.456250000001.\n",
      "        The standard deviation is 12961.428410257226.\n",
      "        The variance is 167998626.43422315.\n",
      "        \n",
      "\n",
      "**Costs for female beneficiaries**\n",
      " \n",
      "        The mean of this array is 12569.578843835347.\n",
      "        This is the five-number summary for this array:\n",
      "            - sample minimum: 1607.5101,\n",
      "            - first quartile: 4885.1587,\n",
      "            - median: 9412.9625,\n",
      "            - third quartile: 14454.691825,\n",
      "            - sample maximum: 63770.42801.\n",
      "        The interquartile range for this array is 9569.533125.\n",
      "        The standard deviation is 11120.29525887552.\n",
      "        The variance is 123660966.64456937.\n",
      "        \n"
     ]
    },
    {
     "data": {
      "image/png": "[encoded data removed]",
      "text/plain": [
       "<Figure size 432x288 with 1 Axes>"
      ]
     },
     "metadata": {
      "needs_background": "light"
     },
     "output_type": "display_data"
    }
   ],
   "source": [
    "male_costs = df[df.sex == \"male\"][\"charges\"]\n",
    "print(\"\\n**Costs for male beneficiaries**\\n\", essential_array_analysis(male_costs))\n",
    "female_costs = df[df.sex == \"female\"][\"charges\"]\n",
    "print(\"\\n**Costs for female beneficiaries**\\n\", essential_array_analysis(female_costs))\n",
    "plt.hist(male_costs, bins=20, histtype=\"step\")\n",
    "plt.hist(female_costs, bins=20, histtype=\"step\")\n",
    "plt.title(\"Comparison between costs for male and female beneficiaries\")\n",
    "plt.xlabel(\"Costs in USD\")\n",
    "plt.ylabel(\"Number of beneficiaries\")\n",
    "plt.legend([\"Costs for males\", \"Costs for females\"])\n",
    "plt.show()"
   ]
  },
  {
   "cell_type": "markdown",
   "metadata": {},
   "source": [
    "The two groups have slightly different means: 12569.57 for women, 13956.75 for men. Can we say that this difference is statistically significant? I will perform a Two-Sample T-Test to verify this hypothesis."
   ]
  },
  {
   "cell_type": "code",
   "execution_count": 10,
   "metadata": {},
   "outputs": [
    {
     "name": "stdout",
     "output_type": "stream",
     "text": [
      "There is a 3.61% probability that the two groups belong to a population with the same average.\n",
      "The difference is statistically significant.\n"
     ]
    }
   ],
   "source": [
    "def perform_2sample_ttest(group1, group2):\n",
    "    pval = ttest_ind(group1, group2)[1]\n",
    "    print(\"There is a {:.2%} probability that the two groups belong to a population with the same average.\".format(pval))\n",
    "    print(\"The difference is {maybe}statistically significant.\".format(maybe = \"\" if pval < 0.05 else \"not \"))\n",
    "    return pval\n",
    "\n",
    "pval_sex_costs = perform_2sample_ttest(male_costs, female_costs)"
   ]
  },
  {
   "cell_type": "markdown",
   "metadata": {},
   "source": [
    "So, men tend to pay higher insurance costs than women in this dataset. What might be the reason for this difference? Do the men in this dataset tend to smoke more than women? To have higher BMIs? To be older? To have more children? "
   ]
  },
  {
   "cell_type": "markdown",
   "metadata": {},
   "source": [
    "Let's start with the age difference. If there is a statistically significant difference in the age distribution for these two groups, then the disparity in costs would be less impressive."
   ]
  },
  {
   "cell_type": "code",
   "execution_count": 17,
   "metadata": {},
   "outputs": [
    {
     "name": "stdout",
     "output_type": "stream",
     "text": [
      "\n",
      "**Age distribution for men in the dataset**\n",
      " \n",
      "        The mean of this array is 38.917159763313606.\n",
      "        This is the five-number summary for this array:\n",
      "            - sample minimum: 18,\n",
      "            - first quartile: 26.0,\n",
      "            - median: 39.0,\n",
      "            - third quartile: 51.0,\n",
      "            - sample maximum: 64.\n",
      "        The interquartile range for this array is 25.0.\n",
      "        The standard deviation is 14.039744985943786.\n",
      "        The variance is 197.11443927033366.\n",
      "        \n",
      "\n",
      "**Age distribution for women in the dataset**\n",
      " \n",
      "        The mean of this array is 39.503021148036254.\n",
      "        This is the five-number summary for this array:\n",
      "            - sample minimum: 18,\n",
      "            - first quartile: 27.0,\n",
      "            - median: 40.0,\n",
      "            - third quartile: 51.75,\n",
      "            - sample maximum: 64.\n",
      "        The interquartile range for this array is 24.75.\n",
      "        The standard deviation is 14.043603545398817.\n",
      "        The variance is 197.22280054033823.\n",
      "        \n",
      "There is a 44.59% probability that the two groups belong to a population with the same average.\n",
      "The difference is not statistically significant.\n"
     ]
    },
    {
     "data": {
      "image/png": "[encoded data removed]",
      "text/plain": [
       "<Figure size 432x288 with 1 Axes>"
      ]
     },
     "metadata": {
      "needs_background": "light"
     },
     "output_type": "display_data"
    }
   ],
   "source": [
    "male_age = df[df.sex == \"male\"][\"age\"]\n",
    "print(\"\\n**Age distribution for men in the dataset**\\n\", essential_array_analysis(male_age))\n",
    "female_age = df[df.sex == \"female\"][\"age\"]\n",
    "print(\"\\n**Age distribution for women in the dataset**\\n\", essential_array_analysis(female_age))\n",
    "pval_sex_age = perform_2sample_ttest(male_age, female_age)\n",
    "plt.hist(male_age, bins=20, histtype=\"step\", density=True)\n",
    "plt.hist(female_age, bins=20, histtype=\"step\", density=True)\n",
    "plt.title(\"Age distribution for men and women in the dataset\")\n",
    "plt.legend([\"Male ages\", \"Female ages\"])\n",
    "plt.xlabel(\"Age\")\n",
    "plt.ylabel(\"Number of beneficiaries\")\n",
    "plt.show()"
   ]
  },
  {
   "cell_type": "markdown",
   "metadata": {},
   "source": [
    "So, the ages for the two groups are roughly the same; the differences between the two datasets from this standpoint do not appear to be statistically significant. What about the BMI ([Body Mass Index](https://en.wikipedia.org/wiki/Body_mass_index))?"
   ]
  },
  {
   "cell_type": "code",
   "execution_count": 16,
   "metadata": {},
   "outputs": [
    {
     "name": "stdout",
     "output_type": "stream",
     "text": [
      "\n",
      "**Distribution of BMI values for men in the dataset**\n",
      " \n",
      "        The mean of this array is 30.943128698224854.\n",
      "        This is the five-number summary for this array:\n",
      "            - sample minimum: 15.96,\n",
      "            - first quartile: 26.41,\n",
      "            - median: 30.6875,\n",
      "            - third quartile: 34.9925,\n",
      "            - sample maximum: 53.13.\n",
      "        The interquartile range for this array is 8.5825.\n",
      "        The standard deviation is 6.13589119333087.\n",
      "        The variance is 37.64916073639534.\n",
      "        \n",
      "\n",
      "**Distribution of BMI values for women in the dataset**\n",
      " \n",
      "        The mean of this array is 30.37774924471299.\n",
      "        This is the five-number summary for this array:\n",
      "            - sample minimum: 16.815,\n",
      "            - first quartile: 26.125,\n",
      "            - median: 30.1075,\n",
      "            - third quartile: 34.31375,\n",
      "            - sample maximum: 48.07.\n",
      "        The interquartile range for this array is 8.188749999999999.\n",
      "        The standard deviation is 6.041454877245921.\n",
      "        The variance is 36.499177033798524.\n",
      "        \n",
      "There is a 9.00% probability that the two groups belong to a population with the same average.\n",
      "The difference is not statistically significant.\n"
     ]
    },
    {
     "data": {
      "image/png": "[encoded data removed]",
      "text/plain": [
       "<Figure size 432x288 with 1 Axes>"
      ]
     },
     "metadata": {
      "needs_background": "light"
     },
     "output_type": "display_data"
    }
   ],
   "source": [
    "male_bmi = df[df.sex == \"male\"][\"bmi\"]\n",
    "print(\"\\n**Distribution of BMI values for men in the dataset**\\n\", essential_array_analysis(male_bmi))\n",
    "female_bmi = df[df.sex == \"female\"][\"bmi\"]\n",
    "print(\"\\n**Distribution of BMI values for women in the dataset**\\n\", essential_array_analysis(female_bmi))\n",
    "pval_sex_bmi = perform_2sample_ttest(male_bmi, female_bmi)\n",
    "plt.hist(male_bmi, bins=20, histtype=\"step\", density=True)\n",
    "plt.hist(female_bmi, bins=20, histtype=\"step\", density=True)\n",
    "plt.title(\"BMI values for men and women in the dataset\")\n",
    "plt.legend([\"Male BMIs\", \"Female BMIs\"])\n",
    "plt.xlabel(\"Body mass index\")\n",
    "plt.ylabel(\"Number of beneficiaries\")\n",
    "plt.show()"
   ]
  },
  {
   "cell_type": "markdown",
   "metadata": {},
   "source": [
    "The difference in the BMI values is little, and does not seem to be statistically significant. What about the percentage of smokers vs. non-smokers?"
   ]
  },
  {
   "cell_type": "code",
   "execution_count": 22,
   "metadata": {},
   "outputs": [
    {
     "name": "stdout",
     "output_type": "stream",
     "text": [
      "   age     sex     bmi  children smoker     region      charges     cost tier\n",
      "0   19  female  27.900         0    yes  southwest  16884.92400     above 15k\n",
      "1   18    male  33.770         1     no  southeast   1725.55230  less than 5k\n",
      "2   28    male  33.000         3     no  southeast   4449.46200  less than 5k\n",
      "3   33    male  22.705         0     no  northwest  21984.47061     above 15k\n",
      "4   32    male  28.880         0     no  northwest   3866.85520  less than 5k\n"
     ]
    }
   ],
   "source": [
    "print(df.head())"
   ]
  },
  {
   "cell_type": "code",
   "execution_count": 85,
   "metadata": {},
   "outputs": [
    {
     "name": "stdout",
     "output_type": "stream",
     "text": [
      "smoker     sex   no  yes  percentage\n",
      "0       female  547  115   17.371601\n",
      "1         male  517  159   23.520710\n"
     ]
    },
    {
     "data": {
      "image/png": "[encoded data removed]",
      "text/plain": [
       "<Figure size 432x288 with 1 Axes>"
      ]
     },
     "metadata": {},
     "output_type": "display_data"
    },
    {
     "data": {
      "image/png": "[encoded data removed]",
      "text/plain": [
       "<Figure size 432x288 with 1 Axes>"
      ]
     },
     "metadata": {},
     "output_type": "display_data"
    }
   ],
   "source": [
    "sex_smokers = df.groupby([\"sex\", \"smoker\"]).charges.count().reset_index()\n",
    "sex_smokers = sex_smokers.pivot(index = \"sex\", columns = \"smoker\", values = \"charges\").reset_index()\n",
    "sex_smokers[\"percentage\"] = (sex_smokers[\"yes\"] / (sex_smokers[\"no\"] + sex_smokers[\"yes\"])) * 100\n",
    "print(sex_smokers)\n",
    "plt.pie(sex_smokers.loc[sex_smokers[\"sex\"] == \"female\", [\"yes\", \"no\"]].values.tolist()[0],\n",
    "       labels = [\"Smokers\", \"Non smokers\"], autopct = \"%d%%\")\n",
    "plt.title(\"Percentage of smokers among women in the dataset\")\n",
    "plt.show()\n",
    "plt.pie(sex_smokers.loc[sex_smokers[\"sex\"] == \"male\", [\"yes\", \"no\"]].values.tolist()[0],\n",
    "        labels = [\"Smokers\", \"Non smokers\"], autopct = \"%d%%\")\n",
    "plt.title(\"Percentage of smokers among men in the dataset\")\n",
    "plt.show()"
   ]
  },
  {
   "cell_type": "markdown",
   "metadata": {},
   "source": [
    "There seems to be a substantial difference in the ratio of smokers and non smokers between men and women. Is this difference statistically significant? I will perform a Chi Square Test to figure it out."
   ]
  },
  {
   "cell_type": "code",
   "execution_count": 87,
   "metadata": {},
   "outputs": [
    {
     "name": "stdout",
     "output_type": "stream",
     "text": [
      "There is a 0.65% probability that the two groups belong to a population with the same distribution.\n",
      "The difference is statistically significant.\n"
     ]
    }
   ],
   "source": [
    "smoker_sex_contingency = [\n",
    "    sex_smokers.loc[sex_smokers[\"sex\"] == \"male\", [\"yes\", \"no\"]].values.tolist()[0],\n",
    "    sex_smokers.loc[sex_smokers[\"sex\"] == \"female\", [\"yes\", \"no\"]].values.tolist()[0]\n",
    "]\n",
    "\n",
    "def perform_chi2_test(contingency_table):\n",
    "    pval = chi2_contingency(contingency_table)[1]\n",
    "    print(\"There is a {:.2%} probability that the two groups belong to a population with the same distribution.\".format(pval))\n",
    "    print(\"The difference is {maybe}statistically significant.\".format(maybe = \"\" if pval < 0.05 else \"not \"))\n",
    "    return pval\n",
    "\n",
    "smoker_sex_pval = perform_chi2_test(smoker_sex_contingency)"
   ]
  }
 ],
 "metadata": {
  "kernelspec": {
   "display_name": "Python 3",
   "language": "python",
   "name": "python3"
  },
  "language_info": {
   "codemirror_mode": {
    "name": "ipython",
    "version": 3
   },
   "file_extension": ".py",
   "mimetype": "text/x-python",
   "name": "python",
   "nbconvert_exporter": "python",
   "pygments_lexer": "ipython3",
   "version": "3.8.5"
  }
 },
 "nbformat": 4,
 "nbformat_minor": 4
}
