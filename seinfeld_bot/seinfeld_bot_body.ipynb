{
 "cells": [
  {
   "cell_type": "markdown",
   "metadata": {},
   "source": [
    "## Seinfeld-Bot\n",
    "\n",
    "1. Take the `corpus.txt`, create lists that contain the characters' utterances using RegEx."
   ]
  },
  {
   "cell_type": "code",
   "execution_count": 1,
   "metadata": {},
   "outputs": [],
   "source": [
    "import pickle\n",
    "import random\n",
    "from seinfeld_functions import lemmatize_with_pos, bow_sentence, preprocess_sentence, find_closest_in_bow, compare_bows"
   ]
  },
  {
   "cell_type": "code",
   "execution_count": 2,
   "metadata": {},
   "outputs": [
    {
     "name": "stdout",
     "output_type": "stream",
     "text": [
      "\n",
      "        Hello, welcome to Seinfeld-Bot! Here you can chat with a Seinfeld character of your choice.\n",
      "\n",
      "        With whom would you like to chat today?\n",
      ">Elaine\n",
      "What would you like to ask ELAINE?\n",
      "> Do you have a boyfriend?\n",
      "Yes. I spotted him getting his mail. And at first, I was just going to walk on by, but then I thought, \"No no no. No. Do not be afraid of this man.\"\n",
      "> What is your favorite movie?\n",
      "I can't believe we're doing this. This is the kind of thing they do in the movies.\n",
      "> What's up with Jerry being an asshole?\n",
      "Well, a bunch of people are getting together tomorrow night at some bar for her birthday, but... (Jerry turns in disgust) you don't want to go to... that... no.\n",
      "> failure bot\n",
      "Oh, who do you think you are? Castanza?\n",
      "> that is funny\n",
      "Y'know what? This would be a really funny gift for Pamela's birthday.\n",
      "> ok whatever\n",
      "Um, ok, ah well I'll have the, th-ri-rigatoni.\n",
      "> bye\n",
      "Oh, bye. Good to see you.\n",
      "> goodbye\n",
      "Alright then, let's talk to somebody else.\n",
      "\n",
      "        Hello, welcome to Seinfeld-Bot! Here you can chat with a Seinfeld character of your choice.\n",
      "\n",
      "        With whom would you like to chat today?\n",
      ">exit\n",
      "Sorry, what's that again?\n",
      "> exit\n"
     ]
    }
   ],
   "source": [
    "utterances_dictionary = pickle.load(open(\"seinfeld_utterances_dictionary.p\", \"rb\"))\n",
    "bows_dictionary = pickle.load(open(\"seinfeld_bows_dictionary.p\", \"rb\"))\n",
    "total_bows_per_character = pickle.load(open(\"seinfeld_bows_per_character.p\", \"rb\"))\n",
    "\n",
    "exit_commands = [\"stop\", \"enough\", \"i'm done\", \"goodbye\", \"exit\", \"leave\"]\n",
    "\n",
    "user_input_sample = \"Do you love pickles too?\"\n",
    "\n",
    "class SeinfeldBot:\n",
    "    \n",
    "    def stop_convo(self, user_input):\n",
    "        if user_input.lower() in exit_commands:\n",
    "            print(\"Alright then, let's talk to somebody else.\")\n",
    "            return True\n",
    "            \n",
    "    def start_convo(self):\n",
    "        greeting = \"\"\"\n",
    "        Hello, welcome to Seinfeld-Bot! Here you can chat with a Seinfeld character of your choice.\\n\n",
    "        With whom would you like to chat today?\\n>\"\"\"\n",
    "        user_input = input(greeting)\n",
    "        while user_input.lower() not in exit_commands:\n",
    "            if user_input.upper() in total_bows_per_character.keys():\n",
    "                character_name = user_input.upper()\n",
    "                user_input = input(\"What would you like to ask \" + character_name + \"?\\n> \")\n",
    "                self.chat_with_character(user_input, character_name)\n",
    "            elif user_input.lower() in exit_commands:\n",
    "                print(\"Well, see you around then!\")\n",
    "                break\n",
    "            else:\n",
    "                user_input = input(\"Sorry, what's that again?\\n> \")\n",
    "        \n",
    "    def chat_with_character(self, user_input, character_name):\n",
    "        while not self.stop_convo(user_input):\n",
    "            print(self.select_answer(user_input, character_name))\n",
    "            user_input = input(\"> \")\n",
    "        self.start_convo()\n",
    "\n",
    "    def select_answer(self, user_input, character_name):\n",
    "        character_name = character_name.upper()\n",
    "        utterances = utterances_dictionary[character_name]\n",
    "        user_input_bow = bow_sentence(preprocess_sentence(user_input))\n",
    "        # print(user_input_bow)\n",
    "        processed_bow = []\n",
    "        for term in user_input_bow:\n",
    "            if term in total_bows_per_character[character_name]:\n",
    "                processed_bow.append(term)\n",
    "                # print(term)\n",
    "            # else:\n",
    "            #    print(\"Uh, \" + term + \"! That's a tough one. Hold on a second, let me think about that!\")\n",
    "            #    processed_bow.append(find_closest_in_bow(term, total_bows_per_character[character_name], utterances))\n",
    "            #    print(\"I got it, hear this:\")\n",
    "        if len(processed_bow) == 0:\n",
    "            return random.choice(utterances)\n",
    "        bow_comparison_score = 0\n",
    "        bow_index = 0\n",
    "        for characters_bow in bows_dictionary[character_name]:\n",
    "            compared_bows = compare_bows(processed_bow, characters_bow)\n",
    "            if compared_bows[0] > bow_comparison_score:\n",
    "                bow_comparison_score = compared_bows[0]\n",
    "                bow_index = bows_dictionary[character_name].index(characters_bow)\n",
    "        return utterances[bow_index]\n",
    "    \n",
    "botto = SeinfeldBot()\n",
    "botto.start_convo()"
   ]
  }
 ],
 "metadata": {
  "kernelspec": {
   "display_name": "Python 3",
   "language": "python",
   "name": "python3"
  },
  "language_info": {
   "codemirror_mode": {
    "name": "ipython",
    "version": 3
   },
   "file_extension": ".py",
   "mimetype": "text/x-python",
   "name": "python",
   "nbconvert_exporter": "python",
   "pygments_lexer": "ipython3",
   "version": "3.8.5"
  }
 },
 "nbformat": 4,
 "nbformat_minor": 4
}
