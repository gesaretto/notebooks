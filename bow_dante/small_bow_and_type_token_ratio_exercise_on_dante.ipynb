{
 "cells": [
  {
   "cell_type": "code",
   "execution_count": 15,
   "metadata": {},
   "outputs": [
    {
     "name": "stdout",
     "output_type": "stream",
     "text": [
      "Inferno has 34142 total words and 4779 unique words.\n",
      "The type/token ratio of Inferno is 0.13997422529435885\n",
      "Purgatorio has 34053 total words and 4670 unique words.\n",
      "The type/token ratio in Purgatorio is 0.13713916541861215\n",
      "Paradiso has 33410 total words and 4522 unique words.\n",
      "The type/token ratio in Paradiso is 0.13534869799461238\n"
     ]
    }
   ],
   "source": [
    "import re\n",
    "import treetaggerwrapper\n",
    "tagger = treetaggerwrapper.TreeTagger(TAGLANG=\"it\")\n",
    "\n",
    "from canticas import inferno, purgatorio, paradiso\n",
    "\n",
    "# Clean up the text\n",
    "regex_to_remove = r\"\\[[\\w\\W]*?\\]|CANTO\\s[C-X]*\"\n",
    "inferno_text = re.sub(regex_to_remove, \"\", inferno)\n",
    "purgatorio_text = re.sub(regex_to_remove, \"\", purgatorio)\n",
    "paradiso_text = re.sub(regex_to_remove, \"\", paradiso)\n",
    "\n",
    "# Preprocessing: remove punctuation, lemmatize, tokenize\n",
    "def preprocess(text):\n",
    "    lowercase_text = text.lower()\n",
    "    cleaned_text = re.sub(r\"[^\\w\\s]\", \" \", lowercase_text)\n",
    "    tagged_text = treetaggerwrapper.make_tags(tagger.tag_text(cleaned_text))\n",
    "    lemmatized_text = [lemma for word, tag, lemma in tagged_text]\n",
    "    return lemmatized_text\n",
    "\n",
    "preprocessed_inferno = preprocess(inferno_text)\n",
    "preprocessed_purgatorio = preprocess(purgatorio_text)\n",
    "preprocessed_paradiso = preprocess(paradiso_text)\n",
    "\n",
    "tokens_in_inferno = len(preprocessed_inferno)\n",
    "tokens_in_purgatorio = len(preprocessed_purgatorio)\n",
    "tokens_in_paradiso = len(preprocessed_paradiso)\n",
    "\n",
    "bow_inferno = {lemma for lemma in preprocessed_inferno}\n",
    "bow_purgatorio = {lemma for lemma in preprocessed_purgatorio}\n",
    "bow_paradiso = {lemma for lemma in preprocessed_paradiso}\n",
    "\n",
    "types_in_inferno = len(bow_inferno)\n",
    "types_in_purgatorio = len(bow_purgatorio)\n",
    "types_in_paradiso = len(bow_paradiso)\n",
    "\n",
    "print(\"Inferno has\", tokens_in_inferno, \"total words and\", types_in_inferno, \"unique words.\")\n",
    "print(\"The type/token ratio of Inferno is\", types_in_inferno / tokens_in_inferno)\n",
    "print(\"Purgatorio has\", tokens_in_purgatorio, \"total words and\", types_in_purgatorio, \"unique words.\")\n",
    "print(\"The type/token ratio in Purgatorio is\", types_in_purgatorio / tokens_in_purgatorio)\n",
    "print(\"Paradiso has\", tokens_in_paradiso, \"total words and\", types_in_paradiso, \"unique words.\")\n",
    "print(\"The type/token ratio in Paradiso is\", types_in_paradiso / tokens_in_paradiso)"
   ]
  }
 ],
 "metadata": {
  "kernelspec": {
   "display_name": "Python 3",
   "language": "python",
   "name": "python3"
  },
  "language_info": {
   "codemirror_mode": {
    "name": "ipython",
    "version": 3
   },
   "file_extension": ".py",
   "mimetype": "text/x-python",
   "name": "python",
   "nbconvert_exporter": "python",
   "pygments_lexer": "ipython3",
   "version": "3.8.5"
  }
 },
 "nbformat": 4,
 "nbformat_minor": 4
}
