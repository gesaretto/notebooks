{
 "cells": [
  {
   "cell_type": "code",
   "execution_count": 1,
   "metadata": {},
   "outputs": [
    {
     "name": "stdout",
     "output_type": "stream",
     "text": [
      "Pippo mangia\n",
      "Parecchia spazzatura.\n",
      " picchiare Pippo.\n",
      "Topolino adora \n",
      "i fagioli. adora \n",
      "Pippo adora \n",
      "le prugne. adora \n",
      "Pluto adora \n",
      "il cappellino di Pippo. adora \n",
      "['Pluto', 'mangia', 'il', 'cappellino', 'di', 'Pippo.']\n"
     ]
    }
   ],
   "source": [
    "string = \"Pippo mangia. Parecchia spazzatura.\"\n",
    "sent_1, sent_2 = string.split(\". \")\n",
    "print(sent_1)\n",
    "print(sent_2)\n",
    "\n",
    "story = \"\"\"Topolino adora\\n le verze con il cavolo\\n e in più gli piace\\n picchiare Pippo.\"\"\"\n",
    "\n",
    "story_1, story_2, story_3, story_4 = story.split(\"\\n\")\n",
    "\n",
    "print(story_4)\n",
    "\n",
    "string_2 = \"Topolino mangia i fagioli.\"\n",
    "string_3 = \"Pippo mangia le prugne.\"\n",
    "string_4 = \"Pluto mangia il cappellino di Pippo.\"\n",
    "\n",
    "strings = [string_2, string_3, string_4]\n",
    "\n",
    "for string in strings:\n",
    "    for mangiatore in string.split(\" mangia \"):\n",
    "        print(mangiatore + \" adora \")\n",
    "\n",
    "print(string_4.split())"
   ]
  },
  {
   "cell_type": "code",
   "execution_count": 2,
   "metadata": {},
   "outputs": [
    {
     "name": "stdout",
     "output_type": "stream",
     "text": [
      "Pluto\n"
     ]
    }
   ],
   "source": [
    "listino = [[\"Pippo\", \"Pluto\", \"Topolino\"], [\"Dotto\", \"Cucciolo\", \"Pisolo\"]]\n",
    "\n",
    "print(listino[0][1])\n"
   ]
  },
  {
   "cell_type": "code",
   "execution_count": 3,
   "metadata": {},
   "outputs": [
    {
     "name": "stdout",
     "output_type": "stream",
     "text": [
      "0  bella  ('pippo', 'topolino')\n",
      "1  bella  ('banana', 'nascondere')\n",
      "2  bella  ('pippo', 'i nipotini')\n",
      "3  bella  ('pluto', 'zia minni')\n",
      "[(0, 'pippo'), (1, 'banana'), (2, 'pippo'), (3, 'pluto'), (4, 'sberle')]\n",
      "<enumerate object at 0x00000190ABC65AC0>\n",
      "pippo\n",
      "banana\n",
      "pippo\n",
      "pluto\n",
      "sberle\n"
     ]
    }
   ],
   "source": [
    "lista_segreta = [\"pippo\", \"banana\", \"pippo\", \"pluto\", \"sberle\"]\n",
    "lista_numero_due = [\"topolino\", \"nascondere\", \"i nipotini\", \"zia minni\"]\n",
    "zippo = enumerate(zip(lista_segreta, lista_numero_due))\n",
    "for uno, due in zippo:\n",
    "    print(uno, \" bella \", due)\n",
    "print([(numero, oggetto) for numero, oggetto in enumerate(lista_segreta)])\n",
    "numerosa = enumerate(lista_segreta)\n",
    "print(numerosa)\n",
    "for i, a in numerosa:\n",
    "    print(a)"
   ]
  }
 ],
 "metadata": {
  "kernelspec": {
   "display_name": "Python 3",
   "language": "python",
   "name": "python3"
  },
  "language_info": {
   "codemirror_mode": {
    "name": "ipython",
    "version": 3
   },
   "file_extension": ".py",
   "mimetype": "text/x-python",
   "name": "python",
   "nbconvert_exporter": "python",
   "pygments_lexer": "ipython3",
   "version": "3.8.5"
  }
 },
 "nbformat": 4,
 "nbformat_minor": 4
}
