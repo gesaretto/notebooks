{
 "cells": [
  {
   "cell_type": "markdown",
   "metadata": {},
   "source": [
    "# Managing Lists: Pizza Parlor Exercise"
   ]
  },
  {
   "cell_type": "code",
   "execution_count": 1,
   "metadata": {},
   "outputs": [
    {
     "name": "stdout",
     "output_type": "stream",
     "text": [
      "We sell 7 different kinds of pizza!\n",
      "[(2, 'pepperoni'), (6, 'pineapple'), (1, 'cheese'), (3, 'sausage'), (2, 'olives'), (7, 'anchovies'), (2, 'mushrooms')]\n",
      "[(1, 'cheese'), (2, 'mushrooms'), (2, 'olives'), (2, 'pepperoni'), (3, 'sausage'), (6, 'pineapple'), (7, 'anchovies')]\n",
      "(1, 'cheese')\n",
      "(7, 'anchovies')\n",
      "[(1, 'cheese'), (2, 'mushrooms'), (2, 'olives')]\n",
      "3\n"
     ]
    }
   ],
   "source": [
    "## The Lists of Pizza Stuff\n",
    "toppings = [\"pepperoni\", \"pineapple\", \"cheese\", \"sausage\", \"olives\", \"anchovies\", \"mushrooms\"]\n",
    "prices = [2, 6, 1, 3, 2, 7, 2]\n",
    "\n",
    "## How many pizzas?\n",
    "num_pizzas = len(toppings)\n",
    "print(\"We sell\", num_pizzas, \"different kinds of pizza!\")\n",
    "\n",
    "## Combining slices and prices\n",
    "pizzas = list(zip(prices, toppings))\n",
    "print(pizzas)\n",
    "\n",
    "## Sorting pizzas\n",
    "pizzas.sort()\n",
    "print(pizzas)\n",
    "\n",
    "## Selecting pizzas\n",
    "### The cheapest (first)\n",
    "cheapest_pizza = pizzas[0]\n",
    "print(cheapest_pizza)\n",
    "### The most expensive (last)\n",
    "priciest_pizza = pizzas[-1]\n",
    "print(priciest_pizza)\n",
    "\n",
    "## Slicing\n",
    "### Three cheapest (first three)\n",
    "three_cheapest = pizzas[:3]\n",
    "print(three_cheapest)\n",
    "\n",
    "## Counting\n",
    "### How many in a list?\n",
    "num_two_dollar_slices = prices.count(2)\n",
    "print(num_two_dollar_slices)"
   ]
  }
 ],
 "metadata": {
  "kernelspec": {
   "display_name": "Python 3",
   "language": "python",
   "name": "python3"
  },
  "language_info": {
   "codemirror_mode": {
    "name": "ipython",
    "version": 3
   },
   "file_extension": ".py",
   "mimetype": "text/x-python",
   "name": "python",
   "nbconvert_exporter": "python",
   "pygments_lexer": "ipython3",
   "version": "3.8.5"
  }
 },
 "nbformat": 4,
 "nbformat_minor": 4
}
