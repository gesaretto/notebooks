{
 "cells": [
  {
   "cell_type": "markdown",
   "metadata": {},
   "source": [
    "# Lists in Python: Gradebook Exercise"
   ]
  },
  {
   "cell_type": "code",
   "execution_count": 1,
   "metadata": {},
   "outputs": [
    {
     "name": "stdout",
     "output_type": "stream",
     "text": [
      "[('physics', 98), ('calculus', 97), ('poetry', 85), ('history', 88), ('computer science', 100), ('visual arts', 93)]\n",
      "[('politics', 80), ('latin', 96), ('dance', 97), ('architecture', 65), ('physics', 98), ('calculus', 97), ('poetry', 85), ('history', 88), ('computer science', 100), ('visual arts', 93)]\n"
     ]
    }
   ],
   "source": [
    "last_semester_gradebook = [(\"politics\", 80), (\"latin\", 96), (\"dance\", 97), (\"architecture\", 65)]\n",
    "\n",
    "## The original gradebook\n",
    "subjects = [\"physics\", \"calculus\", \"poetry\", \"history\"]\n",
    "grades = [98, 97, 85, 88]\n",
    "\n",
    "## A new grade is added\n",
    "subjects.append(\"computer science\")\n",
    "grades.append(100)\n",
    "\n",
    "gradebook = list(zip(subjects, grades))\n",
    "\n",
    "## A new grade is added\n",
    "gradebook.append((\"visual arts\", 93))\n",
    "\n",
    "## Testing the gradebook\n",
    "print(gradebook)\n",
    "\n",
    "## The complete works\n",
    "full_gradebook = last_semester_gradebook + gradebook\n",
    "print(full_gradebook)"
   ]
  }
 ],
 "metadata": {
  "kernelspec": {
   "display_name": "Python 3",
   "language": "python",
   "name": "python3"
  },
  "language_info": {
   "codemirror_mode": {
    "name": "ipython",
    "version": 3
   },
   "file_extension": ".py",
   "mimetype": "text/x-python",
   "name": "python",
   "nbconvert_exporter": "python",
   "pygments_lexer": "ipython3",
   "version": "3.8.5"
  }
 },
 "nbformat": 4,
 "nbformat_minor": 4
}
