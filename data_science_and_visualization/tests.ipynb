{
 "cells": [
  {
   "cell_type": "code",
   "execution_count": 3,
   "id": "7322e0c9",
   "metadata": {},
   "outputs": [
    {
     "data": {
      "image/png": "[encoded data removed]",
      "text/plain": [
       "<Figure size 432x288 with 1 Axes>"
      ]
     },
     "metadata": {
      "needs_background": "light"
     },
     "output_type": "display_data"
    }
   ],
   "source": [
    "from matplotlib import pyplot as plt\n",
    "\n",
    "drinks = [\"cappuccino\", \"latte\", \"chai\", \"americano\", \"mocha\", \"espresso\"]\n",
    "sales1 =  [91, 76, 56, 66, 52, 27]\n",
    "sales2 = [65, 82, 36, 68, 38, 40]\n",
    "sales3 = [80, 62, 61, 53, 43, 57]\n",
    "sales4 = [50, 41, 33, 18, 11, 65]\n",
    "\n",
    "#Paste the x_values code here\n",
    "n = 1  # This is our first dataset (out of 2)\n",
    "t = 2 # Number of datasets\n",
    "d = len(sales1) # Number of sets of bars\n",
    "w = 0.8 # Width of each bar\n",
    "store1_x = [t*element + w*n for element\n",
    "             in range(d)]\n",
    "\n",
    "n = 2  # This is our first dataset (out of 2)\n",
    "t = 2 # Number of datasets\n",
    "d = len(sales2) # Number of sets of bars\n",
    "w = 0.8 # Width of each bar\n",
    "store2_x = [t*element + w*n for element\n",
    "             in range(d)]\n",
    "\n",
    "'''\n",
    "# 3*1 + 0.8*2 = 3 + 1.6 = 4.6\n",
    "# INTERVAL + DIFF_IN_STARTING_POINT\n",
    "# 3*2 + 0.8*2 = 6 + 1.6 = 7.6\n",
    "# 10.6\n",
    "# 13.6 ...\n",
    "\n",
    "n = 3  # This is our first dataset (out of 2)\n",
    "t = 4 # Number of datasets\n",
    "d = len(sales3) # Number of sets of bars\n",
    "w = 0.8 # Width of each bar\n",
    "store3_x = [t*element + w*n for element\n",
    "             in range(d)]\n",
    "\n",
    "n = 4  # This is our first dataset (out of 2)\n",
    "t = 4 # Number of datasets\n",
    "d = len(sales4) # Number of sets of bars\n",
    "w = 0.8 # Width of each bar\n",
    "store4_x = [t*element + w*n for element\n",
    "             in range(d)]\n",
    "\n",
    "# 3*1 + 0.8*3 = 3 + 2.4 = 5.4\n",
    "# 3*2 + 0.8*3 = 6 + 2.4 = 8.4\n",
    "# 11.4\n",
    "# 14.4 ...\n",
    "\n",
    "# MIDPOINT BETWEEN 5.4 and 3.8 = 1.6\n",
    "1.5, 2, \n",
    "'''\n",
    "\n",
    "x_ticks = [t*element + (w * (t + 1) * .5) for element in range(d)]\n",
    "\n",
    "plt.bar(store1_x, sales1)\n",
    "plt.bar(store2_x, sales2)\n",
    "# plt.bar(store3_x, sales3)\n",
    "# plt.bar(store4_x, sales4)\n",
    "\n",
    "ax = plt.subplot()\n",
    "ax.set_xticks(x_ticks)\n",
    "ax.set_xticklabels(drinks)\n",
    "\n",
    "plt.show()"
   ]
  },
  {
   "cell_type": "code",
   "execution_count": 1,
   "id": "3248c224",
   "metadata": {},
   "outputs": [],
   "source": [
    "number = 30000000"
   ]
  },
  {
   "cell_type": "code",
   "execution_count": 2,
   "id": "0ed7f6f4",
   "metadata": {},
   "outputs": [
    {
     "name": "stdout",
     "output_type": "stream",
     "text": [
      "30000000\n"
     ]
    }
   ],
   "source": [
    "print(number)"
   ]
  },
  {
   "cell_type": "code",
   "execution_count": 3,
   "id": "cb9e2259",
   "metadata": {},
   "outputs": [
    {
     "name": "stdout",
     "output_type": "stream",
     "text": [
      "30000000\n"
     ]
    }
   ],
   "source": [
    "print(f\"{number}\")"
   ]
  },
  {
   "cell_type": "code",
   "execution_count": 6,
   "id": "e6ac8a18",
   "metadata": {},
   "outputs": [
    {
     "ename": "TypeError",
     "evalue": "format() argument 2 must be str, not int",
     "output_type": "error",
     "traceback": [
      "\u001b[1;31m---------------------------------------------------------------------------\u001b[0m",
      "\u001b[1;31mTypeError\u001b[0m                                 Traceback (most recent call last)",
      "\u001b[1;32m<ipython-input-6-f3186f77a2ba>\u001b[0m in \u001b[0;36m<module>\u001b[1;34m\u001b[0m\n\u001b[1;32m----> 1\u001b[1;33m \u001b[0mprint\u001b[0m\u001b[1;33m(\u001b[0m\u001b[0mformat\u001b[0m\u001b[1;33m(\u001b[0m\u001b[1;34m\"{:+f}\"\u001b[0m\u001b[1;33m,\u001b[0m \u001b[0mnumber\u001b[0m\u001b[1;33m)\u001b[0m\u001b[1;33m)\u001b[0m\u001b[1;33m\u001b[0m\u001b[1;33m\u001b[0m\u001b[0m\n\u001b[0m",
      "\u001b[1;31mTypeError\u001b[0m: format() argument 2 must be str, not int"
     ]
    }
   ],
   "source": []
  }
 ],
 "metadata": {
  "kernelspec": {
   "display_name": "Python 3",
   "language": "python",
   "name": "python3"
  },
  "language_info": {
   "codemirror_mode": {
    "name": "ipython",
    "version": 3
   },
   "file_extension": ".py",
   "mimetype": "text/x-python",
   "name": "python",
   "nbconvert_exporter": "python",
   "pygments_lexer": "ipython3",
   "version": "3.9.5"
  }
 },
 "nbformat": 4,
 "nbformat_minor": 5
}
