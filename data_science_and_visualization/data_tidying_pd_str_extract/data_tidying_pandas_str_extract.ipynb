{
 "cells": [
  {
   "cell_type": "code",
   "execution_count": 1,
   "metadata": {},
   "outputs": [
    {
     "name": "stdout",
     "output_type": "stream",
     "text": [
      "  Country Feature  Observation\n",
      "0     AUS     pop        24.99\n",
      "1     AUS     age        37.00\n",
      "2     AUS     inc     65687.00\n",
      "3     BEL     pop        11.46\n",
      "4     BEL     age        41.30\n"
     ]
    }
   ],
   "source": [
    "import pandas as pd\n",
    "\n",
    "country = pd.read_csv(\"country.csv\")\n",
    "\n",
    "# Extract Country abbreviation and Feature from 'Country_Feature' using regular expressions\n",
    "sep = country[\"Country_Feature\"].str.extract(\n",
    "  r\"([A-Z]+)([a-z]+)\")\n",
    "\n",
    "# Name Columns \"Country\" and \"Feature\"\n",
    "sep.columns = [\"Country\", \"Feature\"]\n",
    "\n",
    "# Merge country and sep\n",
    "country = pd.concat([country, sep], axis = 1)\n",
    "\n",
    "# Drop 'Country_Feature' column\n",
    "country = country.drop([\"Country_Feature\"], axis = 1)\n",
    "\n",
    "# Sort Columns to 'Country', 'Feature', and 'Observation'\n",
    "country = country[[\"Country\", \"Feature\", \"Observation\"]]\n",
    "\n",
    "# Print country\n",
    "print(country)"
   ]
  }
 ],
 "metadata": {
  "kernelspec": {
   "display_name": "Python 3",
   "language": "python",
   "name": "python3"
  },
  "language_info": {
   "codemirror_mode": {
    "name": "ipython",
    "version": 3
   },
   "file_extension": ".py",
   "mimetype": "text/x-python",
   "name": "python",
   "nbconvert_exporter": "python",
   "pygments_lexer": "ipython3",
   "version": "3.9.5"
  }
 },
 "nbformat": 4,
 "nbformat_minor": 4
}
