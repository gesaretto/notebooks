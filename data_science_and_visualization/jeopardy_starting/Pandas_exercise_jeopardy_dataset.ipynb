{
 "cells": [
  {
   "cell_type": "markdown",
   "metadata": {},
   "source": [
    "# Pandas Exercise: Jeopardy Dataset"
   ]
  },
  {
   "cell_type": "markdown",
   "metadata": {},
   "source": [
    "### Preliminary Settings\n",
    "\n",
    "First of all, I'll download the dataset from [Kaggle](https://www.kaggle.com/tunguz/200000-jeopardy-questions) using their dedicated API."
   ]
  },
  {
   "cell_type": "code",
   "execution_count": 1,
   "metadata": {},
   "outputs": [],
   "source": [
    "from kaggle.api.kaggle_api_extended import KaggleApi\n",
    "api = KaggleApi()\n",
    "api.authenticate()\n",
    "api.dataset_download_files('tunguz/200000-jeopardy-questions', unzip=True)"
   ]
  },
  {
   "cell_type": "markdown",
   "metadata": {},
   "source": [
    "Let's start by loading the .csv file into a pandas DataFrame. I'll import pandas and use its `read_csv` function."
   ]
  },
  {
   "cell_type": "code",
   "execution_count": 2,
   "metadata": {},
   "outputs": [],
   "source": [
    "import pandas as pd\n",
    "import matplotlib.pyplot as plt\n",
    "pd.set_option('display.max_colwidth', None)\n",
    "df = pd.read_csv(\"JEOPARDY_CSV.csv\")"
   ]
  },
  {
   "cell_type": "markdown",
   "metadata": {},
   "source": [
    "Let's examine the file."
   ]
  },
  {
   "cell_type": "code",
   "execution_count": 3,
   "metadata": {},
   "outputs": [
    {
     "data": {
      "text/html": [
       "<div>\n",
       "<style scoped>\n",
       "    .dataframe tbody tr th:only-of-type {\n",
       "        vertical-align: middle;\n",
       "    }\n",
       "\n",
       "    .dataframe tbody tr th {\n",
       "        vertical-align: top;\n",
       "    }\n",
       "\n",
       "    .dataframe thead th {\n",
       "        text-align: right;\n",
       "    }\n",
       "</style>\n",
       "<table border=\"1\" class=\"dataframe\">\n",
       "  <thead>\n",
       "    <tr style=\"text-align: right;\">\n",
       "      <th></th>\n",
       "      <th>Show Number</th>\n",
       "      <th>Air Date</th>\n",
       "      <th>Round</th>\n",
       "      <th>Category</th>\n",
       "      <th>Value</th>\n",
       "      <th>Question</th>\n",
       "      <th>Answer</th>\n",
       "    </tr>\n",
       "  </thead>\n",
       "  <tbody>\n",
       "    <tr>\n",
       "      <th>0</th>\n",
       "      <td>4680</td>\n",
       "      <td>2004-12-31</td>\n",
       "      <td>Jeopardy!</td>\n",
       "      <td>HISTORY</td>\n",
       "      <td>$200</td>\n",
       "      <td>For the last 8 years of his life, Galileo was under house arrest for espousing this man's theory</td>\n",
       "      <td>Copernicus</td>\n",
       "    </tr>\n",
       "    <tr>\n",
       "      <th>1</th>\n",
       "      <td>4680</td>\n",
       "      <td>2004-12-31</td>\n",
       "      <td>Jeopardy!</td>\n",
       "      <td>ESPN's TOP 10 ALL-TIME ATHLETES</td>\n",
       "      <td>$200</td>\n",
       "      <td>No. 2: 1912 Olympian; football star at Carlisle Indian School; 6 MLB seasons with the Reds, Giants &amp; Braves</td>\n",
       "      <td>Jim Thorpe</td>\n",
       "    </tr>\n",
       "    <tr>\n",
       "      <th>2</th>\n",
       "      <td>4680</td>\n",
       "      <td>2004-12-31</td>\n",
       "      <td>Jeopardy!</td>\n",
       "      <td>EVERYBODY TALKS ABOUT IT...</td>\n",
       "      <td>$200</td>\n",
       "      <td>The city of Yuma in this state has a record average of 4,055 hours of sunshine each year</td>\n",
       "      <td>Arizona</td>\n",
       "    </tr>\n",
       "    <tr>\n",
       "      <th>3</th>\n",
       "      <td>4680</td>\n",
       "      <td>2004-12-31</td>\n",
       "      <td>Jeopardy!</td>\n",
       "      <td>THE COMPANY LINE</td>\n",
       "      <td>$200</td>\n",
       "      <td>In 1963, live on \"The Art Linkletter Show\", this company served its billionth burger</td>\n",
       "      <td>McDonald's</td>\n",
       "    </tr>\n",
       "    <tr>\n",
       "      <th>4</th>\n",
       "      <td>4680</td>\n",
       "      <td>2004-12-31</td>\n",
       "      <td>Jeopardy!</td>\n",
       "      <td>EPITAPHS &amp; TRIBUTES</td>\n",
       "      <td>$200</td>\n",
       "      <td>Signer of the Dec. of Indep., framer of the Constitution of Mass., second President of the United States</td>\n",
       "      <td>John Adams</td>\n",
       "    </tr>\n",
       "  </tbody>\n",
       "</table>\n",
       "</div>"
      ],
      "text/plain": [
       "   Show Number    Air Date      Round                         Category  Value  \\\n",
       "0         4680  2004-12-31  Jeopardy!                          HISTORY   $200   \n",
       "1         4680  2004-12-31  Jeopardy!  ESPN's TOP 10 ALL-TIME ATHLETES   $200   \n",
       "2         4680  2004-12-31  Jeopardy!      EVERYBODY TALKS ABOUT IT...   $200   \n",
       "3         4680  2004-12-31  Jeopardy!                 THE COMPANY LINE   $200   \n",
       "4         4680  2004-12-31  Jeopardy!              EPITAPHS & TRIBUTES   $200   \n",
       "\n",
       "                                                                                                      Question  \\\n",
       "0             For the last 8 years of his life, Galileo was under house arrest for espousing this man's theory   \n",
       "1  No. 2: 1912 Olympian; football star at Carlisle Indian School; 6 MLB seasons with the Reds, Giants & Braves   \n",
       "2                     The city of Yuma in this state has a record average of 4,055 hours of sunshine each year   \n",
       "3                         In 1963, live on \"The Art Linkletter Show\", this company served its billionth burger   \n",
       "4     Signer of the Dec. of Indep., framer of the Constitution of Mass., second President of the United States   \n",
       "\n",
       "       Answer  \n",
       "0  Copernicus  \n",
       "1  Jim Thorpe  \n",
       "2     Arizona  \n",
       "3  McDonald's  \n",
       "4  John Adams  "
      ]
     },
     "execution_count": 3,
     "metadata": {},
     "output_type": "execute_result"
    }
   ],
   "source": [
    "df.head()"
   ]
  },
  {
   "cell_type": "markdown",
   "metadata": {},
   "source": [
    "There seems to be a problem of empty spaces in the column names. Let's use `.split()` to fix it."
   ]
  },
  {
   "cell_type": "code",
   "execution_count": 4,
   "metadata": {},
   "outputs": [
    {
     "name": "stdout",
     "output_type": "stream",
     "text": [
      "Index(['Show Number', ' Air Date', ' Round', ' Category', ' Value',\n",
      "       ' Question', ' Answer'],\n",
      "      dtype='object')\n"
     ]
    }
   ],
   "source": [
    "print(df.columns)"
   ]
  },
  {
   "cell_type": "code",
   "execution_count": 5,
   "metadata": {},
   "outputs": [
    {
     "name": "stdout",
     "output_type": "stream",
     "text": [
      "Index(['Show Number', 'Air Date', 'Round', 'Category', 'Value', 'Question',\n",
      "       'Answer'],\n",
      "      dtype='object')\n"
     ]
    },
    {
     "data": {
      "text/html": [
       "<div>\n",
       "<style scoped>\n",
       "    .dataframe tbody tr th:only-of-type {\n",
       "        vertical-align: middle;\n",
       "    }\n",
       "\n",
       "    .dataframe tbody tr th {\n",
       "        vertical-align: top;\n",
       "    }\n",
       "\n",
       "    .dataframe thead th {\n",
       "        text-align: right;\n",
       "    }\n",
       "</style>\n",
       "<table border=\"1\" class=\"dataframe\">\n",
       "  <thead>\n",
       "    <tr style=\"text-align: right;\">\n",
       "      <th></th>\n",
       "      <th>Show Number</th>\n",
       "      <th>Air Date</th>\n",
       "      <th>Round</th>\n",
       "      <th>Category</th>\n",
       "      <th>Value</th>\n",
       "      <th>Question</th>\n",
       "      <th>Answer</th>\n",
       "    </tr>\n",
       "  </thead>\n",
       "  <tbody>\n",
       "    <tr>\n",
       "      <th>0</th>\n",
       "      <td>4680</td>\n",
       "      <td>2004-12-31</td>\n",
       "      <td>Jeopardy!</td>\n",
       "      <td>HISTORY</td>\n",
       "      <td>$200</td>\n",
       "      <td>For the last 8 years of his life, Galileo was under house arrest for espousing this man's theory</td>\n",
       "      <td>Copernicus</td>\n",
       "    </tr>\n",
       "    <tr>\n",
       "      <th>1</th>\n",
       "      <td>4680</td>\n",
       "      <td>2004-12-31</td>\n",
       "      <td>Jeopardy!</td>\n",
       "      <td>ESPN's TOP 10 ALL-TIME ATHLETES</td>\n",
       "      <td>$200</td>\n",
       "      <td>No. 2: 1912 Olympian; football star at Carlisle Indian School; 6 MLB seasons with the Reds, Giants &amp; Braves</td>\n",
       "      <td>Jim Thorpe</td>\n",
       "    </tr>\n",
       "    <tr>\n",
       "      <th>2</th>\n",
       "      <td>4680</td>\n",
       "      <td>2004-12-31</td>\n",
       "      <td>Jeopardy!</td>\n",
       "      <td>EVERYBODY TALKS ABOUT IT...</td>\n",
       "      <td>$200</td>\n",
       "      <td>The city of Yuma in this state has a record average of 4,055 hours of sunshine each year</td>\n",
       "      <td>Arizona</td>\n",
       "    </tr>\n",
       "    <tr>\n",
       "      <th>3</th>\n",
       "      <td>4680</td>\n",
       "      <td>2004-12-31</td>\n",
       "      <td>Jeopardy!</td>\n",
       "      <td>THE COMPANY LINE</td>\n",
       "      <td>$200</td>\n",
       "      <td>In 1963, live on \"The Art Linkletter Show\", this company served its billionth burger</td>\n",
       "      <td>McDonald's</td>\n",
       "    </tr>\n",
       "    <tr>\n",
       "      <th>4</th>\n",
       "      <td>4680</td>\n",
       "      <td>2004-12-31</td>\n",
       "      <td>Jeopardy!</td>\n",
       "      <td>EPITAPHS &amp; TRIBUTES</td>\n",
       "      <td>$200</td>\n",
       "      <td>Signer of the Dec. of Indep., framer of the Constitution of Mass., second President of the United States</td>\n",
       "      <td>John Adams</td>\n",
       "    </tr>\n",
       "  </tbody>\n",
       "</table>\n",
       "</div>"
      ],
      "text/plain": [
       "   Show Number    Air Date      Round                         Category Value  \\\n",
       "0         4680  2004-12-31  Jeopardy!                          HISTORY  $200   \n",
       "1         4680  2004-12-31  Jeopardy!  ESPN's TOP 10 ALL-TIME ATHLETES  $200   \n",
       "2         4680  2004-12-31  Jeopardy!      EVERYBODY TALKS ABOUT IT...  $200   \n",
       "3         4680  2004-12-31  Jeopardy!                 THE COMPANY LINE  $200   \n",
       "4         4680  2004-12-31  Jeopardy!              EPITAPHS & TRIBUTES  $200   \n",
       "\n",
       "                                                                                                      Question  \\\n",
       "0             For the last 8 years of his life, Galileo was under house arrest for espousing this man's theory   \n",
       "1  No. 2: 1912 Olympian; football star at Carlisle Indian School; 6 MLB seasons with the Reds, Giants & Braves   \n",
       "2                     The city of Yuma in this state has a record average of 4,055 hours of sunshine each year   \n",
       "3                         In 1963, live on \"The Art Linkletter Show\", this company served its billionth burger   \n",
       "4     Signer of the Dec. of Indep., framer of the Constitution of Mass., second President of the United States   \n",
       "\n",
       "       Answer  \n",
       "0  Copernicus  \n",
       "1  Jim Thorpe  \n",
       "2     Arizona  \n",
       "3  McDonald's  \n",
       "4  John Adams  "
      ]
     },
     "execution_count": 5,
     "metadata": {},
     "output_type": "execute_result"
    }
   ],
   "source": [
    "df.rename(columns = {column_name : column_name.strip() for column_name in df.columns}, inplace = True)\n",
    "print(df.columns)\n",
    "df.head()"
   ]
  },
  {
   "cell_type": "markdown",
   "metadata": {},
   "source": [
    "### Question Searcher and Filter\n",
    "\n",
    "Let's create a function that looks up certain questions based on a list of words. This function takes in a list of words and then returns only those rows where all words from the list are found in the \"Question\" column.\n",
    "Please note that some fiddling was required in order to make the filter work regardless of capitalization (list comprehensions that use the `.lower()` function and, in the case of the question string, the `.split()` function).\n",
    "The essential formula to check whether all the words in a list appear in a string is:\n",
    "```\n",
    "all([word in string for word in list])\n",
    "```\n",
    "The function `all()` returns a boolean based on whether all values in a list are True or not."
   ]
  },
  {
   "cell_type": "code",
   "execution_count": 6,
   "metadata": {},
   "outputs": [],
   "source": [
    "def filter_questions(wordlist):\n",
    "    return df[df.apply(lambda row: all([\n",
    "        word in [string.lower() for string in row[\"Question\"].split(\" \")] for word in [string.lower() for string in wordlist]\n",
    "    ]), axis = 1)]"
   ]
  },
  {
   "cell_type": "markdown",
   "metadata": {},
   "source": [
    "Let's test the function."
   ]
  },
  {
   "cell_type": "code",
   "execution_count": 7,
   "metadata": {},
   "outputs": [
    {
     "name": "stdout",
     "output_type": "stream",
     "text": [
      "        Show Number    Air Date             Round                    Category  \\\n",
      "40             4680  2004-12-31  Double Jeopardy!  DR. SEUSS AT THE MULTIPLEX   \n",
      "781            4335  2003-06-06         Jeopardy!                   MY PLACE?   \n",
      "811            4335  2003-06-06  Double Jeopardy!                 \"S\"-OTERICA   \n",
      "846            4541  2004-05-10         Jeopardy!                 U.S. STATES   \n",
      "896            3834  2001-04-12         Jeopardy!          AIN'T THAT AMERICA   \n",
      "...             ...         ...               ...                         ...   \n",
      "216232         1251  1990-01-29         Jeopardy!                THANKS, GUYS   \n",
      "216445         3644  2000-06-08   Final Jeopardy!                   THE BIBLE   \n",
      "216612         2046  1993-06-28  Double Jeopardy!             BIBLICAL PEOPLE   \n",
      "216752         5070  2006-09-29         Jeopardy!                 SIGNING OFF   \n",
      "216777         5070  2006-09-29  Double Jeopardy!             ANCIENT HISTORY   \n",
      "\n",
      "        Value  \\\n",
      "40      $1200   \n",
      "781      $200   \n",
      "811      $400   \n",
      "846      $400   \n",
      "896      $200   \n",
      "...       ...   \n",
      "216232   $400   \n",
      "216445   None   \n",
      "216612   $600   \n",
      "216752   $200   \n",
      "216777   $400   \n",
      "\n",
      "                                                                                                                                                                                 Question  \\\n",
      "40      <a href=\"http://www.j-archive.com/media/2004-12-31_DJ_26.mp3\">Ripped from today's headlines, he was a turtle king gone mad; Mack was the one good turtle who'd bring him down</a>   \n",
      "781                                                                                                              A Norman could say, \"I'm the king of the motte-and-bailey style of\" this   \n",
      "811                                                                                                        Examples of this TV format include \"Leave It to Beaver\" & \"The King of Queens\"   \n",
      "846                                                                                                                                      It's the only U.S. state named for a French king   \n",
      "896                                                                                                              This state was named for a man who was a European king from 1643 to 1715   \n",
      "...                                                                                                                                                                                   ...   \n",
      "216232                                                                                                            When we need to know about this, the King of Beers, we call Mary McHugh   \n",
      "216445                                                                                               According to the King James Version of the Bible, the number of people on Noah's Ark   \n",
      "216612                                                                                                                             Her 2 husbands were Uriah the Hittite & David the king   \n",
      "216752                                                                       Upon signing his name in 1776 he said, \"There, King George will be able to read that without his spectacles\"   \n",
      "216777                                                                 The first one of these tombs was built about 2650 B.C. by Imhotep for King Zoser & rose about 200 feet using steps   \n",
      "\n",
      "                                   Answer  \n",
      "40                                 Yertle  \n",
      "781                                castle  \n",
      "811                                sitcom  \n",
      "846                             Louisiana  \n",
      "896                             Louisiana  \n",
      "...                                   ...  \n",
      "216232                          Budweiser  \n",
      "216445                                  8  \n",
      "216612                          Bathsheba  \n",
      "216752                     (John) Hancock  \n",
      "216777  a pyramid (the pyramids accepted)  \n",
      "\n",
      "[2075 rows x 7 columns]\n"
     ]
    }
   ],
   "source": [
    "kingly_wordlist = [\"king\"]\n",
    "kingly_jeopardy = filter_questions(kingly_wordlist)\n",
    "print(kingly_jeopardy)"
   ]
  },
  {
   "cell_type": "markdown",
   "metadata": {},
   "source": [
    "### Calculating Average Cost for Certain Topics\n",
    "\n",
    "To help with the following statistical calculations, let's convert the values contained in the \"Value\" column into floats (they're currently strings).\n",
    "Note that we need to fiddle with the data "
   ]
  },
  {
   "cell_type": "code",
   "execution_count": 8,
   "metadata": {},
   "outputs": [
    {
     "name": "stdout",
     "output_type": "stream",
     "text": [
      "   Show Number    Air Date      Round                         Category  Value  \\\n",
      "0         4680  2004-12-31  Jeopardy!                          HISTORY  200.0   \n",
      "1         4680  2004-12-31  Jeopardy!  ESPN's TOP 10 ALL-TIME ATHLETES  200.0   \n",
      "2         4680  2004-12-31  Jeopardy!      EVERYBODY TALKS ABOUT IT...  200.0   \n",
      "3         4680  2004-12-31  Jeopardy!                 THE COMPANY LINE  200.0   \n",
      "4         4680  2004-12-31  Jeopardy!              EPITAPHS & TRIBUTES  200.0   \n",
      "\n",
      "                                                                                                      Question  \\\n",
      "0             For the last 8 years of his life, Galileo was under house arrest for espousing this man's theory   \n",
      "1  No. 2: 1912 Olympian; football star at Carlisle Indian School; 6 MLB seasons with the Reds, Giants & Braves   \n",
      "2                     The city of Yuma in this state has a record average of 4,055 hours of sunshine each year   \n",
      "3                         In 1963, live on \"The Art Linkletter Show\", this company served its billionth burger   \n",
      "4     Signer of the Dec. of Indep., framer of the Constitution of Mass., second President of the United States   \n",
      "\n",
      "       Answer  \n",
      "0  Copernicus  \n",
      "1  Jim Thorpe  \n",
      "2     Arizona  \n",
      "3  McDonald's  \n",
      "4  John Adams  \n"
     ]
    }
   ],
   "source": [
    "df[\"Value\"] = df.apply(lambda row: float(row[\"Value\"].strip(\"$\").replace(\",\", \"\")) if row[\"Value\"] != \"None\" else 0, axis = 1)\n",
    "print(df.head())"
   ]
  },
  {
   "cell_type": "markdown",
   "metadata": {},
   "source": [
    "We can now check the average cost of questions associated with particular topics. Let's use a function to calculate that. We will add an if/else condition in case the function finds no questions associated with a particular topic."
   ]
  },
  {
   "cell_type": "code",
   "execution_count": 9,
   "metadata": {},
   "outputs": [],
   "source": [
    "def average_value_for_topics(wordlist):\n",
    "    avg_value = filter_questions(wordlist)[\"Value\"].mean()\n",
    "    if pd.isna(avg_value):\n",
    "        print(\"There are no questions about \" + \" and \".join(wordlist) + \".\")\n",
    "    else:\n",
    "        print(\"The average value of questions concerning \" + \" and \".join(wordlist) + \" is \" + str(avg_value) + \".\")\n",
    "    return avg_value"
   ]
  },
  {
   "cell_type": "markdown",
   "metadata": {},
   "source": [
    "Let's test the function."
   ]
  },
  {
   "cell_type": "code",
   "execution_count": 10,
   "metadata": {},
   "outputs": [
    {
     "name": "stdout",
     "output_type": "stream",
     "text": [
      "The average value of questions concerning king and england is 829.7297297297297.\n",
      "There are no questions about walt disney.\n",
      "The average value of questions concerning burger is 650.0.\n",
      "The average value of questions concerning country and war is 853.0.\n"
     ]
    },
    {
     "data": {
      "text/plain": [
       "853.0"
      ]
     },
     "execution_count": 10,
     "metadata": {},
     "output_type": "execute_result"
    }
   ],
   "source": [
    "average_value_for_topics([\"king\",\"england\"])\n",
    "average_value_for_topics([\"walt disney\"])\n",
    "average_value_for_topics([\"burger\"])\n",
    "average_value_for_topics([\"country\", \"war\"])"
   ]
  },
  {
   "cell_type": "markdown",
   "metadata": {},
   "source": [
    "### Listing Unique Answers\n",
    "\n",
    "Next item: create a function that counts the count of unique answers in a given dataset. Simple enough!"
   ]
  },
  {
   "cell_type": "code",
   "execution_count": 11,
   "metadata": {},
   "outputs": [],
   "source": [
    "unique_answers = lambda unique_answers : unique_answers.groupby(\"Answer\")[\"Question\"].nunique().sort_values(ascending=False)"
   ]
  },
  {
   "cell_type": "markdown",
   "metadata": {},
   "source": [
    "Let's test the function with the whole dataset."
   ]
  },
  {
   "cell_type": "code",
   "execution_count": 12,
   "metadata": {},
   "outputs": [
    {
     "name": "stdout",
     "output_type": "stream",
     "text": [
      "Answer\n",
      "China        214\n",
      "Australia    213\n",
      "Japan        194\n",
      "Chicago      193\n",
      "France       189\n",
      "Name: Question, dtype: int64\n"
     ]
    }
   ],
   "source": [
    "print(unique_answers(df).head())"
   ]
  },
  {
   "cell_type": "markdown",
   "metadata": {},
   "source": [
    "Let's test the function with questions about \"king.\""
   ]
  },
  {
   "cell_type": "code",
   "execution_count": 13,
   "metadata": {},
   "outputs": [
    {
     "name": "stdout",
     "output_type": "stream",
     "text": [
      "Answer\n",
      "Henry VIII     41\n",
      "Solomon        23\n",
      "Sweden         23\n",
      "Norway         22\n",
      "Richard III    21\n",
      "               ..\n",
      "India           1\n",
      "Ireland         1\n",
      "Isabella        1\n",
      "Islam           1\n",
      "zlati           1\n",
      "Name: Question, Length: 1165, dtype: int64\n"
     ]
    }
   ],
   "source": [
    "print(unique_answers(filter_questions([\"king\"])))"
   ]
  },
  {
   "cell_type": "markdown",
   "metadata": {},
   "source": [
    "## Additional Challenges"
   ]
  },
  {
   "cell_type": "markdown",
   "metadata": {},
   "source": [
    "### First: Questions that used the word \"computer\" in the 90s and in the 2000s"
   ]
  },
  {
   "cell_type": "code",
   "execution_count": 14,
   "metadata": {},
   "outputs": [],
   "source": [
    "computer_list = filter_questions([\"computer\"])"
   ]
  },
  {
   "cell_type": "code",
   "execution_count": 15,
   "metadata": {},
   "outputs": [
    {
     "name": "stdout",
     "output_type": "stream",
     "text": [
      "    year  index\n",
      "0   1984      1\n",
      "1   1986      1\n",
      "2   1987      1\n",
      "3   1988      1\n",
      "4   1989      1\n",
      "5   1990      3\n",
      "6   1991      1\n",
      "7   1993      1\n",
      "8   1995      2\n",
      "9   1996      4\n",
      "10  1997     16\n",
      "11  1998     15\n",
      "12  1999     24\n",
      "13  2000     22\n",
      "14  2001     11\n",
      "15  2002      9\n",
      "16  2003     15\n",
      "17  2004     17\n",
      "18  2005     23\n",
      "19  2006     26\n",
      "20  2007     28\n",
      "21  2008     21\n",
      "22  2009     25\n",
      "23  2010     25\n",
      "24  2011     18\n",
      "25  2012      4\n",
      "   decade  index\n",
      "0    1980      5\n",
      "1    1990     66\n",
      "2    2000    197\n",
      "3    2010     47\n"
     ]
    }
   ],
   "source": [
    "air_dates = pd.to_datetime(computer_list[\"Air Date\"], format = \"%Y-%m-%d\").reset_index()\n",
    "air_dates[\"year\"] = pd.DatetimeIndex(air_dates[\"Air Date\"]).year\n",
    "air_dates[\"decade\"] = air_dates[\"year\"] - (air_dates[\"year\"] % 10)\n",
    "years = air_dates.groupby([\"year\"]).index.count().reset_index()\n",
    "decades = air_dates.groupby([\"decade\"]).index.count().reset_index()\n",
    "print(years)\n",
    "print(decades)"
   ]
  },
  {
   "cell_type": "code",
   "execution_count": 16,
   "metadata": {},
   "outputs": [],
   "source": [
    "for x in range(1984, 2012):\n",
    "    if years[years.year == x].empty:\n",
    "        years = years.append({\"year\": x, \"index\": 0}, ignore_index = True, sort = True)\n",
    "years = years.sort_values(by=\"year\").reset_index(drop=True)"
   ]
  },
  {
   "cell_type": "code",
   "execution_count": 17,
   "metadata": {},
   "outputs": [
    {
     "data": {
      "image/png": "[encoded data removed]",
      "text/plain": [
       "<Figure size 432x288 with 1 Axes>"
      ]
     },
     "metadata": {
      "needs_background": "light"
     },
     "output_type": "display_data"
    },
    {
     "data": {
      "image/png": "[encoded data removed]",
      "text/plain": [
       "<Figure size 432x288 with 1 Axes>"
      ]
     },
     "metadata": {
      "needs_background": "light"
     },
     "output_type": "display_data"
    }
   ],
   "source": [
    "plt.plot(years[\"year\"], years[\"index\"])\n",
    "plt.title('Mentions of \"computer\" per year')\n",
    "plt.ylabel(\"Mentions\")\n",
    "plt.xlabel(\"Years\")\n",
    "plt.show()\n",
    "plt.title('Mentions of \"computer\" per decade')\n",
    "plt.ylabel(\"Mentions\")\n",
    "plt.xlabel(\"Decade\")\n",
    "plt.plot(decades[\"decade\"], decades[\"index\"])\n",
    "plt.show()"
   ]
  },
  {
   "cell_type": "markdown",
   "metadata": {},
   "source": [
    "### Distributions of categories for each round"
   ]
  },
  {
   "cell_type": "code",
   "execution_count": 18,
   "metadata": {},
   "outputs": [
    {
     "data": {
      "text/html": [
       "<div>\n",
       "<style scoped>\n",
       "    .dataframe tbody tr th:only-of-type {\n",
       "        vertical-align: middle;\n",
       "    }\n",
       "\n",
       "    .dataframe tbody tr th {\n",
       "        vertical-align: top;\n",
       "    }\n",
       "\n",
       "    .dataframe thead th {\n",
       "        text-align: right;\n",
       "    }\n",
       "</style>\n",
       "<table border=\"1\" class=\"dataframe\">\n",
       "  <thead>\n",
       "    <tr style=\"text-align: right;\">\n",
       "      <th></th>\n",
       "      <th>Show Number</th>\n",
       "      <th>Air Date</th>\n",
       "      <th>Round</th>\n",
       "      <th>Category</th>\n",
       "      <th>Value</th>\n",
       "      <th>Question</th>\n",
       "      <th>Answer</th>\n",
       "    </tr>\n",
       "  </thead>\n",
       "  <tbody>\n",
       "    <tr>\n",
       "      <th>0</th>\n",
       "      <td>4680</td>\n",
       "      <td>2004-12-31</td>\n",
       "      <td>Jeopardy!</td>\n",
       "      <td>HISTORY</td>\n",
       "      <td>200.0</td>\n",
       "      <td>For the last 8 years of his life, Galileo was under house arrest for espousing this man's theory</td>\n",
       "      <td>Copernicus</td>\n",
       "    </tr>\n",
       "    <tr>\n",
       "      <th>1</th>\n",
       "      <td>4680</td>\n",
       "      <td>2004-12-31</td>\n",
       "      <td>Jeopardy!</td>\n",
       "      <td>ESPN's TOP 10 ALL-TIME ATHLETES</td>\n",
       "      <td>200.0</td>\n",
       "      <td>No. 2: 1912 Olympian; football star at Carlisle Indian School; 6 MLB seasons with the Reds, Giants &amp; Braves</td>\n",
       "      <td>Jim Thorpe</td>\n",
       "    </tr>\n",
       "    <tr>\n",
       "      <th>2</th>\n",
       "      <td>4680</td>\n",
       "      <td>2004-12-31</td>\n",
       "      <td>Jeopardy!</td>\n",
       "      <td>EVERYBODY TALKS ABOUT IT...</td>\n",
       "      <td>200.0</td>\n",
       "      <td>The city of Yuma in this state has a record average of 4,055 hours of sunshine each year</td>\n",
       "      <td>Arizona</td>\n",
       "    </tr>\n",
       "    <tr>\n",
       "      <th>3</th>\n",
       "      <td>4680</td>\n",
       "      <td>2004-12-31</td>\n",
       "      <td>Jeopardy!</td>\n",
       "      <td>THE COMPANY LINE</td>\n",
       "      <td>200.0</td>\n",
       "      <td>In 1963, live on \"The Art Linkletter Show\", this company served its billionth burger</td>\n",
       "      <td>McDonald's</td>\n",
       "    </tr>\n",
       "    <tr>\n",
       "      <th>4</th>\n",
       "      <td>4680</td>\n",
       "      <td>2004-12-31</td>\n",
       "      <td>Jeopardy!</td>\n",
       "      <td>EPITAPHS &amp; TRIBUTES</td>\n",
       "      <td>200.0</td>\n",
       "      <td>Signer of the Dec. of Indep., framer of the Constitution of Mass., second President of the United States</td>\n",
       "      <td>John Adams</td>\n",
       "    </tr>\n",
       "  </tbody>\n",
       "</table>\n",
       "</div>"
      ],
      "text/plain": [
       "   Show Number    Air Date      Round                         Category  Value  \\\n",
       "0         4680  2004-12-31  Jeopardy!                          HISTORY  200.0   \n",
       "1         4680  2004-12-31  Jeopardy!  ESPN's TOP 10 ALL-TIME ATHLETES  200.0   \n",
       "2         4680  2004-12-31  Jeopardy!      EVERYBODY TALKS ABOUT IT...  200.0   \n",
       "3         4680  2004-12-31  Jeopardy!                 THE COMPANY LINE  200.0   \n",
       "4         4680  2004-12-31  Jeopardy!              EPITAPHS & TRIBUTES  200.0   \n",
       "\n",
       "                                                                                                      Question  \\\n",
       "0             For the last 8 years of his life, Galileo was under house arrest for espousing this man's theory   \n",
       "1  No. 2: 1912 Olympian; football star at Carlisle Indian School; 6 MLB seasons with the Reds, Giants & Braves   \n",
       "2                     The city of Yuma in this state has a record average of 4,055 hours of sunshine each year   \n",
       "3                         In 1963, live on \"The Art Linkletter Show\", this company served its billionth burger   \n",
       "4     Signer of the Dec. of Indep., framer of the Constitution of Mass., second President of the United States   \n",
       "\n",
       "       Answer  \n",
       "0  Copernicus  \n",
       "1  Jim Thorpe  \n",
       "2     Arizona  \n",
       "3  McDonald's  \n",
       "4  John Adams  "
      ]
     },
     "execution_count": 18,
     "metadata": {},
     "output_type": "execute_result"
    }
   ],
   "source": [
    "df.head()"
   ]
  },
  {
   "cell_type": "code",
   "execution_count": 19,
   "metadata": {},
   "outputs": [
    {
     "name": "stdout",
     "output_type": "stream",
     "text": [
      "['Jeopardy!' 'Double Jeopardy!' 'Final Jeopardy!' 'Tiebreaker']\n"
     ]
    }
   ],
   "source": [
    "round_names = df[\"Round\"].unique()\n",
    "print(round_names)\n",
    "round_categories = lambda round_categories : df[\n",
    "    df[\"Round\"] == round_categories].groupby([\"Category\"]).Answer.count().sort_values().reset_index()\n",
    "jeopardy_categories = round_categories(\"Jeopardy!\")\n",
    "double_jeopardy_categories = round_categories(\"Double Jeopardy!\")\n",
    "final_jeopardy_categories = round_categories(\"Final Jeopardy!\")\n",
    "tiebreaker_categories = round_categories(\"Tiebreaker\")\n"
   ]
  },
  {
   "cell_type": "code",
   "execution_count": 20,
   "metadata": {},
   "outputs": [
    {
     "data": {
      "image/png": "[encoded data removed]",
      "text/plain": [
       "<Figure size 1080x720 with 4 Axes>"
      ]
     },
     "metadata": {
      "needs_background": "light"
     },
     "output_type": "display_data"
    }
   ],
   "source": [
    "plot_categories = lambda plot_categories : plt.barh(plot_categories.tail(10)[\"Category\"], plot_categories.tail(10)[\"Answer\"])\n",
    "\n",
    "plt.figure(figsize = (15, 10))\n",
    "plt.subplot(2, 2, 1)\n",
    "plot_categories(jeopardy_categories)\n",
    "plt.title('Top 10 categories for \"Jeopardy!\" round')\n",
    "plt.subplot(2, 2, 2)\n",
    "plot_categories(double_jeopardy_categories)\n",
    "plt.title('Top 10 categories for \"Double Jeopardy!\" round')\n",
    "plt.subplot(2, 2, 3)\n",
    "plot_categories(final_jeopardy_categories)\n",
    "plt.title('Top 10 categories for \"Final Jeopardy!\" round')\n",
    "plt.subplot(2, 2, 4)\n",
    "plot_categories(tiebreaker_categories)\n",
    "plt.title('Top categories for \"Tiebreaker\" round')\n",
    "plt.tight_layout(pad=3.0)\n",
    "plt.show()"
   ]
  }
 ],
 "metadata": {
  "kernelspec": {
   "display_name": "Python 3",
   "language": "python",
   "name": "python3"
  },
  "language_info": {
   "codemirror_mode": {
    "name": "ipython",
    "version": 3
   },
   "file_extension": ".py",
   "mimetype": "text/x-python",
   "name": "python",
   "nbconvert_exporter": "python",
   "pygments_lexer": "ipython3",
   "version": "3.9.5"
  }
 },
 "nbformat": 4,
 "nbformat_minor": 4
}
