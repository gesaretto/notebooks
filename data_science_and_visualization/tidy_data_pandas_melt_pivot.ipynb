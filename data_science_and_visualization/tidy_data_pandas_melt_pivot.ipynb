{
 "cells": [
  {
   "cell_type": "code",
   "execution_count": 1,
   "metadata": {},
   "outputs": [],
   "source": [
    "import pandas as pd\n",
    "\n",
    "df = pd.DataFrame({'Name': {0: 'Goof', 1: 'Mickey', 2: 'Donald'},\n",
    "                   'Duckopolis': {0: 11, 1: 32, 2: 33},\n",
    "                   'Mouseville': {0: 68, 1: 51, 2: 42},\n",
    "                   'Prison': {0:71, 1:3, 2:22}\n",
    "                  })"
   ]
  },
  {
   "cell_type": "code",
   "execution_count": 2,
   "metadata": {},
   "outputs": [
    {
     "name": "stdout",
     "output_type": "stream",
     "text": [
      "     Name  Duckopolis  Mouseville  Prison\n",
      "0    Goof          11          68      71\n",
      "1  Mickey          32          51       3\n",
      "2  Donald          33          42      22\n"
     ]
    }
   ],
   "source": [
    "print(df.head())"
   ]
  },
  {
   "cell_type": "markdown",
   "metadata": {},
   "source": [
    "The problem with the data above is that the column names contain values (the names of the locations); this makes the data \"messy.\""
   ]
  },
  {
   "cell_type": "code",
   "execution_count": 3,
   "metadata": {},
   "outputs": [
    {
     "data": {
      "text/html": [
       "<div>\n",
       "<style scoped>\n",
       "    .dataframe tbody tr th:only-of-type {\n",
       "        vertical-align: middle;\n",
       "    }\n",
       "\n",
       "    .dataframe tbody tr th {\n",
       "        vertical-align: top;\n",
       "    }\n",
       "\n",
       "    .dataframe thead th {\n",
       "        text-align: right;\n",
       "    }\n",
       "</style>\n",
       "<table border=\"1\" class=\"dataframe\">\n",
       "  <thead>\n",
       "    <tr style=\"text-align: right;\">\n",
       "      <th></th>\n",
       "      <th>Name</th>\n",
       "      <th>Location</th>\n",
       "      <th>years_spent</th>\n",
       "    </tr>\n",
       "  </thead>\n",
       "  <tbody>\n",
       "    <tr>\n",
       "      <th>0</th>\n",
       "      <td>Goof</td>\n",
       "      <td>Duckopolis</td>\n",
       "      <td>11</td>\n",
       "    </tr>\n",
       "    <tr>\n",
       "      <th>1</th>\n",
       "      <td>Mickey</td>\n",
       "      <td>Duckopolis</td>\n",
       "      <td>32</td>\n",
       "    </tr>\n",
       "    <tr>\n",
       "      <th>2</th>\n",
       "      <td>Donald</td>\n",
       "      <td>Duckopolis</td>\n",
       "      <td>33</td>\n",
       "    </tr>\n",
       "    <tr>\n",
       "      <th>3</th>\n",
       "      <td>Goof</td>\n",
       "      <td>Mouseville</td>\n",
       "      <td>68</td>\n",
       "    </tr>\n",
       "    <tr>\n",
       "      <th>4</th>\n",
       "      <td>Mickey</td>\n",
       "      <td>Mouseville</td>\n",
       "      <td>51</td>\n",
       "    </tr>\n",
       "    <tr>\n",
       "      <th>5</th>\n",
       "      <td>Donald</td>\n",
       "      <td>Mouseville</td>\n",
       "      <td>42</td>\n",
       "    </tr>\n",
       "    <tr>\n",
       "      <th>6</th>\n",
       "      <td>Goof</td>\n",
       "      <td>Prison</td>\n",
       "      <td>71</td>\n",
       "    </tr>\n",
       "    <tr>\n",
       "      <th>7</th>\n",
       "      <td>Mickey</td>\n",
       "      <td>Prison</td>\n",
       "      <td>3</td>\n",
       "    </tr>\n",
       "    <tr>\n",
       "      <th>8</th>\n",
       "      <td>Donald</td>\n",
       "      <td>Prison</td>\n",
       "      <td>22</td>\n",
       "    </tr>\n",
       "  </tbody>\n",
       "</table>\n",
       "</div>"
      ],
      "text/plain": [
       "     Name    Location  years_spent\n",
       "0    Goof  Duckopolis           11\n",
       "1  Mickey  Duckopolis           32\n",
       "2  Donald  Duckopolis           33\n",
       "3    Goof  Mouseville           68\n",
       "4  Mickey  Mouseville           51\n",
       "5  Donald  Mouseville           42\n",
       "6    Goof      Prison           71\n",
       "7  Mickey      Prison            3\n",
       "8  Donald      Prison           22"
      ]
     },
     "execution_count": 3,
     "metadata": {},
     "output_type": "execute_result"
    }
   ],
   "source": [
    "pd.melt(df, id_vars=[\"Name\"], var_name=\"Location\", value_name=\"years_spent\")"
   ]
  },
  {
   "cell_type": "markdown",
   "metadata": {},
   "source": [
    "Another example:"
   ]
  },
  {
   "cell_type": "code",
   "execution_count": 4,
   "metadata": {},
   "outputs": [],
   "source": [
    "grades = pd.DataFrame({'Name': {0: \"Goof\", 1: \"Mickey\", 2: \"Donald\"},\n",
    "                       'Algebra Test': {0: 15, 1: 73, 2: 91},\n",
    "                       'Broccoli Test': {0: 100, 1: 100, 2: 61}                      \n",
    "                      })"
   ]
  },
  {
   "cell_type": "markdown",
   "metadata": {},
   "source": [
    "This is what we call a **wide-form** table: the values are spread out and we gain information by looking at the intersections between column and rows. This is convenient and readable for humans, but not as useful as it could be for computers. To turn this into a **long-form** table, where each row corresponds to a single observation (i.e., the single result for a single test taken by a single student), we use `pd.melt()`."
   ]
  },
  {
   "cell_type": "code",
   "execution_count": 5,
   "metadata": {},
   "outputs": [
    {
     "name": "stdout",
     "output_type": "stream",
     "text": [
      "     Name  Algebra Test  Broccoli Test\n",
      "0    Goof            15            100\n",
      "1  Mickey            73            100\n",
      "2  Donald            91             61\n"
     ]
    }
   ],
   "source": [
    "print(grades)"
   ]
  },
  {
   "cell_type": "markdown",
   "metadata": {},
   "source": [
    "When we use `pd.melt()` we enter the following parameters:\n",
    "\n",
    "1. `id_vars`: the *identifier variable* (or variables; more than one can be entered); this is the leftmost column of the new table, containing the essential identifier for each observation (in this case, the student's name); it is already correctly organized in the original table;\n",
    "2. `var_name`: this is the column that we add through `melt`: it will contain the column names that currently contain *values*, and that will become individual rows corresponding to each observation (in this case, the type of test taken);\n",
    "3. `value_name`: this is the name that will be given to the column containing the values that are currently spread out in the table (in this case, the score for each test).\n",
    "\n",
    "Note that I will also rename the columns using `rename()`, to avoid redundancy (removing the \"Test\" from each column name)."
   ]
  },
  {
   "cell_type": "code",
   "execution_count": 6,
   "metadata": {},
   "outputs": [
    {
     "name": "stdout",
     "output_type": "stream",
     "text": [
      "     Name      Test  Score\n",
      "0    Goof   Algebra     15\n",
      "1  Mickey   Algebra     73\n",
      "2  Donald   Algebra     91\n",
      "3    Goof  Broccoli    100\n",
      "4  Mickey  Broccoli    100\n",
      "5  Donald  Broccoli     61\n"
     ]
    }
   ],
   "source": [
    "grades_tidied = pd.melt(\n",
    "    grades.rename(columns={\"Algebra Test\": \"Algebra\", \"Broccoli Test\": \"Broccoli\"}),\n",
    "    id_vars=\"Name\", var_name=\"Test\", value_name=\"Score\")\n",
    "print(grades_tidied)"
   ]
  },
  {
   "cell_type": "markdown",
   "metadata": {},
   "source": [
    "At times data can be stored in tables that are **too long**; this does not refer to the length of a correctly tidied **long-form** table, but to columns that contain value names and columns that contain different kinds of values."
   ]
  },
  {
   "cell_type": "code",
   "execution_count": 9,
   "metadata": {},
   "outputs": [
    {
     "name": "stdout",
     "output_type": "stream",
     "text": [
      "     Name       Attributes  Values\n",
      "0  Mickey              Age      31\n",
      "1  Mickey  No. of partners       5\n",
      "2    Goof              Age      78\n",
      "3    Goof  No. of partners      43\n",
      "4  Donald              Age      42\n",
      "5  Donald  No. of partners       0\n"
     ]
    }
   ],
   "source": [
    "profiles = pd.DataFrame({\"Name\": [\"Mickey\", \"Mickey\", \"Goof\", \"Goof\", \"Donald\", \"Donald\"],\n",
    "                         \"Attributes\": [\"Age\", \"No. of partners\", \"Age\", \"No. of partners\", \"Age\", \"No. of partners\"],\n",
    "                         \"Values\": [31, 5, 78, 43, 42, 0]\n",
    "                        })\n",
    "print(profiles)"
   ]
  },
  {
   "cell_type": "markdown",
   "metadata": {},
   "source": [
    "The column \"Attributes\" contains value names instead of values, and the column \"Values\" contains different kinds of values; besides, a single observation (the different data concerning a single individual) is split between multiple lines.\n",
    "To fix this, we use `pivot()`. (`pivot()` is the anti-melt; it spreads out a table instead of slimming it.) This function takes three parameters:\n",
    "1. `index`: the leftmost column, containing the identifiers for each observation;\n",
    "2. `columns`: the name of the column that contains the column names that we want to spread out;\n",
    "3. `values`: the name of the column that contains the values that should be spread out.\n",
    "It is advisable to `reset_index()` as we call this function on a dataset; and to set `.columns.name = None` afterwards in order to drop any leftover column names."
   ]
  },
  {
   "cell_type": "code",
   "execution_count": 10,
   "metadata": {},
   "outputs": [
    {
     "name": "stdout",
     "output_type": "stream",
     "text": [
      "     Name  Age  No. of partners\n",
      "0  Donald   42                0\n",
      "1    Goof   78               43\n",
      "2  Mickey   31                5\n"
     ]
    }
   ],
   "source": [
    "tidied_profiles = profiles.pivot(index = \"Name\", columns = \"Attributes\", values = \"Values\").reset_index()\n",
    "tidied_profiles.columns.name = None\n",
    "print(tidied_profiles)"
   ]
  }
 ],
 "metadata": {
  "kernelspec": {
   "display_name": "Python 3",
   "language": "python",
   "name": "python3"
  },
  "language_info": {
   "codemirror_mode": {
    "name": "ipython",
    "version": 3
   },
   "file_extension": ".py",
   "mimetype": "text/x-python",
   "name": "python",
   "nbconvert_exporter": "python",
   "pygments_lexer": "ipython3",
   "version": "3.8.5"
  }
 },
 "nbformat": 4,
 "nbformat_minor": 4
}
