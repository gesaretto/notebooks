{
 "cells": [
  {
   "cell_type": "code",
   "execution_count": 33,
   "metadata": {},
   "outputs": [],
   "source": [
    "# Import SQLite3 module\n",
    "import sqlite3"
   ]
  },
  {
   "cell_type": "code",
   "execution_count": 34,
   "metadata": {},
   "outputs": [],
   "source": [
    "conn2 = sqlite3.connect(\"goofy.db\")"
   ]
  },
  {
   "cell_type": "code",
   "execution_count": 35,
   "metadata": {},
   "outputs": [],
   "source": [
    "# Remember to add a cursor\n",
    "cursor2 = conn2.cursor()"
   ]
  },
  {
   "cell_type": "code",
   "execution_count": 8,
   "metadata": {},
   "outputs": [
    {
     "data": {
      "text/plain": [
       "<sqlite3.Cursor at 0x1d556bb1960>"
      ]
     },
     "execution_count": 8,
     "metadata": {},
     "output_type": "execute_result"
    }
   ],
   "source": [
    "# Create a table in the database using \"execute\" and \"CREATE TABLE\"\n",
    "conn2.execute('''CREATE TABLE disney_characters\n",
    "(id INTEGER PRIMARY KEY,\n",
    "name TEXT NOT NULL UNIQUE,\n",
    "city TEXT NOT NULL,\n",
    "age INTEGER,\n",
    "birthday datetime,\n",
    "rating REAL NOT NULL\n",
    ")\n",
    "''')"
   ]
  },
  {
   "cell_type": "code",
   "execution_count": 14,
   "metadata": {},
   "outputs": [
    {
     "data": {
      "text/plain": [
       "<sqlite3.Cursor at 0x1d556bde420>"
      ]
     },
     "execution_count": 14,
     "metadata": {},
     "output_type": "execute_result"
    }
   ],
   "source": [
    "# Add a row of values in the table using \"execute\" and \"INSERT INTO\"\n",
    "# (Commands that alter the table cannot be repeated;\n",
    "# the script is *creating* and updating a real table outside the Python environment.)\n",
    "conn2.execute('''\n",
    "INSERT INTO disney_characters VALUES (102, \"Mickey\", \"Mouseville\", 16, \"1911-11-04\", 3)\n",
    "''')"
   ]
  },
  {
   "cell_type": "code",
   "execution_count": 13,
   "metadata": {},
   "outputs": [
    {
     "data": {
      "text/plain": [
       "[(101, 'Goofy', 'Mouseville', 76, '1921-04-11', 5.0)]"
      ]
     },
     "execution_count": 13,
     "metadata": {},
     "output_type": "execute_result"
    }
   ],
   "source": [
    "# Change values using \"UPDATE\"\n",
    "# Print using SELECT and \"fetchall\"\n",
    "conn2.execute('''\n",
    "UPDATE disney_characters\n",
    "SET birthday = \"1921-04-11\"\n",
    "WHERE name = \"Goofy\";\n",
    "''')\n",
    "conn2.execute('''\n",
    "SELECT * FROM disney_characters;\n",
    "''').fetchall()"
   ]
  },
  {
   "cell_type": "code",
   "execution_count": 16,
   "metadata": {},
   "outputs": [
    {
     "data": {
      "text/plain": [
       "[(101, 'Goofy', 'Mouseville', 76, '1921-04-11', 5.0),\n",
       " (102, 'Mickey', 'Mouseville', 16, '1911-11-04', 3.0)]"
      ]
     },
     "execution_count": 16,
     "metadata": {},
     "output_type": "execute_result"
    }
   ],
   "source": [
    "conn2.execute('''\n",
    "SELECT * FROM disney_characters;\n",
    "''').fetchall()"
   ]
  },
  {
   "cell_type": "code",
   "execution_count": 20,
   "metadata": {},
   "outputs": [
    {
     "name": "stdout",
     "output_type": "stream",
     "text": [
      "<class 'tuple'>\n"
     ]
    }
   ],
   "source": [
    "# Inserting multiple characters using a Python list\n",
    "rufus = (15, \"Rufus\", \"Pizza\", \"2021-11-19\") # This is a tuple! Tuples can have more than two elements within them.\n",
    "print(type(rufus))\n",
    "# Create the list\n",
    "my_fav_characters = [\n",
    "    (103, \"Donald\", \"Duckburg\", 34, \"1978-12-09\", 7),\n",
    "    (104, \"Macchia Nera\", \"Topolinia\", 25, \"1956-07-07\", 10),\n",
    "    (105, \"Clarabella\", \"Topolinia\", 64, \"1922-03-05\", -14),\n",
    "    (106, \"Bum Bum Ghigno\", \"Paperopoli\", 54, \"1903-11-78\", 21)\n",
    "]\n",
    "# Use \"executemany\" to read from the list; each question mark in the call represents a column (field)--NOT a row\n",
    "# Note that now we are instructing the **cursor**, not invoking the **connection** directly\n",
    "cursor2.executemany('''INSERT INTO disney_characters VALUES (?, ?, ?, ?, ?, ?)''', my_fav_characters)\n",
    "# It looks like this \"cursor\" function creates and stores a number of commands to be run through SQL; \n",
    "# the \"commit\" function that follows executes them all.\n",
    "conn2.commit()"
   ]
  },
  {
   "cell_type": "code",
   "execution_count": 21,
   "metadata": {},
   "outputs": [
    {
     "data": {
      "text/plain": [
       "(101, 'Goofy', 'Mouseville', 76, '1921-04-11', 5.0)"
      ]
     },
     "execution_count": 21,
     "metadata": {},
     "output_type": "execute_result"
    }
   ],
   "source": [
    "# Different ways to print rows from the table: .fetchone(), .fetchmany(), fetchall()\n",
    "cursor2.execute(\"SELECT * from disney_characters\").fetchone() # Retrieves one result"
   ]
  },
  {
   "cell_type": "code",
   "execution_count": 22,
   "metadata": {},
   "outputs": [
    {
     "data": {
      "text/plain": [
       "[(101, 'Goofy', 'Mouseville', 76, '1921-04-11', 5.0),\n",
       " (102, 'Mickey', 'Mouseville', 16, '1911-11-04', 3.0),\n",
       " (103, 'Donald', 'Duckburg', 34, '1978-12-09', 7.0)]"
      ]
     },
     "execution_count": 22,
     "metadata": {},
     "output_type": "execute_result"
    }
   ],
   "source": [
    "cursor2.execute(\"SELECT * from disney_characters\").fetchmany(3) # Retrieves n number of results"
   ]
  },
  {
   "cell_type": "code",
   "execution_count": 23,
   "metadata": {},
   "outputs": [
    {
     "data": {
      "text/plain": [
       "[(101, 'Goofy', 'Mouseville', 76, '1921-04-11', 5.0),\n",
       " (102, 'Mickey', 'Mouseville', 16, '1911-11-04', 3.0),\n",
       " (103, 'Donald', 'Duckburg', 34, '1978-12-09', 7.0),\n",
       " (104, 'Macchia Nera', 'Topolinia', 25, '1956-07-07', 10.0),\n",
       " (105, 'Clarabella', 'Topolinia', 64, '1922-03-05', -14.0),\n",
       " (106, 'Bum Bum Ghigno', 'Paperopoli', 54, '1903-11-78', 21.0)]"
      ]
     },
     "execution_count": 23,
     "metadata": {},
     "output_type": "execute_result"
    }
   ],
   "source": [
    "cursor2.execute(\"SELECT * from disney_characters\").fetchall() # Retrieves all the results"
   ]
  },
  {
   "cell_type": "code",
   "execution_count": 24,
   "metadata": {},
   "outputs": [
    {
     "data": {
      "text/plain": [
       "(2,)"
      ]
     },
     "execution_count": 24,
     "metadata": {},
     "output_type": "execute_result"
    }
   ],
   "source": [
    "# We can use more complex SQL syntax within these statements\n",
    "cursor2.execute(\"\"\"\n",
    "            SELECT COUNT(*)\n",
    "            FROM disney_characters\n",
    "            WHERE city = \"Topolinia\";\n",
    "            \"\"\").fetchone()"
   ]
  },
  {
   "cell_type": "code",
   "execution_count": 29,
   "metadata": {},
   "outputs": [
    {
     "name": "stdout",
     "output_type": "stream",
     "text": [
      "[(76,), (16,), (34,), (25,), (64,), (54,)]\n",
      "<class 'list'>\n",
      "<class 'tuple'>\n",
      "44.833333333333336\n"
     ]
    }
   ],
   "source": [
    "# What about retrieving columns (series) from this table?\n",
    "disney_ages = cursor2.execute(\"SELECT age FROM disney_characters;\").fetchall()\n",
    "print(disney_ages)\n",
    "print(type(disney_ages))\n",
    "print(type(disney_ages[0]))\n",
    "# It's a list--a weird list of tuples, each one containing only one element.\n",
    "average_age = sum([age[0] for age in disney_ages]) / len(disney_ages)\n",
    "print(average_age)"
   ]
  },
  {
   "cell_type": "code",
   "execution_count": 32,
   "metadata": {},
   "outputs": [
    {
     "name": "stdout",
     "output_type": "stream",
     "text": [
      "    id            name        city  age    birthday  rating\n",
      "0  101           Goofy  Mouseville   76  1921-04-11     5.0\n",
      "1  102          Mickey  Mouseville   16  1911-11-04     3.0\n",
      "2  103          Donald    Duckburg   34  1978-12-09     7.0\n",
      "3  104    Macchia Nera   Topolinia   25  1956-07-07    10.0\n",
      "4  105      Clarabella   Topolinia   64  1922-03-05   -14.0\n",
      "5  106  Bum Bum Ghigno  Paperopoli   54  1903-11-78    21.0\n",
      "5.333333333333333\n"
     ]
    }
   ],
   "source": [
    "# Finally, something about integration with Pandas; this makes everything easier\n",
    "import pandas as pd\n",
    "df = pd.read_sql_query('''SELECT * FROM disney_characters;''', conn2) # Note that I am still using \"conn2\" as the connection\n",
    "print(df)\n",
    "print(df[\"rating\"].mean())"
   ]
  },
  {
   "cell_type": "code",
   "execution_count": 41,
   "metadata": {},
   "outputs": [
    {
     "name": "stdout",
     "output_type": "stream",
     "text": [
      "[('Mickey is from Mouseville',)]\n",
      "Mickey is from Mouseville\n",
      "[('Clarabella is from Topolinia',)]\n",
      "Clarabella is from Topolinia\n"
     ]
    }
   ],
   "source": [
    "# Let's try some string concatenation\n",
    "def get_name_city(person_id):\n",
    "    query = \"SELECT name || ' is from ' || city FROM disney_characters WHERE id=\" + str(person_id) + \";\"\n",
    "    # Note how we are creating a string that corresponds to a query.\n",
    "    cursor2.execute(query)\n",
    "    results = cursor2.fetchall()\n",
    "    # It looks as if the cursor can store results that are then retrieved as a variable.\n",
    "    print(results)\n",
    "    return results[0][0]\n",
    "\n",
    "print(get_name_city(102))\n",
    "print(get_name_city(105))"
   ]
  },
  {
   "cell_type": "code",
   "execution_count": 45,
   "metadata": {},
   "outputs": [
    {
     "name": "stdout",
     "output_type": "stream",
     "text": [
      "[('Petulia is from Topolinia',)]\n",
      "Petulia is from Topolinia\n"
     ]
    }
   ],
   "source": [
    "# Let's add a function that adds new rows\n",
    "def add_character(new_character):\n",
    "    query = \"INSERT INTO disney_characters(id, name, city, age, birthday, rating) VALUES (?, ?, ?, ?, ?, ?);\"\n",
    "    cursor2.execute(query, list(new_character))\n",
    "\n",
    "petulia = (109, \"Petulia\", \"Topolinia\", 53, \"1938-12-12\", 6)\n",
    "add_character(petulia)\n",
    "print(get_name_city(109))"
   ]
  },
  {
   "cell_type": "code",
   "execution_count": 46,
   "metadata": {},
   "outputs": [],
   "source": [
    "# Remember to close the connection at the end of the program.\n",
    "cursor2.close()\n",
    "conn2.close()"
   ]
  }
 ],
 "metadata": {
  "kernelspec": {
   "display_name": "Python 3",
   "language": "python",
   "name": "python3"
  },
  "language_info": {
   "codemirror_mode": {
    "name": "ipython",
    "version": 3
   },
   "file_extension": ".py",
   "mimetype": "text/x-python",
   "name": "python",
   "nbconvert_exporter": "python",
   "pygments_lexer": "ipython3",
   "version": "3.8.5"
  }
 },
 "nbformat": 4,
 "nbformat_minor": 4
}
