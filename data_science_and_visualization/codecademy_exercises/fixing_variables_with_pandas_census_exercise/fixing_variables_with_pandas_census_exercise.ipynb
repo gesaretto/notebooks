{
 "cells": [
  {
   "cell_type": "code",
   "execution_count": 1,
   "metadata": {},
   "outputs": [],
   "source": [
    "# Import pandas with alias\n",
    "import pandas as pd\n",
    "\n",
    "# Read in the census dataframe\n",
    "census = pd.read_csv('census_data.csv', index_col=0)"
   ]
  },
  {
   "cell_type": "code",
   "execution_count": 2,
   "metadata": {},
   "outputs": [
    {
     "name": "stdout",
     "output_type": "stream",
     "text": [
      "[2005 1987 1992 1965 1945 1951 1963 1949 1950 1971 2007 1944 1995 1973\n",
      " 1946 1954 1994 1989 1947 1993 1976 1984 1967 1966 1941 2000 1953 1956\n",
      " 1960 2001 1980 1955 1985 1996 1968 1979 2006 1962 1981 1959 1977 1978\n",
      " 1983 1957 1961 1982 2002 1998 1999 1952 1940 1986 1958]\n",
      "1973.4\n",
      "  first_name  last_name  birth_year  voted  num_children  income_year  \\\n",
      "0     Denise      Ratke        2005  False             0     92129.41   \n",
      "1       Hali  Cummerata        1987  False             0     75649.17   \n",
      "2    Salomon        Orn        1992   True             2    166313.45   \n",
      "3     Sarina   Schiller        1965  False             2     71704.81   \n",
      "4       Gust  Abernathy        1945  False             2    143316.08   \n",
      "\n",
      "       higher_tax marital_status  \n",
      "0        disagree         single  \n",
      "1         neutral       divorced  \n",
      "2           agree         single  \n",
      "3  strongly agree        married  \n",
      "4           agree        married  \n"
     ]
    }
   ],
   "source": [
    "## Change \"birth_year\"\n",
    "census[\"birth_year\"] = census[\"birth_year\"].replace(\"missing\", 1967)\n",
    "census[\"birth_year\"] = census[\"birth_year\"].astype(\"int\")\n",
    "print(census.birth_year.unique())\n",
    "print(census.birth_year.mean())\n",
    "print(census.head())"
   ]
  },
  {
   "cell_type": "code",
   "execution_count": 3,
   "metadata": {},
   "outputs": [
    {
     "name": "stdout",
     "output_type": "stream",
     "text": [
      "['disagree', 'neutral', 'agree', 'strongly agree', 'strongly disagree']\n",
      "Categories (5, object): ['strongly disagree' < 'disagree' < 'neutral' < 'agree' < 'strongly agree']\n",
      "2.0\n",
      "  first_name  last_name  birth_year  voted  num_children  income_year  \\\n",
      "0     Denise      Ratke        2005  False             0     92129.41   \n",
      "1       Hali  Cummerata        1987  False             0     75649.17   \n",
      "2    Salomon        Orn        1992   True             2    166313.45   \n",
      "3     Sarina   Schiller        1965  False             2     71704.81   \n",
      "4       Gust  Abernathy        1945  False             2    143316.08   \n",
      "\n",
      "       higher_tax marital_status  higher_tax_codes  \n",
      "0        disagree         single                 1  \n",
      "1         neutral       divorced                 2  \n",
      "2           agree         single                 3  \n",
      "3  strongly agree        married                 4  \n",
      "4           agree        married                 3  \n"
     ]
    }
   ],
   "source": [
    "## Order \"higher_tax\"\n",
    "census.higher_tax = pd.Categorical(census.higher_tax, [\n",
    "  \"strongly disagree\", \"disagree\",\n",
    "  \"neutral\", \"agree\", \"strongly agree\"\n",
    "], ordered=True)\n",
    "print(census.higher_tax.unique())\n",
    "census[\"higher_tax_codes\"] = census.higher_tax.cat.codes\n",
    "print(census.higher_tax_codes.median())\n",
    "print(census.head())"
   ]
  },
  {
   "cell_type": "code",
   "execution_count": 4,
   "metadata": {},
   "outputs": [
    {
     "name": "stdout",
     "output_type": "stream",
     "text": [
      "    divorced  married  single  widowed\n",
      "0          0        0       1        0\n",
      "1          1        0       0        0\n",
      "2          0        0       1        0\n",
      "3          0        1       0        0\n",
      "4          0        1       0        0\n",
      "..       ...      ...     ...      ...\n",
      "95         0        1       0        0\n",
      "96         0        0       1        0\n",
      "97         0        0       1        0\n",
      "98         0        0       0        1\n",
      "99         0        0       1        0\n",
      "\n",
      "[100 rows x 4 columns]\n",
      "  first_name  last_name  birth_year  voted  num_children  income_year  \\\n",
      "0     Denise      Ratke        2005  False             0     92129.41   \n",
      "1       Hali  Cummerata        1987  False             0     75649.17   \n",
      "2    Salomon        Orn        1992   True             2    166313.45   \n",
      "3     Sarina   Schiller        1965  False             2     71704.81   \n",
      "4       Gust  Abernathy        1945  False             2    143316.08   \n",
      "\n",
      "       higher_tax marital_status  higher_tax_codes  divorced  married  single  \\\n",
      "0        disagree         single                 1         0        0       1   \n",
      "1         neutral       divorced                 2         1        0       0   \n",
      "2           agree         single                 3         0        0       1   \n",
      "3  strongly agree        married                 4         0        1       0   \n",
      "4           agree        married                 3         0        1       0   \n",
      "\n",
      "   widowed  \n",
      "0        0  \n",
      "1        0  \n",
      "2        0  \n",
      "3        0  \n",
      "4        0  \n"
     ]
    }
   ],
   "source": [
    "# OHE \"marital_status\"\n",
    "marital_status = pd.get_dummies(census.marital_status)\n",
    "print(marital_status)\n",
    "census = census.join(marital_status)\n",
    "print(census.head())"
   ]
  },
  {
   "cell_type": "code",
   "execution_count": 5,
   "metadata": {},
   "outputs": [
    {
     "name": "stdout",
     "output_type": "stream",
     "text": [
      "['single' 'divorced' 'married' 'widowed']\n",
      "  first_name  last_name  birth_year  voted  num_children  income_year  \\\n",
      "0     Denise      Ratke        2005  False             0     92129.41   \n",
      "1       Hali  Cummerata        1987  False             0     75649.17   \n",
      "2    Salomon        Orn        1992   True             2    166313.45   \n",
      "3     Sarina   Schiller        1965  False             2     71704.81   \n",
      "4       Gust  Abernathy        1945  False             2    143316.08   \n",
      "\n",
      "       higher_tax marital_status  higher_tax_codes  divorced  married  single  \\\n",
      "0        disagree         single                 1         0        0       1   \n",
      "1         neutral       divorced                 2         1        0       0   \n",
      "2           agree         single                 3         0        0       1   \n",
      "3  strongly agree        married                 4         0        1       0   \n",
      "4           agree        married                 3         0        1       0   \n",
      "\n",
      "   widowed  marital_codes  \n",
      "0        0              2  \n",
      "1        0              0  \n",
      "2        0              2  \n",
      "3        0              1  \n",
      "4        0              1  \n"
     ]
    }
   ],
   "source": [
    "# Label Encode \"marital_status\"\n",
    "print(census.marital_status.unique())\n",
    "census.marital_status = pd.Categorical(census.marital_status, [\"divorced\", \"married\", \"single\", \"widowed\"])\n",
    "census[\"marital_codes\"] = census.marital_status.cat.codes\n",
    "print(census.head())"
   ]
  },
  {
   "cell_type": "code",
   "execution_count": 6,
   "metadata": {},
   "outputs": [
    {
     "name": "stdout",
     "output_type": "stream",
     "text": [
      "14 81\n",
      "['15-19', '30-34', '25-29', '55-59', '75-79', ..., '35-39', '80-84', '20-24', '60-64', '40-44']\n",
      "Length: 15\n",
      "Categories (15, object): ['10-14' < '15-19' < '20-24' < '25-29' ... '65-69' < '70-74' < '75-79' < '80-84']\n",
      "  first_name  last_name  birth_year  voted  num_children  income_year  \\\n",
      "0     Denise      Ratke        2005  False             0     92129.41   \n",
      "1       Hali  Cummerata        1987  False             0     75649.17   \n",
      "2    Salomon        Orn        1992   True             2    166313.45   \n",
      "3     Sarina   Schiller        1965  False             2     71704.81   \n",
      "4       Gust  Abernathy        1945  False             2    143316.08   \n",
      "\n",
      "       higher_tax marital_status  higher_tax_codes  divorced  married  single  \\\n",
      "0        disagree         single                 1         0        0       1   \n",
      "1         neutral       divorced                 2         1        0       0   \n",
      "2           agree         single                 3         0        0       1   \n",
      "3  strongly agree        married                 4         0        1       0   \n",
      "4           agree        married                 3         0        1       0   \n",
      "\n",
      "   widowed  marital_codes  age age_group  age_codes  \n",
      "0        0              2   16     15-19          1  \n",
      "1        0              0   34     30-34          4  \n",
      "2        0              2   29     25-29          3  \n",
      "3        0              1   56     55-59          9  \n",
      "4        0              1   76     75-79         13  \n"
     ]
    }
   ],
   "source": [
    "# Add \"age_group\" variable to categorize by age group\n",
    "census[\"age\"] = (2021 - census.birth_year).astype(\"int\")\n",
    "census[\"age_group\"] = census.apply(\n",
    "  lambda row: str(row.age - (row.age % 5)) + \"-\" + \\\n",
    "               str(row.age - (row.age % 5) + 4),\n",
    "  axis = 1)\n",
    "census[\"age_group\"] = pd.Categorical(census.age_group, [str(i) + \"-\" + str(i + 4) for i in list(range(10, 85, 5))], ordered=True)\n",
    "census[\"age_codes\"] = census[\"age_group\"].cat.codes\n",
    "print(census.age.min(), census.age.max())\n",
    "print(census.age_group.unique())\n",
    "print(census.head())"
   ]
  }
 ],
 "metadata": {
  "kernelspec": {
   "display_name": "Python 3",
   "language": "python",
   "name": "python3"
  },
  "language_info": {
   "codemirror_mode": {
    "name": "ipython",
    "version": 3
   },
   "file_extension": ".py",
   "mimetype": "text/x-python",
   "name": "python",
   "nbconvert_exporter": "python",
   "pygments_lexer": "ipython3",
   "version": "3.8.5"
  }
 },
 "nbformat": 4,
 "nbformat_minor": 4
}
