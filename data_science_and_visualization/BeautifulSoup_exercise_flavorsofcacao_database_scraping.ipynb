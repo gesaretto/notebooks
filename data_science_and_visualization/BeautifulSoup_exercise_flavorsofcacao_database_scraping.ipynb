{
 "cells": [
  {
   "cell_type": "markdown",
   "metadata": {},
   "source": [
    "# BeautifulSoup Exercise (adapted from Codecademy)"
   ]
  },
  {
   "cell_type": "markdown",
   "metadata": {},
   "source": [
    "In this short experiment, I will scrape the database of chocolate bars available at the wonderful website [FlavorsOfCacao](http://flavorsofcacao.com/index.html), in order to try out some simple data analysis experiments and visualizations."
   ]
  },
  {
   "cell_type": "markdown",
   "metadata": {},
   "source": [
    "\n",
    "Import libraries. Fetch webpage using `requests`."
   ]
  },
  {
   "cell_type": "code",
   "execution_count": 1,
   "metadata": {},
   "outputs": [],
   "source": [
    "from bs4 import BeautifulSoup\n",
    "import pandas as pd\n",
    "import requests\n",
    "import matplotlib.pyplot as plt\n",
    "import numpy as np\n",
    "\n",
    "cacao_table = requests.get(\"http://flavorsofcacao.com/database.html\")"
   ]
  },
  {
   "cell_type": "markdown",
   "metadata": {},
   "source": [
    "Create BeautifulSoup object using html parser."
   ]
  },
  {
   "cell_type": "code",
   "execution_count": 2,
   "metadata": {
    "scrolled": false
   },
   "outputs": [],
   "source": [
    "soup = BeautifulSoup(cacao_table.content, \"html.parser\")"
   ]
  },
  {
   "cell_type": "markdown",
   "metadata": {},
   "source": [
    "Create a list for \"ratings\"; ratings is the value (`.string`) in the last cell (`<td>`, `[-1]`) of every row (`<tr>`) excluding the first one (`[1:]`)."
   ]
  },
  {
   "cell_type": "code",
   "execution_count": 3,
   "metadata": {},
   "outputs": [],
   "source": [
    "ratings = [float(row.find_all(\"td\")[-1].string) for row in soup.find_all(\"tr\")[1:]]"
   ]
  },
  {
   "cell_type": "markdown",
   "metadata": {},
   "source": [
    "Create a list for \"companies\"; companies is the value (`.string`) in the second cell (`<td>`, `[1]`) of every row (`<tr>`) excluding the first one (`[1:]`)."
   ]
  },
  {
   "cell_type": "code",
   "execution_count": 4,
   "metadata": {},
   "outputs": [],
   "source": [
    "companies = [row.find_all(\"td\")[1].string.strip() for row in soup.find_all(\"tr\")[1:]]"
   ]
  },
  {
   "cell_type": "markdown",
   "metadata": {},
   "source": [
    "Let's create a list for \"cocoa percentages\" as well. Works similarly to what we have done so far: grab the value (`.string`) from the fourth to last cell (`<td>`, `[-4]`) in every row (`<tr>`) except for the first one (`[1:]`). However, I also want to turn this value into a `float`, after having stripped (`.strip()`) the `%` sign from it."
   ]
  },
  {
   "cell_type": "code",
   "execution_count": 5,
   "metadata": {},
   "outputs": [],
   "source": [
    "cocoa_percentages = [float(row.find_all(\"td\")[-4].string.strip(\"%\")) for row in soup.find_all(\"tr\")[1:]]"
   ]
  },
  {
   "cell_type": "markdown",
   "metadata": {},
   "source": [
    "Let's plot the ratings in the database."
   ]
  },
  {
   "cell_type": "code",
   "execution_count": 6,
   "metadata": {},
   "outputs": [
    {
     "data": {
      "image/png": "[encoded data removed]",
      "text/plain": [
       "<Figure size 432x288 with 1 Axes>"
      ]
     },
     "metadata": {
      "needs_background": "light"
     },
     "output_type": "display_data"
    },
    {
     "data": {
      "text/plain": [
       "<Figure size 432x288 with 0 Axes>"
      ]
     },
     "metadata": {},
     "output_type": "display_data"
    }
   ],
   "source": [
    "plt.hist(ratings)\n",
    "plt.title(\"Distribution of ratings in FlavorsOfCacao.com\")\n",
    "plt.ylabel(\"Chocolate bars\")\n",
    "plt.xlabel(\"Ratings assigned\")\n",
    "plt.show()\n",
    "plt.clf()"
   ]
  },
  {
   "cell_type": "markdown",
   "metadata": {},
   "source": [
    "Let's create a pandas DataFrame that combines the names of the companies and the respective ratings, in order to assess which companies have the best and worst ratings."
   ]
  },
  {
   "cell_type": "code",
   "execution_count": 7,
   "metadata": {},
   "outputs": [
    {
     "name": "stdout",
     "output_type": "stream",
     "text": [
      "    Company  Ratings\n",
      "0      5150     3.75\n",
      "1      5150     3.50\n",
      "2      5150     3.25\n",
      "3  A. Morin     3.75\n",
      "4  A. Morin     3.50\n"
     ]
    }
   ],
   "source": [
    "company_ratings = pd.DataFrame(\n",
    "  {\"Company\": companies,\n",
    "  \"Ratings\": ratings\n",
    "  }\n",
    ")\n",
    "print(company_ratings.head())"
   ]
  },
  {
   "cell_type": "markdown",
   "metadata": {},
   "source": [
    "Let's create a top 10 of the companies with the best ratings."
   ]
  },
  {
   "cell_type": "code",
   "execution_count": 8,
   "metadata": {},
   "outputs": [
    {
     "name": "stdout",
     "output_type": "stream",
     "text": [
      "Company\n",
      "Tobago Estate (Pralus)                  4.000000\n",
      "Heirloom Cacao Preservation (Zokoko)    3.875000\n",
      "Ocelot                                  3.875000\n",
      "Matale                                  3.812500\n",
      "Patric                                  3.791667\n",
      "Idilio (Felchlin)                       3.775000\n",
      "Chocola'te                              3.750000\n",
      "Christopher Morel (Felchlin)            3.750000\n",
      "Dole (Guittard)                         3.750000\n",
      "Kerchner                                3.750000\n",
      "Name: Ratings, dtype: float64\n"
     ]
    }
   ],
   "source": [
    "ratings_by_company = company_ratings.groupby(\"Company\").Ratings.mean()\n",
    "print(ratings_by_company.nlargest(10))"
   ]
  },
  {
   "cell_type": "markdown",
   "metadata": {},
   "source": [
    "Now let's add the percentages of cocoa to the first table that we have created, in order to establish whether there's a relationship between the percentage of cocoa and the rating assigned to each bar."
   ]
  },
  {
   "cell_type": "code",
   "execution_count": 9,
   "metadata": {},
   "outputs": [
    {
     "name": "stdout",
     "output_type": "stream",
     "text": [
      "    Company  Ratings  CocoaPercentage\n",
      "0      5150     3.75             76.0\n",
      "1      5150     3.50             76.0\n",
      "2      5150     3.25             76.0\n",
      "3  A. Morin     3.75             63.0\n",
      "4  A. Morin     3.50             70.0\n"
     ]
    }
   ],
   "source": [
    "company_ratings[\"CocoaPercentage\"] = cocoa_percentages\n",
    "print(company_ratings.head())"
   ]
  },
  {
   "cell_type": "markdown",
   "metadata": {},
   "source": [
    "Let's use a Scatterplot to visualize this relationship."
   ]
  },
  {
   "cell_type": "code",
   "execution_count": 10,
   "metadata": {},
   "outputs": [
    {
     "data": {
      "image/png": "[encoded data removed]",
      "text/plain": [
       "<Figure size 432x288 with 1 Axes>"
      ]
     },
     "metadata": {
      "needs_background": "light"
     },
     "output_type": "display_data"
    },
    {
     "data": {
      "text/plain": [
       "<Figure size 432x288 with 0 Axes>"
      ]
     },
     "metadata": {},
     "output_type": "display_data"
    }
   ],
   "source": [
    "plt.scatter(company_ratings.CocoaPercentage, company_ratings.Ratings)\n",
    "z = np.polyfit(company_ratings.CocoaPercentage, company_ratings.Ratings, 1)\n",
    "line_function = np.poly1d(z)\n",
    "plt.plot(company_ratings.CocoaPercentage, line_function(company_ratings.CocoaPercentage), \"r--\")\n",
    "plt.show()\n",
    "plt.clf()"
   ]
  },
  {
   "cell_type": "markdown",
   "metadata": {},
   "source": [
    "Doesn't seem self-explanatory at all. If anything, it seems to suggest that a higher percentage of cocoa in the bar results in a worse product."
   ]
  }
 ],
 "metadata": {
  "kernelspec": {
   "display_name": "Python 3",
   "language": "python",
   "name": "python3"
  },
  "language_info": {
   "codemirror_mode": {
    "name": "ipython",
    "version": 3
   },
   "file_extension": ".py",
   "mimetype": "text/x-python",
   "name": "python",
   "nbconvert_exporter": "python",
   "pygments_lexer": "ipython3",
   "version": "3.9.5"
  }
 },
 "nbformat": 4,
 "nbformat_minor": 4
}
