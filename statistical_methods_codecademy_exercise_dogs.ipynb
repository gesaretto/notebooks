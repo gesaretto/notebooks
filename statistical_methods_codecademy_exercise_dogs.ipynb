{
 "cells": [
  {
   "cell_type": "code",
   "execution_count": null,
   "metadata": {},
   "outputs": [],
   "source": [
    "import numpy as np\n",
    "import fetchmaker\n",
    "import pandas as pd\n",
    "# from scipy import ttest_1samp\n",
    "from scipy.stats import binom_test, f_oneway, chi2_contingency\n",
    "from statsmodels.stats.multicomp import pairwise_tukeyhsd\n",
    "\n",
    "# Rottweilers' tail length data\n",
    "rottweiler_tl = fetchmaker.get_tail_length(\"rottweiler\")\n",
    "print \"The mean tail length for rottweilers in the datbase is {mean} inches, with a standard deviation of {std} inches.\\n\".format(mean = np.mean(rottweiler_tl), std = np.std(rottweiler_tl))\n",
    "\n",
    "# Whippets' rescue data\n",
    "whippet_rescue = fetchmaker.get_is_rescue(\"whippet\")\n",
    "num_whippets = len(whippet_rescue)\n",
    "num_whippet_rescues = len(\n",
    "  whippet_rescue[whippet_rescue == 1]\n",
    "  )\n",
    "whippet_rescues_test = binom_test(num_whippet_rescues, n=num_whippets, p=0.08)\n",
    "print \"There is a {:.5%} probability that this group of whippets came from a population where the average of rescued animals equals 8%.\\n\".format(whippet_rescues_test)\n",
    "\n",
    "# Significant difference in the average weight of three dog populations\n",
    "whippet_weights = fetchmaker.get_weight(\"whippet\")\n",
    "print \"The average weight of a whippet is {} lbs.\\n\".format(np.mean(whippet_weights))\n",
    "terrier_weights = fetchmaker.get_weight(\"terrier\")\n",
    "print \"The average weight of a terrier is {} lbs.\\n\".format(np.mean(terrier_weights))\n",
    "pitbull_weights = fetchmaker.get_weight(\"pitbull\")\n",
    "print \"The average weight of a pitbull is {} lbs.\\n\".format(np.mean(pitbull_weights))\n",
    "# Performing an ANOVA test on the weights\n",
    "weight_anova_test = f_oneway(whippet_weights, terrier_weights, pitbull_weights)\n",
    "print \"The probability that these groups belong to a population that shares the same average weight is {:.5%}.\\n\".format(weight_anova_test[1])\n",
    "# Performing a Tukey range test on the weights\n",
    "weight_labels = [\"whippet\" for i in whippet_weights] + [\"terrier\" for i in terrier_weights] + [\"pitbull\" for i in pitbull_weights]\n",
    "all_weights = [i for i in whippet_weights] + [i for i in terrier_weights] + [i for i in pitbull_weights]\n",
    "weight_tukey_test = pairwise_tukeyhsd(all_weights, weight_labels, alpha=0.05)\n",
    "print weight_tukey_test\n",
    "print \"It is improbable that pitbulls and terriers come from a population that shares the same weight.\\n\"\n",
    "print \"It is probable that pitbulls and whippets come from a population that shares the same weight.\\n\"\n",
    "print \"It is improbable that terriers and whippets come from a population that shares the same weight.\\n\"\n",
    "\n",
    "# Significant differences in color breakdowns of two groups of dogs\n",
    "poodle_colors = fetchmaker.get_color(\"poodle\")\n",
    "shihtzu_colors = fetchmaker.get_color(\"shihtzu\")\n",
    "color_table = [\n",
    "  [len(poodle_colors[poodle_colors == \"black\"]),\n",
    "  len(shihtzu_colors[shihtzu_colors == \"black\"])],\n",
    "  [len(poodle_colors[poodle_colors == \"brown\"]),\n",
    "  len(shihtzu_colors[shihtzu_colors == \"brown\"])],\n",
    "  [len(poodle_colors[poodle_colors == \"gold\"]),\n",
    "  len(shihtzu_colors[shihtzu_colors == \"gold\"])],\n",
    "  [len(poodle_colors[poodle_colors == \"grey\"]),\n",
    "  len(shihtzu_colors[shihtzu_colors == \"grey\"])]\n",
    "]\n",
    "chi2_color_test = chi2_contingency(color_table)\n",
    "print \"The probability that there is no statistical dependence between color and breed is {:.5%}.\\n\".format(chi2_color_test[1])"
   ]
  }
 ],
 "metadata": {
  "kernelspec": {
   "display_name": "Python 3",
   "language": "python",
   "name": "python3"
  },
  "language_info": {
   "codemirror_mode": {
    "name": "ipython",
    "version": 3
   },
   "file_extension": ".py",
   "mimetype": "text/x-python",
   "name": "python",
   "nbconvert_exporter": "python",
   "pygments_lexer": "ipython3",
   "version": "3.8.5"
  }
 },
 "nbformat": 4,
 "nbformat_minor": 4
}
