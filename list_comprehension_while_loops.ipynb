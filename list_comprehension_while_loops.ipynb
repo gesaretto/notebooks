{
 "cells": [
  {
   "cell_type": "markdown",
   "metadata": {},
   "source": [
    "# Advanced Loops & List Comprehension"
   ]
  },
  {
   "cell_type": "markdown",
   "metadata": {},
   "source": [
    "### While loop with .pop()"
   ]
  },
  {
   "cell_type": "code",
   "execution_count": 1,
   "metadata": {},
   "outputs": [
    {
     "name": "stdout",
     "output_type": "stream",
     "text": [
      "['Alex', 'Briana', 'Cheri', 'Daniele']\n",
      "['Loki', 'Arius', 'Obie', 'Alexa', 'Minerva', 'Dora']\n"
     ]
    }
   ],
   "source": [
    "all_students = [\"Alex\", \"Briana\", \"Cheri\", \"Daniele\", \"Dora\", \"Minerva\", \"Alexa\", \"Obie\", \"Arius\", \"Loki\"]\n",
    "students_in_poetry = []\n",
    "\n",
    "while len(students_in_poetry) < 6:\n",
    "  students_in_poetry.append(all_students[-1])\n",
    "  all_students.pop()\n",
    "\n",
    "print(all_students)\n",
    "print(students_in_poetry)"
   ]
  },
  {
   "cell_type": "markdown",
   "metadata": {},
   "source": [
    "### List Comprehension\n",
    "A quick way to operate on each element on a list."
   ]
  },
  {
   "cell_type": "markdown",
   "metadata": {},
   "source": [
    "One can put \"if\" loops in one line."
   ]
  },
  {
   "cell_type": "code",
   "execution_count": 3,
   "metadata": {},
   "outputs": [
    {
     "name": "stdout",
     "output_type": "stream",
     "text": [
      "[164, 170, 163, 163]\n"
     ]
    }
   ],
   "source": [
    "heights = [161, 164, 156, 144, 158, 170, 163, 163, 157]\n",
    "\n",
    "can_ride_coaster = [height for height in heights if height > 161]\n",
    "\n",
    "print(can_ride_coaster)"
   ]
  },
  {
   "cell_type": "markdown",
   "metadata": {},
   "source": [
    "Or produce a new list where each element of a list has been changed."
   ]
  },
  {
   "cell_type": "code",
   "execution_count": 2,
   "metadata": {},
   "outputs": [
    {
     "name": "stdout",
     "output_type": "stream",
     "text": [
      "[32.0, 50.0, 59.0, 89.6, 23.0, 80.6, 37.4]\n"
     ]
    }
   ],
   "source": [
    "celsius = [0, 10, 15, 32, -5, 27, 3]\n",
    "fahrenheit = [temperature * 9/5 + 32 for temperature in celsius]\n",
    "print(fahrenheit)"
   ]
  },
  {
   "cell_type": "markdown",
   "metadata": {},
   "source": [
    "More examples:"
   ]
  },
  {
   "cell_type": "code",
   "execution_count": 1,
   "metadata": {},
   "outputs": [
    {
     "name": "stdout",
     "output_type": "stream",
     "text": [
      "0\n",
      "1\n",
      "2\n",
      "3\n",
      "4\n",
      "5\n",
      "6\n",
      "7\n",
      "8\n",
      "9\n",
      "[0, 1, 4, 9, 16, 25, 36, 49, 64, 81]\n",
      "[0, 1, 8, 27, 64, 125, 216, 343, 512, 729]\n"
     ]
    }
   ],
   "source": [
    "## Making lists with range()\n",
    "single_digits = list(range(10))\n",
    "\n",
    "## Making lists the old-fashioned way\n",
    "squares = []\n",
    "\n",
    "## Creating Loops the old-fashioned way\n",
    "for digit in single_digits:\n",
    "  squares.append(digit ** 2)\n",
    "  print(digit)\n",
    "## Test\n",
    "print(squares)\n",
    "\n",
    "## Looping with list comprehension\n",
    "cubes = [digit ** 3 for digit in single_digits]\n",
    "## Test\n",
    "print(cubes)"
   ]
  }
 ],
 "metadata": {
  "kernelspec": {
   "display_name": "Python 3",
   "language": "python",
   "name": "python3"
  },
  "language_info": {
   "codemirror_mode": {
    "name": "ipython",
    "version": 3
   },
   "file_extension": ".py",
   "mimetype": "text/x-python",
   "name": "python",
   "nbconvert_exporter": "python",
   "pygments_lexer": "ipython3",
   "version": "3.8.5"
  }
 },
 "nbformat": 4,
 "nbformat_minor": 4
}
