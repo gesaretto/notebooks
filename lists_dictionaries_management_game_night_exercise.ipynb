{
 "cells": [
  {
   "cell_type": "code",
   "execution_count": 1,
   "metadata": {},
   "outputs": [],
   "source": [
    "gamers = []"
   ]
  },
  {
   "cell_type": "code",
   "execution_count": 2,
   "metadata": {},
   "outputs": [],
   "source": [
    "def add_gamer(gamer, gamers_list):\n",
    "    if \"name\" in gamer and \"availability\" in gamer:\n",
    "        gamers_list.append(gamer)"
   ]
  },
  {
   "cell_type": "code",
   "execution_count": 3,
   "metadata": {},
   "outputs": [
    {
     "name": "stdout",
     "output_type": "stream",
     "text": [
      "[{'name': 'Kimberly Warner', 'availability': ['Monday', 'Tuesday', 'Friday']}]\n"
     ]
    }
   ],
   "source": [
    "kimberly = {\"name\": \"Kimberly Warner\", \"availability\": [\"Monday\", \"Tuesday\", \"Friday\"]}\n",
    "add_gamer(kimberly, gamers)\n",
    "print(gamers)"
   ]
  },
  {
   "cell_type": "code",
   "execution_count": 4,
   "metadata": {},
   "outputs": [],
   "source": [
    "add_gamer({'name':'Thomas Nelson','availability': [\"Tuesday\", \"Thursday\", \"Saturday\"]}, gamers)\n",
    "add_gamer({'name':'Joyce Sellers','availability': [\"Monday\", \"Wednesday\", \"Friday\", \"Saturday\"]}, gamers)\n",
    "add_gamer({'name':'Michelle Reyes','availability': [\"Wednesday\", \"Thursday\", \"Sunday\"]}, gamers)\n",
    "add_gamer({'name':'Stephen Adams','availability': [\"Thursday\", \"Saturday\"]}, gamers)\n",
    "add_gamer({'name': 'Joanne Lynn', 'availability': [\"Monday\", \"Thursday\"]}, gamers)\n",
    "add_gamer({'name':'Latasha Bryan','availability': [\"Monday\", \"Sunday\"]}, gamers)\n",
    "add_gamer({'name':'Crystal Brewer','availability': [\"Thursday\", \"Friday\", \"Saturday\"]}, gamers)\n",
    "add_gamer({'name':'James Barnes Jr.','availability': [\"Tuesday\", \"Wednesday\", \"Thursday\", \"Sunday\"]}, gamers)\n",
    "add_gamer({'name':'Michel Trujillo','availability': [\"Monday\", \"Tuesday\", \"Wednesday\"]}, gamers)"
   ]
  },
  {
   "cell_type": "code",
   "execution_count": 5,
   "metadata": {},
   "outputs": [
    {
     "name": "stdout",
     "output_type": "stream",
     "text": [
      "{'Monday': 0, 'Tuesday': 0, 'Wednesday': 0, 'Thursday': 0, 'Friday': 0, 'Saturday': 0, 'Sunday': 0}\n"
     ]
    }
   ],
   "source": [
    "def build_daily_frequency_table():\n",
    "    return {\"Monday\": 0, \"Tuesday\": 0, \"Wednesday\": 0, \"Thursday\": 0, \"Friday\": 0, \"Saturday\": 0, \"Sunday\": 0}\n",
    "\n",
    "count_availability = build_daily_frequency_table()\n",
    "print(count_availability)"
   ]
  },
  {
   "cell_type": "code",
   "execution_count": 6,
   "metadata": {},
   "outputs": [],
   "source": [
    "def calculate_availability(gamers_list, available_frequency):\n",
    "    for gamer in gamers_list:\n",
    "        # print(gamer)\n",
    "        for day in gamer[\"availability\"]:\n",
    "            # print(day)\n",
    "            available_frequency[day] += 1"
   ]
  },
  {
   "cell_type": "code",
   "execution_count": 7,
   "metadata": {
    "scrolled": true
   },
   "outputs": [
    {
     "name": "stdout",
     "output_type": "stream",
     "text": [
      "{'Monday': 5, 'Tuesday': 4, 'Wednesday': 4, 'Thursday': 6, 'Friday': 3, 'Saturday': 4, 'Sunday': 3}\n"
     ]
    }
   ],
   "source": [
    "calculate_availability(gamers, count_availability)\n",
    "print(count_availability)"
   ]
  },
  {
   "cell_type": "code",
   "execution_count": 8,
   "metadata": {},
   "outputs": [],
   "source": [
    "def find_best_night(availability_table):\n",
    "    most_picks = 0\n",
    "    most_picked = 0\n",
    "    for day in availability_table:\n",
    "        # print(day, availability_table[day])\n",
    "        if availability_table[day] > most_picks:\n",
    "            most_picks = availability_table[day]\n",
    "            # print(most_picks)\n",
    "            most_picked = day\n",
    "    return most_picked"
   ]
  },
  {
   "cell_type": "code",
   "execution_count": 9,
   "metadata": {},
   "outputs": [
    {
     "name": "stdout",
     "output_type": "stream",
     "text": [
      "Thursday\n"
     ]
    }
   ],
   "source": [
    "game_night = find_best_night(count_availability)\n",
    "print(game_night)"
   ]
  },
  {
   "cell_type": "code",
   "execution_count": 10,
   "metadata": {},
   "outputs": [
    {
     "name": "stdout",
     "output_type": "stream",
     "text": [
      "['Thomas Nelson', 'Michelle Reyes', 'Stephen Adams', 'Joanne Lynn', 'Crystal Brewer', 'James Barnes Jr.']\n"
     ]
    }
   ],
   "source": [
    "def available_on_night(gamers_list, day):\n",
    "    return [gamer[\"name\"] for gamer in gamers_list if day in gamer[\"availability\"]]\n",
    "attending_game_night = available_on_night(gamers, game_night)\n",
    "print(attending_game_night)"
   ]
  },
  {
   "cell_type": "code",
   "execution_count": 11,
   "metadata": {},
   "outputs": [],
   "source": [
    "def form_email(name, day_of_week, game):\n",
    "    return \"\"\"\n",
    "Dear {},\n",
    "Adventure awaits! Join us at the Sorcery Society for an exciting night of gaming!\n",
    "We will meet on {}, at 9:00 pm, to play one of the best games of all times: {}\n",
    "Please reply to this email to RSVP.\n",
    "Looking forward to seeing you,\n",
    "Your Friendly Sorcerer\"\"\".format(name, day_of_week, game)"
   ]
  },
  {
   "cell_type": "code",
   "execution_count": 12,
   "metadata": {},
   "outputs": [
    {
     "name": "stdout",
     "output_type": "stream",
     "text": [
      "\n",
      "Dear Thomas Nelson,\n",
      "Adventure awaits! Join us at the Sorcery Society for an exciting night of gaming!\n",
      "We will meet on Thursday, at 9:00 pm, to play one of the best games of all times: Abruptly Goblins!\n",
      "Please reply to this email to RSVP.\n",
      "Looking forward to seeing you,\n",
      "Your Friendly Sorcerer\n",
      "\n",
      "Dear Michelle Reyes,\n",
      "Adventure awaits! Join us at the Sorcery Society for an exciting night of gaming!\n",
      "We will meet on Thursday, at 9:00 pm, to play one of the best games of all times: Abruptly Goblins!\n",
      "Please reply to this email to RSVP.\n",
      "Looking forward to seeing you,\n",
      "Your Friendly Sorcerer\n",
      "\n",
      "Dear Stephen Adams,\n",
      "Adventure awaits! Join us at the Sorcery Society for an exciting night of gaming!\n",
      "We will meet on Thursday, at 9:00 pm, to play one of the best games of all times: Abruptly Goblins!\n",
      "Please reply to this email to RSVP.\n",
      "Looking forward to seeing you,\n",
      "Your Friendly Sorcerer\n",
      "\n",
      "Dear Joanne Lynn,\n",
      "Adventure awaits! Join us at the Sorcery Society for an exciting night of gaming!\n",
      "We will meet on Thursday, at 9:00 pm, to play one of the best games of all times: Abruptly Goblins!\n",
      "Please reply to this email to RSVP.\n",
      "Looking forward to seeing you,\n",
      "Your Friendly Sorcerer\n",
      "\n",
      "Dear Crystal Brewer,\n",
      "Adventure awaits! Join us at the Sorcery Society for an exciting night of gaming!\n",
      "We will meet on Thursday, at 9:00 pm, to play one of the best games of all times: Abruptly Goblins!\n",
      "Please reply to this email to RSVP.\n",
      "Looking forward to seeing you,\n",
      "Your Friendly Sorcerer\n",
      "\n",
      "Dear James Barnes Jr.,\n",
      "Adventure awaits! Join us at the Sorcery Society for an exciting night of gaming!\n",
      "We will meet on Thursday, at 9:00 pm, to play one of the best games of all times: Abruptly Goblins!\n",
      "Please reply to this email to RSVP.\n",
      "Looking forward to seeing you,\n",
      "Your Friendly Sorcerer\n"
     ]
    }
   ],
   "source": [
    "def send_email(gamers_who_can_attend, day, game):\n",
    "    for gamer in gamers_who_can_attend:\n",
    "        print(form_email(gamer, day, game))\n",
    "send_email(attending_game_night, game_night, \"Abruptly Goblins!\")"
   ]
  },
  {
   "cell_type": "code",
   "execution_count": 13,
   "metadata": {},
   "outputs": [
    {
     "name": "stdout",
     "output_type": "stream",
     "text": [
      "[{'name': 'Kimberly Warner', 'availability': ['Monday', 'Tuesday', 'Friday']}, {'name': 'Joyce Sellers', 'availability': ['Monday', 'Wednesday', 'Friday', 'Saturday']}, {'name': 'Latasha Bryan', 'availability': ['Monday', 'Sunday']}, {'name': 'Michel Trujillo', 'availability': ['Monday', 'Tuesday', 'Wednesday']}]\n",
      "{'Monday': 4, 'Tuesday': 2, 'Wednesday': 2, 'Thursday': 0, 'Friday': 2, 'Saturday': 1, 'Sunday': 1}\n",
      "Monday\n"
     ]
    }
   ],
   "source": [
    "unable_to_attend_best_night = [gamer for gamer in gamers if game_night not in gamer[\"availability\"]]\n",
    "print(unable_to_attend_best_night)\n",
    "second_night_availability = build_daily_frequency_table()\n",
    "calculate_availability(unable_to_attend_best_night, second_night_availability)\n",
    "print(second_night_availability)\n",
    "second_night = find_best_night(second_night_availability)\n",
    "print(second_night)"
   ]
  },
  {
   "cell_type": "code",
   "execution_count": 15,
   "metadata": {},
   "outputs": [
    {
     "name": "stdout",
     "output_type": "stream",
     "text": [
      "['Kimberly Warner', 'Joyce Sellers', 'Joanne Lynn', 'Latasha Bryan', 'Michel Trujillo']\n",
      "\n",
      "Dear Kimberly Warner,\n",
      "Adventure awaits! Join us at the Sorcery Society for an exciting night of gaming!\n",
      "We will meet on Monday, at 9:00 pm, to play one of the best games of all times: Abruptly Goblins!\n",
      "Please reply to this email to RSVP.\n",
      "Looking forward to seeing you,\n",
      "Your Friendly Sorcerer\n",
      "\n",
      "Dear Joyce Sellers,\n",
      "Adventure awaits! Join us at the Sorcery Society for an exciting night of gaming!\n",
      "We will meet on Monday, at 9:00 pm, to play one of the best games of all times: Abruptly Goblins!\n",
      "Please reply to this email to RSVP.\n",
      "Looking forward to seeing you,\n",
      "Your Friendly Sorcerer\n",
      "\n",
      "Dear Joanne Lynn,\n",
      "Adventure awaits! Join us at the Sorcery Society for an exciting night of gaming!\n",
      "We will meet on Monday, at 9:00 pm, to play one of the best games of all times: Abruptly Goblins!\n",
      "Please reply to this email to RSVP.\n",
      "Looking forward to seeing you,\n",
      "Your Friendly Sorcerer\n",
      "\n",
      "Dear Latasha Bryan,\n",
      "Adventure awaits! Join us at the Sorcery Society for an exciting night of gaming!\n",
      "We will meet on Monday, at 9:00 pm, to play one of the best games of all times: Abruptly Goblins!\n",
      "Please reply to this email to RSVP.\n",
      "Looking forward to seeing you,\n",
      "Your Friendly Sorcerer\n",
      "\n",
      "Dear Michel Trujillo,\n",
      "Adventure awaits! Join us at the Sorcery Society for an exciting night of gaming!\n",
      "We will meet on Monday, at 9:00 pm, to play one of the best games of all times: Abruptly Goblins!\n",
      "Please reply to this email to RSVP.\n",
      "Looking forward to seeing you,\n",
      "Your Friendly Sorcerer\n"
     ]
    }
   ],
   "source": [
    "available_second_game_night = available_on_night(gamers, second_night)\n",
    "print(available_second_game_night)\n",
    "send_email(available_second_game_night, second_night, \"Abruptly Goblins!\")"
   ]
  }
 ],
 "metadata": {
  "kernelspec": {
   "display_name": "Python 3",
   "language": "python",
   "name": "python3"
  },
  "language_info": {
   "codemirror_mode": {
    "name": "ipython",
    "version": 3
   },
   "file_extension": ".py",
   "mimetype": "text/x-python",
   "name": "python",
   "nbconvert_exporter": "python",
   "pygments_lexer": "ipython3",
   "version": "3.8.5"
  }
 },
 "nbformat": 4,
 "nbformat_minor": 2
}
