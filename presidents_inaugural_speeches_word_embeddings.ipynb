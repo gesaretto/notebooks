{
 "cells": [
  {
   "cell_type": "markdown",
   "metadata": {},
   "source": [
    "# Gensim Word Embeddings Practice\n",
    "\n",
    "## Term Co-occurence in Presidential Inaugural Speeches"
   ]
  },
  {
   "cell_type": "markdown",
   "metadata": {},
   "source": [
    "Importing libraries for NLP and text preprocessing, together with a corpus of presidential inaugural speeches."
   ]
  },
  {
   "cell_type": "code",
   "execution_count": 1,
   "metadata": {},
   "outputs": [],
   "source": [
    "from nltk.corpus import inaugural, stopwords\n",
    "from nltk.stem import WordNetLemmatizer\n",
    "from nltk import pos_tag\n",
    "from collections import Counter\n",
    "import re\n",
    "import gensim\n",
    "import spacy"
   ]
  },
  {
   "cell_type": "markdown",
   "metadata": {},
   "source": [
    "Initializing the lemmatizer, creating variables to contain the presidential speeches and the English stop words."
   ]
  },
  {
   "cell_type": "code",
   "execution_count": 2,
   "metadata": {},
   "outputs": [],
   "source": [
    "english_stopwords = stopwords.words(\"english\") + [\"us\"]\n",
    "list_of_speeches = inaugural.fileids()\n",
    "lemmatizer = WordNetLemmatizer()"
   ]
  },
  {
   "cell_type": "markdown",
   "metadata": {},
   "source": [
    "The first function greets the user and delivers the list of inaugural speeches contained in the corpus, extracting the president's name and the year using Regex."
   ]
  },
  {
   "cell_type": "code",
   "execution_count": 3,
   "metadata": {},
   "outputs": [
    {
     "name": "stdout",
     "output_type": "stream",
     "text": [
      "Hello, I have a bunch of inaugural speeches to analyze! Here they are:\n",
      "\n",
      "President Washington delivered his inaugural speech in 1789.\n",
      "President Washington delivered his inaugural speech in 1793.\n",
      "President Adams delivered his inaugural speech in 1797.\n",
      "President Jefferson delivered his inaugural speech in 1801.\n",
      "President Jefferson delivered his inaugural speech in 1805.\n",
      "President Madison delivered his inaugural speech in 1809.\n",
      "President Madison delivered his inaugural speech in 1813.\n",
      "President Monroe delivered his inaugural speech in 1817.\n",
      "President Monroe delivered his inaugural speech in 1821.\n",
      "President Adams delivered his inaugural speech in 1825.\n",
      "President Jackson delivered his inaugural speech in 1829.\n",
      "President Jackson delivered his inaugural speech in 1833.\n",
      "President VanBuren delivered his inaugural speech in 1837.\n",
      "President Harrison delivered his inaugural speech in 1841.\n",
      "President Polk delivered his inaugural speech in 1845.\n",
      "President Taylor delivered his inaugural speech in 1849.\n",
      "President Pierce delivered his inaugural speech in 1853.\n",
      "President Buchanan delivered his inaugural speech in 1857.\n",
      "President Lincoln delivered his inaugural speech in 1861.\n",
      "President Lincoln delivered his inaugural speech in 1865.\n",
      "President Grant delivered his inaugural speech in 1869.\n",
      "President Grant delivered his inaugural speech in 1873.\n",
      "President Hayes delivered his inaugural speech in 1877.\n",
      "President Garfield delivered his inaugural speech in 1881.\n",
      "President Cleveland delivered his inaugural speech in 1885.\n",
      "President Harrison delivered his inaugural speech in 1889.\n",
      "President Cleveland delivered his inaugural speech in 1893.\n",
      "President McKinley delivered his inaugural speech in 1897.\n",
      "President McKinley delivered his inaugural speech in 1901.\n",
      "President Roosevelt delivered his inaugural speech in 1905.\n",
      "President Taft delivered his inaugural speech in 1909.\n",
      "President Wilson delivered his inaugural speech in 1913.\n",
      "President Wilson delivered his inaugural speech in 1917.\n",
      "President Harding delivered his inaugural speech in 1921.\n",
      "President Coolidge delivered his inaugural speech in 1925.\n",
      "President Hoover delivered his inaugural speech in 1929.\n",
      "President Roosevelt delivered his inaugural speech in 1933.\n",
      "President Roosevelt delivered his inaugural speech in 1937.\n",
      "President Roosevelt delivered his inaugural speech in 1941.\n",
      "President Roosevelt delivered his inaugural speech in 1945.\n",
      "President Truman delivered his inaugural speech in 1949.\n",
      "President Eisenhower delivered his inaugural speech in 1953.\n",
      "President Eisenhower delivered his inaugural speech in 1957.\n",
      "President Kennedy delivered his inaugural speech in 1961.\n",
      "President Johnson delivered his inaugural speech in 1965.\n",
      "President Nixon delivered his inaugural speech in 1969.\n",
      "President Nixon delivered his inaugural speech in 1973.\n",
      "President Carter delivered his inaugural speech in 1977.\n",
      "President Reagan delivered his inaugural speech in 1981.\n",
      "President Reagan delivered his inaugural speech in 1985.\n",
      "President Bush delivered his inaugural speech in 1989.\n",
      "President Clinton delivered his inaugural speech in 1993.\n",
      "President Clinton delivered his inaugural speech in 1997.\n",
      "President Bush delivered his inaugural speech in 2001.\n",
      "President Bush delivered his inaugural speech in 2005.\n",
      "President Obama delivered his inaugural speech in 2009.\n",
      "President Obama delivered his inaugural speech in 2013.\n",
      "President Trump delivered his inaugural speech in 2017.\n"
     ]
    }
   ],
   "source": [
    "def list_presidents_speeches(list_of_speeches):\n",
    "    print(\"Hello, I have a bunch of inaugural speeches to analyze! Here they are:\\n\")\n",
    "    for speech_title in list_of_speeches:\n",
    "        for year, name in re.findall(\"(\\d{4})-(.+)\\.txt\", speech_title):\n",
    "            print(f\"President {name} delivered his inaugural speech in {year}.\")\n",
    "\n",
    "list_presidents_speeches(list_of_speeches)"
   ]
  },
  {
   "cell_type": "markdown",
   "metadata": {},
   "source": [
    "The second function collects all the speeches delivered by the same president (**and by presidents who have the same last name; no easy turnaround here without changing the dataset**) into a single list variable."
   ]
  },
  {
   "cell_type": "code",
   "execution_count": 4,
   "metadata": {},
   "outputs": [],
   "source": [
    "def collect_presidents_speeches(president):\n",
    "    collected_presidents_speeches = []\n",
    "    regex_title_formula = \"\\d{4}-\" + president + \"\\.txt\"\n",
    "    speeches_by_president = [title for title in list_of_speeches if re.match(regex_title_formula, title)]\n",
    "    for title in speeches_by_president:\n",
    "        for sentence in inaugural.sents(title):\n",
    "            collected_presidents_speeches.append(sentence)\n",
    "    return collected_presidents_speeches"
   ]
  },
  {
   "cell_type": "markdown",
   "metadata": {},
   "source": [
    "The following three functions clean up the text (make it lowercase, remove stopwords) and lemmatize it using WordNetLemmatizer and the POS tagging in NLTK."
   ]
  },
  {
   "cell_type": "code",
   "execution_count": 5,
   "metadata": {},
   "outputs": [],
   "source": [
    "def lemmatize_with_pos(tokenized_string):\n",
    "    tag_dict = {\"J\": \"a\", \"R\": \"r\", \"V\": \"v\", \"N\": \"n\"}\n",
    "    lemmatized_string = []\n",
    "    # print(pos_tag(tokenized_string))\n",
    "    for token, tag in pos_tag(tokenized_string):\n",
    "        if lemmatizer.lemmatize(tag[0].upper()) in tag_dict:\n",
    "            lemmatized = lemmatizer.lemmatize(token, tag_dict[tag[0].upper()])\n",
    "        else:\n",
    "            lemmatized = lemmatizer.lemmatize(token)\n",
    "        lemmatized_string.append(lemmatized)\n",
    "    return lemmatized_string\n",
    "    \n",
    "def clean_up_text(text):\n",
    "    words_regex = \"\\w+\"\n",
    "    cleaned_text = []\n",
    "    for sentence in text:\n",
    "        cleaned_sentence = []\n",
    "        for token in sentence:\n",
    "            word = str(token).lower()\n",
    "            if re.match(words_regex, word) and word not in english_stopwords:\n",
    "                cleaned_sentence.append(word)\n",
    "        cleaned_text.append(cleaned_sentence)\n",
    "    return cleaned_text\n",
    "\n",
    "def preprocess_speeches(speeches):\n",
    "    cleaned_speeches = clean_up_text(speeches)\n",
    "    lemmatized_speeches = [lemmatize_with_pos(sentence) for sentence in cleaned_speeches]\n",
    "    return lemmatized_speeches"
   ]
  },
  {
   "cell_type": "markdown",
   "metadata": {},
   "source": [
    "This function prints a list of the twenty most frequent words found in the corpus of speeches delivered by the same president (**or, rather, by presidents who share the same last name**)."
   ]
  },
  {
   "cell_type": "code",
   "execution_count": 6,
   "metadata": {},
   "outputs": [],
   "source": [
    "def print_most_frequent_words(processed_speeches):\n",
    "    all_words = []\n",
    "    most_common_terms = []\n",
    "    for sentence in processed_speeches:\n",
    "        for word in sentence:\n",
    "            all_words.append(word)\n",
    "    for term, ranking in Counter(all_words).most_common(20):\n",
    "        print(term)\n",
    "        most_common_terms.append(list(term))\n",
    "    return most_common_terms"
   ]
  },
  {
   "cell_type": "markdown",
   "metadata": {},
   "source": [
    "Finally, the main function in this script asks the user for the last name of the president whose speeches they wish to analyze, delivers the list of most common words, and then asks the user to enter a word whose most frequent co-occurring terms they wish to see. It finally delivers this list. If the word is not in the dictionary of words used by the president, the error is handled by the except clause."
   ]
  },
  {
   "cell_type": "code",
   "execution_count": 7,
   "metadata": {},
   "outputs": [
    {
     "name": "stdout",
     "output_type": "stream",
     "text": [
      "Whose inaugural speeches would you like to analyze?\n",
      "> Lincoln\n",
      "\n",
      "These are the words that President Lincoln used the most:\n",
      "\n",
      "state\n",
      "constitution\n",
      "union\n",
      "law\n",
      "shall\n",
      "government\n",
      "people\n",
      "one\n",
      "right\n",
      "upon\n",
      "may\n",
      "case\n",
      "war\n",
      "would\n",
      "make\n",
      "must\n",
      "slave\n",
      "provision\n",
      "hold\n",
      "party\n",
      "\n",
      "What is the word for which you would like to see the closest embeddings?\n",
      "> people\n",
      "\n",
      "Here are the words that President Lincoln tended to use around the word people:\n",
      "\n",
      "say\n",
      "give\n",
      "identity\n",
      "little\n",
      "violate\n",
      "hostile\n",
      "interest\n",
      "rather\n",
      "direct\n",
      "fault\n",
      "find\n",
      "hence\n",
      "minority\n",
      "possibility\n",
      "could\n",
      "none\n",
      "everywhere\n",
      "one\n",
      "others\n",
      "confidence\n"
     ]
    }
   ],
   "source": [
    "def analyze_presidents_words():\n",
    "    president = input(\"Whose inaugural speeches would you like to analyze?\\n> \")\n",
    "    speeches = preprocess_speeches(collect_presidents_speeches(president))\n",
    "    print(f\"\\nThese are the words that President {president} used the most:\\n\")\n",
    "    print_most_frequent_words(speeches)\n",
    "    word = input(\"\\nWhat is the word for which you would like to see the closest embeddings?\\n> \").lower()\n",
    "    president_embeddings = gensim.models.Word2Vec(speeches, size=96, window=5, min_count=1, workers=2, sg=1)\n",
    "    try:\n",
    "        most_similar_to_word = president_embeddings.wv.most_similar(word, topn=20)\n",
    "        print(f\"\\nHere are the words that President {president} tended to use around the word {word}:\\n\")\n",
    "        for term, score in most_similar_to_word:\n",
    "            print(term)\n",
    "        return most_similar_to_word\n",
    "    except KeyError:\n",
    "        print(f\"\\nIt looks like President {president} did not use the word {word}.\")\n",
    "        return None\n",
    "\n",
    "similar_words = analyze_presidents_words()"
   ]
  }
 ],
 "metadata": {
  "kernelspec": {
   "display_name": "Python 3",
   "language": "python",
   "name": "python3"
  },
  "language_info": {
   "codemirror_mode": {
    "name": "ipython",
    "version": 3
   },
   "file_extension": ".py",
   "mimetype": "text/x-python",
   "name": "python",
   "nbconvert_exporter": "python",
   "pygments_lexer": "ipython3",
   "version": "3.8.5"
  }
 },
 "nbformat": 4,
 "nbformat_minor": 4
}
