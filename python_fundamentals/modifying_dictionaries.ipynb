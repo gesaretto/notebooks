{
 "cells": [
  {
   "cell_type": "markdown",
   "metadata": {},
   "source": [
    "# Functions to modify dictionaries"
   ]
  },
  {
   "cell_type": "code",
   "execution_count": null,
   "metadata": {},
   "outputs": [],
   "source": [
    "available_items = {\"health potion\": 10, \"cake of the cure\": 5, \"green elixir\": 20, \"strength sandwich\": 25, \"stamina grains\": 15, \"power stew\": 30}\n",
    "health_points = 20\n",
    "\n",
    "def check_status():\n",
    "  print(\"You have {} health points.\".format(health_points))\n",
    "  print(\"Your inventory:\", available_items)\n",
    "  print(\"\")\n",
    "\n",
    "def use_item(item):\n",
    "  global health_points\n",
    "  health_points += available_items.pop(item, 0)\n",
    "  print(\"You have used {}! You now have {} health points.\".format(item, health_points))\n",
    "\n",
    "check_status()\n",
    "\n",
    "use_item(\"stamina grains\")\n",
    "# health_points += available_items.pop(\"stamina grains\", 0)\n",
    "check_status()\n",
    "\n",
    "use_item(\"power stew\")\n",
    "# health_points += available_items.pop(\"power stew\", 0)\n",
    "check_status()\n",
    "\n",
    "use_item(\"mystic bread\")\n",
    "# health_points += available_items.pop(\"mystic bread\", 0)\n",
    "check_status()"
   ]
  }
 ],
 "metadata": {
  "kernelspec": {
   "display_name": "Python 3",
   "language": "python",
   "name": "python3"
  },
  "language_info": {
   "codemirror_mode": {
    "name": "ipython",
    "version": 3
   },
   "file_extension": ".py",
   "mimetype": "text/x-python",
   "name": "python",
   "nbconvert_exporter": "python",
   "pygments_lexer": "ipython3",
   "version": "3.8.5"
  }
 },
 "nbformat": 4,
 "nbformat_minor": 4
}
