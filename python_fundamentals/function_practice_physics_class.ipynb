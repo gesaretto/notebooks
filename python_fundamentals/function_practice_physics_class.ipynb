{
 "cells": [
  {
   "cell_type": "markdown",
   "metadata": {},
   "source": [
    "# Python3 Function Exercise: Physics Class"
   ]
  },
  {
   "cell_type": "code",
   "execution_count": 1,
   "metadata": {},
   "outputs": [
    {
     "name": "stdout",
     "output_type": "stream",
     "text": [
      "100 F in C is: 37.77777777777778\n",
      "0 C in F is: 32.0\n",
      "The GE train supplies 226800 Newtons of force.\n",
      "A 1kg bomb supplies 90000000000000000 Joules.\n",
      "The GE train does 22680000 Joules of work over 100 meters.\n"
     ]
    }
   ],
   "source": [
    "train_mass = 22680\n",
    "train_acceleration = 10\n",
    "train_distance = 100\n",
    "\n",
    "bomb_mass = 1\n",
    "\n",
    "### Fahrenheit to Celsius:\n",
    "def f_to_c(f_temp):\n",
    "  c_temp = (f_temp - 32) * 5/9\n",
    "  return c_temp\n",
    "### Test:\n",
    "f100_in_celsius = f_to_c(100)\n",
    "print(\"100 F in C is:\", f100_in_celsius)\n",
    "\n",
    "### Celsius to Fahrenheit:\n",
    "def c_to_f(c_temp):\n",
    "  f_temp = c_temp * 9/5 + 32 \n",
    "  return f_temp\n",
    "### Test:\n",
    "c0_in_fahrenheit = c_to_f(0)\n",
    "print(\"0 C in F is:\", c0_in_fahrenheit)\n",
    "\n",
    "### Force:\n",
    "def get_force(mass, acceleration):\n",
    "  return mass * acceleration\n",
    "### Test:\n",
    "train_force = get_force(train_mass, train_acceleration)\n",
    "print(\"The GE train supplies\", train_force, \"Newtons of force.\")\n",
    "\n",
    "### Energy:\n",
    "def get_energy(mass, c = 3*10**8):\n",
    "  return mass * (c ** 2)\n",
    "### Test:\n",
    "bomb_energy = get_energy(bomb_mass)\n",
    "print(\"A 1kg bomb supplies\", bomb_energy, \"Joules.\")\n",
    "\n",
    "### Work:\n",
    "def get_work(mass, acceleration, distance):\n",
    "  force = get_force(mass, acceleration)\n",
    "  return force * distance\n",
    "### Test:\n",
    "train_work = get_work(train_mass, train_acceleration, train_distance)\n",
    "print(\"The GE train does\", train_work, \"Joules of work over\", train_distance, \"meters.\")"
   ]
  }
 ],
 "metadata": {
  "kernelspec": {
   "display_name": "Python 3",
   "language": "python",
   "name": "python3"
  },
  "language_info": {
   "codemirror_mode": {
    "name": "ipython",
    "version": 3
   },
   "file_extension": ".py",
   "mimetype": "text/x-python",
   "name": "python",
   "nbconvert_exporter": "python",
   "pygments_lexer": "ipython3",
   "version": "3.8.5"
  }
 },
 "nbformat": 4,
 "nbformat_minor": 4
}
