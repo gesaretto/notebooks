{
 "cells": [
  {
   "cell_type": "markdown",
   "metadata": {},
   "source": [
    "# Shipping Calculators Exercise!"
   ]
  },
  {
   "cell_type": "code",
   "execution_count": 1,
   "metadata": {},
   "outputs": [
    {
     "name": "stdout",
     "output_type": "stream",
     "text": [
      "53.6\n",
      "6.75\n",
      "Ground shipping is the cheapest!\n",
      "34.4\n",
      "Premium shipping is the cheapest!\n",
      "125\n"
     ]
    }
   ],
   "source": [
    "# Ground shipping calculator\n",
    "def ground_shipping_cost(weight):\n",
    "  if weight <= 2:\n",
    "    cost = (weight * 1.50) + 20\n",
    "  elif weight <= 6:\n",
    "    cost = (weight * 3) + 20\n",
    "  elif weight <= 10:\n",
    "    cost = (weight * 4) + 20\n",
    "  else:\n",
    "    cost = (weight * 4.75) + 20\n",
    "  return cost\n",
    "## Test\n",
    "print(ground_shipping_cost(8.4))\n",
    "\n",
    "# Premium ground shipping\n",
    "premium_ground_cost = 125\n",
    "\n",
    "# Drone shipping calculator\n",
    "def drone_shipping_cost(weight):\n",
    "  if weight <= 2:\n",
    "    cost = weight * 4.50\n",
    "  elif weight <= 6:\n",
    "    cost = weight * 9\n",
    "  elif weight <= 10:\n",
    "    cost = weight * 12\n",
    "  else:\n",
    "    cost = weight * 14.25\n",
    "  return cost\n",
    "## Test\n",
    "print(drone_shipping_cost(1.5))\n",
    "\n",
    "# Cheapest shipping calculator\n",
    "def cheapest_shipping(weight):\n",
    "  grn = ground_shipping_cost(weight)\n",
    "  drn = drone_shipping_cost(weight)\n",
    "  prm = premium_ground_cost\n",
    "  if grn < drn and grn < prm:\n",
    "    print(\"Ground shipping is the cheapest!\")\n",
    "    return grn\n",
    "  elif drn < grn and drn < prm:\n",
    "    print(\"Drone shipping is the cheapest!\")\n",
    "    return drn\n",
    "  elif prm < grn and prm < drn:\n",
    "    print(\"Premium shipping is the cheapest!\")\n",
    "    return prm\n",
    "  elif prm == grn and prm < drn:\n",
    "    print(\"You can choose either premium or ground!\")\n",
    "    return grn\n",
    "  elif prm == drn and prm < grn:\n",
    "    print(\"You can choose either premium or drone!\")\n",
    "    return prm\n",
    "  elif grn == drn and grn < prm:\n",
    "    print (\"You can choose either ground or drone!\")\n",
    "    return grn\n",
    "\n",
    "print(cheapest_shipping(4.8))\n",
    "print(cheapest_shipping(41.5))"
   ]
  },
  {
   "cell_type": "markdown",
   "metadata": {},
   "source": [
    "Note that there should be a quicker way to do the last step--the \"Cheapest Shipping Calculator\"; but I'm not sure that it can take equivalences into account."
   ]
  }
 ],
 "metadata": {
  "kernelspec": {
   "display_name": "Python 3",
   "language": "python",
   "name": "python3"
  },
  "language_info": {
   "codemirror_mode": {
    "name": "ipython",
    "version": 3
   },
   "file_extension": ".py",
   "mimetype": "text/x-python",
   "name": "python",
   "nbconvert_exporter": "python",
   "pygments_lexer": "ipython3",
   "version": "3.8.5"
  }
 },
 "nbformat": 4,
 "nbformat_minor": 4
}
