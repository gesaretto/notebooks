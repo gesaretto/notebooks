{
 "cells": [
  {
   "cell_type": "code",
   "execution_count": 1,
   "metadata": {},
   "outputs": [
    {
     "name": "stdout",
     "output_type": "stream",
     "text": [
      "7\n",
      "<function add_five at 0x000001CBBEDB35E0>\n"
     ]
    }
   ],
   "source": [
    "## Functions are objects.\n",
    "\n",
    "def add_five(num):\n",
    "    return num + 5\n",
    "\n",
    "print(add_five(2))\n",
    "\n",
    "# Note that I can print a function in the same way I would print an object.\n",
    "# I can interact with a function without invoking it, just by not adding the parentheses. \n",
    "print(add_five)"
   ]
  },
  {
   "cell_type": "code",
   "execution_count": 2,
   "metadata": {},
   "outputs": [
    {
     "name": "stdout",
     "output_type": "stream",
     "text": [
      "15\n"
     ]
    }
   ],
   "source": [
    "# We can define functions within functions.\n",
    "def add_five(num):\n",
    "    def add_two(num):\n",
    "        return num + 2\n",
    "    num_plus_two = add_two(num)\n",
    "    return num_plus_two + 3\n",
    "\n",
    "print(add_five(10))\n",
    "\n",
    "# But a function defined within a function exists only within the scope of the outer function; so, this throws an error:\n",
    "# print(add_two(7))"
   ]
  },
  {
   "cell_type": "code",
   "execution_count": 3,
   "metadata": {},
   "outputs": [
    {
     "name": "stdout",
     "output_type": "stream",
     "text": [
      "<function get_math_function.<locals>.addition at 0x000001CBBEDE2790>\n",
      "5\n",
      "3\n"
     ]
    }
   ],
   "source": [
    "# Return functions from functions; I can create a function that returns a function.\n",
    "\n",
    "def get_math_function(operation):\n",
    "    def addition(n1, n2):\n",
    "        return n1 + n2\n",
    "    def subtraction (n1, n2):\n",
    "        return n1 - n2\n",
    "    if operation == '+':\n",
    "        return addition\n",
    "    elif operation == '-':\n",
    "        return subtraction\n",
    "\n",
    "# I can then get the function I need in the same way I would get any variable from a function. \n",
    "add_function = get_math_function(\"+\")\n",
    "subtract_function = get_math_function(\"-\")\n",
    "print(add_function)\n",
    "print(add_function(2, 3))\n",
    "print(subtract_function(5, 2))"
   ]
  },
  {
   "cell_type": "code",
   "execution_count": 4,
   "metadata": {},
   "outputs": [
    {
     "name": "stdout",
     "output_type": "stream",
     "text": [
      "Goof\n",
      "Mister:\n",
      "Mickey\n"
     ]
    }
   ],
   "source": [
    "# Decorating a function\n",
    "# Decorating means creating a \"wrapper\" that can be added to any function.\n",
    "# I treat the function as the parameter and then return the same function with a wrapper (extra functionality) around it.\n",
    "\n",
    "def title_decorator(print_name_function):\n",
    "    def wrapper(*args, **kwargs):\n",
    "        print(\"Mister:\")\n",
    "        print_name_function(*args, **kwargs)\n",
    "    return wrapper\n",
    "\n",
    "def print_best_name():\n",
    "    print(\"Goof\")\n",
    "\n",
    "def print_worst_name():\n",
    "    print(\"Mickey\")\n",
    "\n",
    "    \n",
    "print_best_name()\n",
    "decorated_function = title_decorator(print_worst_name)\n",
    "decorated_function()"
   ]
  },
  {
   "cell_type": "code",
   "execution_count": 5,
   "metadata": {},
   "outputs": [
    {
     "name": "stdout",
     "output_type": "stream",
     "text": [
      "Mister:\n",
      "Bowser\n",
      "Mister:\n",
      "Larry\n"
     ]
    }
   ],
   "source": [
    "# I can add a decorator to a function by using the \"@\" sign.\n",
    "@title_decorator\n",
    "def print_biggest_name():\n",
    "    print(\"Bowser\")\n",
    "\n",
    "@title_decorator\n",
    "def print_secret_name():\n",
    "    print(\"Larry\")\n",
    "    \n",
    "print_biggest_name()\n",
    "print_secret_name()"
   ]
  },
  {
   "cell_type": "code",
   "execution_count": 6,
   "metadata": {},
   "outputs": [
    {
     "name": "stdout",
     "output_type": "stream",
     "text": [
      "Mister:\n",
      "Guendalina is 43 years old.\n"
     ]
    }
   ],
   "source": [
    "# To allow new functions to have extra parameters when working with the decorator, I give *args and **kwargs to the decorator. \n",
    "\n",
    "@title_decorator\n",
    "def print_any_name(name, age):\n",
    "    print(name + \" is \" + str(age) + \" years old.\")\n",
    "\n",
    "print_any_name(\"Guendalina\", 43)"
   ]
  }
 ],
 "metadata": {
  "kernelspec": {
   "display_name": "Python 3",
   "language": "python",
   "name": "python3"
  },
  "language_info": {
   "codemirror_mode": {
    "name": "ipython",
    "version": 3
   },
   "file_extension": ".py",
   "mimetype": "text/x-python",
   "name": "python",
   "nbconvert_exporter": "python",
   "pygments_lexer": "ipython3",
   "version": "3.8.5"
  }
 },
 "nbformat": 4,
 "nbformat_minor": 4
}
