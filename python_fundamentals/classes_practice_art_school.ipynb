{
 "cells": [
  {
   "cell_type": "markdown",
   "metadata": {},
   "source": [
    "# Classes in Python Practice: Art School Classes"
   ]
  },
  {
   "cell_type": "code",
   "execution_count": 1,
   "metadata": {},
   "outputs": [
    {
     "name": "stdout",
     "output_type": "stream",
     "text": [
      "{'Dec 16': True, 'Nov 16': False}\n",
      "False\n",
      "66.66666666666667\n",
      "[90, 70, 40]\n"
     ]
    }
   ],
   "source": [
    "class Student:\n",
    "  def __init__(self, name, year):\n",
    "    self.name = name\n",
    "    self.year = year\n",
    "    self.grades = []\n",
    "  def add_grade(self, grade):\n",
    "    if type(grade) == Grade:\n",
    "      self.grades.append(grade)\n",
    "      # print(self.grades)\n",
    "    else:\n",
    "      return None\n",
    "  def get_average(self):\n",
    "    total_grades = 0\n",
    "    for grade in self.grades:\n",
    "      total_grades += grade.score\n",
    "    return total_grades / len(self.grades)      \n",
    "\n",
    "roger = Student(\"Roger van der Weyden\", 10)\n",
    "sandro = Student(\"Sandro Botticelli\", 12)\n",
    "pieter = Student(\"Pieter Bruegel the Elder\", 8)\n",
    "\n",
    "pieter.attendance = {\"Dec 16\": True, \"Nov 16\": False}\n",
    "print(pieter.attendance)\n",
    "\n",
    "class Grade:\n",
    "  minimum_passing = 65\n",
    "  def __init__(self, score):\n",
    "    self.score = score\n",
    "  def __repr__(self):\n",
    "    return str(self.score)\n",
    "  def is_passing(self):\n",
    "    if self.score >= self.minimum_passing:\n",
    "      return True\n",
    "    else:\n",
    "      return False\n",
    "\n",
    "best_grade = Grade(100)\n",
    "pieter.add_grade(best_grade)\n",
    "\n",
    "bad_grade = Grade(40)\n",
    "medium_grade = Grade(70)\n",
    "good_grade = Grade(90)\n",
    "sandro.add_grade(good_grade)\n",
    "sandro.add_grade(medium_grade)\n",
    "sandro.add_grade(bad_grade)\n",
    "\n",
    "print(bad_grade.is_passing())\n",
    "print(sandro.get_average())\n",
    "print(sandro.grades)\n",
    "\n",
    "# print(type(good_grade))"
   ]
  }
 ],
 "metadata": {
  "kernelspec": {
   "display_name": "Python 3",
   "language": "python",
   "name": "python3"
  },
  "language_info": {
   "codemirror_mode": {
    "name": "ipython",
    "version": 3
   },
   "file_extension": ".py",
   "mimetype": "text/x-python",
   "name": "python",
   "nbconvert_exporter": "python",
   "pygments_lexer": "ipython3",
   "version": "3.8.5"
  }
 },
 "nbformat": 4,
 "nbformat_minor": 4
}
