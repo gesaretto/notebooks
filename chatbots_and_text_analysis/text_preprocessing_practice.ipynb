{
 "cells": [
  {
   "cell_type": "markdown",
   "metadata": {},
   "source": [
    "# Text Preprocessing Practice/Review"
   ]
  },
  {
   "cell_type": "markdown",
   "metadata": {},
   "source": [
    "Import tools from libraries (should look for a \"get_part_of_speech\" tool)."
   ]
  },
  {
   "cell_type": "code",
   "execution_count": null,
   "metadata": {},
   "outputs": [],
   "source": [
    "from nltk.tokenize import word_tokenize, sent_tokenize\n",
    "from nltk.stem import WordNetLemmatizer\n",
    "from part_of_speech import get_part_of_speech\n",
    "import re\n",
    "from nltk.corpus import stopwords\n",
    "from nltk.stem import PorterStemmer"
   ]
  },
  {
   "cell_type": "markdown",
   "metadata": {},
   "source": [
    "Initialize tools."
   ]
  },
  {
   "cell_type": "code",
   "execution_count": null,
   "metadata": {},
   "outputs": [],
   "source": [
    "lemmatizer = WordNetLemmatizer()\n",
    "stop_words = set(stopwords.words(\"english\"))\n",
    "stop_words.add(\"'s\")\n",
    "stemmer = PorterStemmer()"
   ]
  },
  {
   "cell_type": "markdown",
   "metadata": {},
   "source": [
    "Import text to preprocess."
   ]
  },
  {
   "cell_type": "code",
   "execution_count": null,
   "metadata": {},
   "outputs": [],
   "source": [
    "reznor_wiki = \"\"\"\n",
    "</p><p>On January 7, 2011, Reznor announced that he would again be working with Fincher, this time to provide the <a href=\"/wiki/The_Girl_with_the_Dragon_Tattoo_(soundtrack)\" title=\"The Girl with the Dragon Tattoo (soundtrack)\">score</a> for the American adaptation of <i><a href=\"/wiki/The_Girl_with_the_Dragon_Tattoo\" title=\"The Girl with the Dragon Tattoo\">The Girl with the Dragon Tattoo</a></i>.<sup id=\"cite_ref-91\" class=\"reference\"><a href=\"#cite_note-91\">&#91;90&#93;</a></sup> A cover of \"<a href=\"/wiki/Immigrant_Song\" title=\"Immigrant Song\">Immigrant Song</a>\" by <a href=\"/wiki/Led_Zeppelin\" title=\"Led Zeppelin\">Led Zeppelin</a>, produced by Reznor and Ross, with <a href=\"/wiki/Karen_O\" title=\"Karen O\">Karen O</a> (of the <a href=\"/wiki/Yeah_Yeah_Yeahs\" title=\"Yeah Yeah Yeahs\">Yeah Yeah Yeahs</a>) as the featured singer, accompanied a trailer for the film.<sup id=\"cite_ref-ImmigrantSong_92-0\" class=\"reference\"><a href=\"#cite_note-ImmigrantSong-92\">&#91;91&#93;</a></sup> Reznor and Ross' second collaboration with Fincher was scored as the film was shot, based on the concept, \"What if we give you music the minute you start to edit stuff together?\" Reznor explained in 2014 that the composition process was \"a lot more work,\" and that he \"would be hesitant to go as far in that direction in the future.\"<sup id=\"cite_ref-Joe_93-0\" class=\"reference\"><a href=\"#cite_note-Joe-93\">&#91;92&#93;</a></sup>\n",
    ">\n",
    "\"\"\""
   ]
  },
  {
   "cell_type": "markdown",
   "metadata": {},
   "source": [
    "Clean up text (HTML tags, non alphanumeric characters and punctuation)."
   ]
  },
  {
   "cell_type": "code",
   "execution_count": null,
   "metadata": {},
   "outputs": [],
   "source": [
    "wiki_cleaned_up = re.sub('(<.+?>|[&#;]+\\d+|[;,\"()\\'\\.\\?<>])', '', reznor_wiki)\n",
    "print(wiki_cleaned_up)"
   ]
  },
  {
   "cell_type": "markdown",
   "metadata": {},
   "source": [
    "Make text lower case."
   ]
  },
  {
   "cell_type": "code",
   "execution_count": null,
   "metadata": {},
   "outputs": [],
   "source": [
    "wiki_lower = wiki_cleaned_up.lower()\n",
    "print(wiki_lower)"
   ]
  },
  {
   "cell_type": "markdown",
   "metadata": {},
   "source": [
    "Tokenize text."
   ]
  },
  {
   "cell_type": "code",
   "execution_count": null,
   "metadata": {},
   "outputs": [],
   "source": [
    "wiki_tokenized = word_tokenize(wiki_lower)\n",
    "print(wiki_tokenized)"
   ]
  },
  {
   "cell_type": "markdown",
   "metadata": {},
   "source": [
    "Remove stop words from the text."
   ]
  },
  {
   "cell_type": "code",
   "execution_count": null,
   "metadata": {},
   "outputs": [],
   "source": [
    "wiki_no_stop_words = [word for word in wiki_tokenized if word not in stop_words]\n",
    "print(wiki_no_stop_words)"
   ]
  },
  {
   "cell_type": "markdown",
   "metadata": {},
   "source": [
    "Lemmatize the text."
   ]
  },
  {
   "cell_type": "code",
   "execution_count": null,
   "metadata": {},
   "outputs": [],
   "source": [
    "wiki_lemmatized = [lemmatizer.lemmatize(word, get_part_of_speech(word)) for word in wiki_no_stop_words]\n",
    "print(wiki_lemmatized)"
   ]
  },
  {
   "cell_type": "markdown",
   "metadata": {},
   "source": [
    "Stemmatize the text."
   ]
  },
  {
   "cell_type": "code",
   "execution_count": null,
   "metadata": {},
   "outputs": [],
   "source": [
    "wiki_stemmatized = [stemmer.stem(word) for word in wiki_no_stop_words]\n",
    "print(wiki_stemmatized)"
   ]
  },
  {
   "cell_type": "markdown",
   "metadata": {},
   "source": [
    "Optional: create a set of the unique words in the text."
   ]
  },
  {
   "cell_type": "code",
   "execution_count": null,
   "metadata": {},
   "outputs": [],
   "source": [
    "words_in_set = set(wiki_stemmatized)\n",
    "print(words_in_set)"
   ]
  }
 ],
 "metadata": {
  "kernelspec": {
   "display_name": "Python 3",
   "language": "python",
   "name": "python3"
  },
  "language_info": {
   "codemirror_mode": {
    "name": "ipython",
    "version": 3
   },
   "file_extension": ".py",
   "mimetype": "text/x-python",
   "name": "python",
   "nbconvert_exporter": "python",
   "pygments_lexer": "ipython3",
   "version": "3.8.5"
  }
 },
 "nbformat": 4,
 "nbformat_minor": 4
}
