{
 "cells": [
  {
   "cell_type": "code",
   "execution_count": 6,
   "metadata": {},
   "outputs": [],
   "source": [
    "from fuzzywuzzy import fuzz\n",
    "from fuzzywuzzy import process"
   ]
  },
  {
   "cell_type": "code",
   "execution_count": 7,
   "metadata": {},
   "outputs": [],
   "source": [
    "import pickle\n",
    "import random\n",
    "jeopardy_questions = pickle.load(open(\"jeopardy_questions.p\", \"rb\"))\n",
    "double_jeopardy_questions = pickle.load(open(\"double_jeopardy_questions.p\", \"rb\"))\n",
    "final_jeopardy_questions = pickle.load(open(\"final_jeopardy_questions.p\", \"rb\"))\n",
    "tiebreaker_questions = pickle.load(open(\"tiebreaker_questions.p\", \"rb\"))"
   ]
  },
  {
   "cell_type": "code",
   "execution_count": 18,
   "metadata": {},
   "outputs": [],
   "source": [
    "class JeopardyBot:\n",
    "    \n",
    "    asked_questions = [\"Goof?\"]\n",
    "    exit_commands = [\"quit\", \"bye\", \"exit\", \"goodbye\", \"no\"]\n",
    "    \n",
    "    def make_exit(self, user_input):\n",
    "        if user_input.lower() in self.exit_commands:\n",
    "            return True\n",
    "        else:\n",
    "            return False\n",
    "    \n",
    "    def chat(self):\n",
    "        pass\n",
    "    \n",
    "    def ask_question(self, questions_round):\n",
    "        question = \"Goof?\"\n",
    "        random_categories = random.choices(list(questions_round), k=3)\n",
    "        choice = 0\n",
    "        while int(choice) not in list(range(1, 4)):        \n",
    "            choice = input(\"\"\"\n",
    "Pick a category by typing 1, 2, or 3:\n",
    "    1. {option_1}\n",
    "    2. {option_2}\n",
    "    3. {option_3}\n",
    "> \"\"\".format(\n",
    "                option_1 = random_categories[0],\n",
    "                option_2 = random_categories[1],\n",
    "                option_3 = random_categories[2]\n",
    "            ))\n",
    "        while question in self.asked_questions:\n",
    "            prize, question, right_answer = random.choice(questions_round[random_categories[int(choice) - 1]])\n",
    "        self.asked_questions.append(question)\n",
    "        answer = input(question + \"\\n> \")\n",
    "        if self.check_answer(answer, right_answer):\n",
    "            print(\"Yes! The answer was \" + right_answer + \". You win $\" + str(int(prize)) + \"!\")\n",
    "            return prize\n",
    "        else:\n",
    "            print(\"No, the answer was \" + right_answer + \". Sorry!\")\n",
    "            return 0\n",
    "    \n",
    "    def check_answer(self, answer, right_answer):\n",
    "        if fuzz.token_set_ratio(answer, right_answer) > 90:\n",
    "            return True\n",
    "        else:\n",
    "            return False"
   ]
  },
  {
   "cell_type": "code",
   "execution_count": 19,
   "metadata": {},
   "outputs": [
    {
     "name": "stdout",
     "output_type": "stream",
     "text": [
      "\n",
      "Pick a category by typing 1, 2, or 3:\n",
      "    1. ANCIENT GREECE\n",
      "    2. CLEAN FREAK\n",
      "    3. WORLD HISTORY\n",
      "> 1\n",
      "According to Collier's Ency., in the 7th cent. this city-state won most of the recorded Olympic victories\n",
      "> Athens\n",
      "No, the answer was Sparta. Sorry!\n"
     ]
    },
    {
     "data": {
      "text/plain": [
       "0"
      ]
     },
     "execution_count": 19,
     "metadata": {},
     "output_type": "execute_result"
    }
   ],
   "source": [
    "play_jeopardy = JeopardyBot()\n",
    "play_jeopardy.ask_question(jeopardy_questions)"
   ]
  },
  {
   "cell_type": "code",
   "execution_count": null,
   "metadata": {},
   "outputs": [],
   "source": [
    "+"
   ]
  }
 ],
 "metadata": {
  "kernelspec": {
   "display_name": "Python 3",
   "language": "python",
   "name": "python3"
  },
  "language_info": {
   "codemirror_mode": {
    "name": "ipython",
    "version": 3
   },
   "file_extension": ".py",
   "mimetype": "text/x-python",
   "name": "python",
   "nbconvert_exporter": "python",
   "pygments_lexer": "ipython3",
   "version": "3.8.5"
  }
 },
 "nbformat": 4,
 "nbformat_minor": 4
}
