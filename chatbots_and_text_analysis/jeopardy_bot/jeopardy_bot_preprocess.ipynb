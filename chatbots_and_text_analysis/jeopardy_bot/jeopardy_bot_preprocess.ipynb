{
 "cells": [
  {
   "cell_type": "markdown",
   "metadata": {},
   "source": [
    "# Jeopardy Bot"
   ]
  },
  {
   "cell_type": "markdown",
   "metadata": {},
   "source": [
    "### First Task\n",
    "\n",
    "- Create lists that contain questions, answers, and values, divided by round and by category."
   ]
  },
  {
   "cell_type": "code",
   "execution_count": 1,
   "metadata": {},
   "outputs": [],
   "source": [
    "from kaggle.api.kaggle_api_extended import KaggleApi\n",
    "api = KaggleApi()\n",
    "api.authenticate()\n",
    "api.dataset_download_files('tunguz/200000-jeopardy-questions', unzip=True)"
   ]
  },
  {
   "cell_type": "code",
   "execution_count": 2,
   "metadata": {},
   "outputs": [],
   "source": [
    "import pickle"
   ]
  },
  {
   "cell_type": "code",
   "execution_count": 3,
   "metadata": {},
   "outputs": [],
   "source": [
    "import pandas as pd\n",
    "pd.set_option('display.max_colwidth', None)\n",
    "df = pd.read_csv(\"JEOPARDY_CSV.csv\")"
   ]
  },
  {
   "cell_type": "code",
   "execution_count": 4,
   "metadata": {},
   "outputs": [
    {
     "name": "stdout",
     "output_type": "stream",
     "text": [
      "   Show Number    Air Date      Round                         Category  Value  \\\n",
      "0         4680  2004-12-31  Jeopardy!                          HISTORY  200.0   \n",
      "1         4680  2004-12-31  Jeopardy!  ESPN's TOP 10 ALL-TIME ATHLETES  200.0   \n",
      "2         4680  2004-12-31  Jeopardy!      EVERYBODY TALKS ABOUT IT...  200.0   \n",
      "3         4680  2004-12-31  Jeopardy!                 THE COMPANY LINE  200.0   \n",
      "4         4680  2004-12-31  Jeopardy!              EPITAPHS & TRIBUTES  200.0   \n",
      "\n",
      "                                                                                                      Question  \\\n",
      "0             For the last 8 years of his life, Galileo was under house arrest for espousing this man's theory   \n",
      "1  No. 2: 1912 Olympian; football star at Carlisle Indian School; 6 MLB seasons with the Reds, Giants & Braves   \n",
      "2                     The city of Yuma in this state has a record average of 4,055 hours of sunshine each year   \n",
      "3                         In 1963, live on \"The Art Linkletter Show\", this company served its billionth burger   \n",
      "4     Signer of the Dec. of Indep., framer of the Constitution of Mass., second President of the United States   \n",
      "\n",
      "       Answer  \\\n",
      "0  Copernicus   \n",
      "1  Jim Thorpe   \n",
      "2     Arizona   \n",
      "3  McDonald's   \n",
      "4  John Adams   \n",
      "\n",
      "                                                                                                                               data  \n",
      "0             (200.0, For the last 8 years of his life, Galileo was under house arrest for espousing this man's theory, Copernicus)  \n",
      "1  (200.0, No. 2: 1912 Olympian; football star at Carlisle Indian School; 6 MLB seasons with the Reds, Giants & Braves, Jim Thorpe)  \n",
      "2                        (200.0, The city of Yuma in this state has a record average of 4,055 hours of sunshine each year, Arizona)  \n",
      "3                         (200.0, In 1963, live on \"The Art Linkletter Show\", this company served its billionth burger, McDonald's)  \n",
      "4     (200.0, Signer of the Dec. of Indep., framer of the Constitution of Mass., second President of the United States, John Adams)  \n"
     ]
    }
   ],
   "source": [
    "df.rename(columns = {column_name : column_name.strip() for column_name in df.columns}, inplace = True)\n",
    "df[\"Value\"] = df.apply(lambda row: float(row[\"Value\"].strip(\"$\").replace(\",\", \"\")) if row[\"Value\"] != \"None\" else 0, axis = 1)\n",
    "df[\"data\"] = df.apply(lambda row: (row[\"Value\"], row[\"Question\"], row[\"Answer\"]), axis = 1)\n",
    "print(df.head())"
   ]
  },
  {
   "cell_type": "code",
   "execution_count": 5,
   "metadata": {},
   "outputs": [],
   "source": [
    "round_questions = lambda round_questions: {\n",
    "    category: df[df[\"Category\"] == category][\"data\"].values.tolist()\n",
    "    for category in df[df[\"Round\"] == round_questions].Category.unique()\n",
    "    }\n",
    "\n",
    "jeopardy_questions = round_questions(\"Jeopardy!\")"
   ]
  },
  {
   "cell_type": "code",
   "execution_count": 6,
   "metadata": {},
   "outputs": [],
   "source": [
    "double_jeopardy_questions = round_questions(\"Double Jeopardy!\")"
   ]
  },
  {
   "cell_type": "code",
   "execution_count": 7,
   "metadata": {},
   "outputs": [],
   "source": [
    "final_jeopardy_questions = round_questions(\"Final Jeopardy!\")"
   ]
  },
  {
   "cell_type": "code",
   "execution_count": 8,
   "metadata": {},
   "outputs": [],
   "source": [
    "tiebreaker_questions = round_questions(\"Tiebreaker\")"
   ]
  },
  {
   "cell_type": "code",
   "execution_count": 9,
   "metadata": {},
   "outputs": [],
   "source": [
    "pickle.dump(jeopardy_questions, open(\"jeopardy_questions.p\", \"wb\"))\n",
    "pickle.dump(double_jeopardy_questions, open(\"double_jeopardy_questions.p\", \"wb\"))\n",
    "pickle.dump(final_jeopardy_questions, open(\"final_jeopardy_questions.p\", \"wb\"))\n",
    "pickle.dump(tiebreaker_questions, open(\"tiebreaker_questions.p\", \"wb\"))"
   ]
  }
 ],
 "metadata": {
  "kernelspec": {
   "display_name": "Python 3",
   "language": "python",
   "name": "python3"
  },
  "language_info": {
   "codemirror_mode": {
    "name": "ipython",
    "version": 3
   },
   "file_extension": ".py",
   "mimetype": "text/x-python",
   "name": "python",
   "nbconvert_exporter": "python",
   "pygments_lexer": "ipython3",
   "version": "3.8.5"
  }
 },
 "nbformat": 4,
 "nbformat_minor": 4
}
