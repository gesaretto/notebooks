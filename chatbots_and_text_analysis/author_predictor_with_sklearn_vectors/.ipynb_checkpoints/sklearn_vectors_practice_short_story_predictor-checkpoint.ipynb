{
 "cells": [
  {
   "cell_type": "markdown",
   "metadata": {},
   "source": [
    "## Setting up the training data"
   ]
  },
  {
   "cell_type": "code",
   "execution_count": 1,
   "metadata": {},
   "outputs": [
    {
     "name": "stdout",
     "output_type": "stream",
     "text": [
      "\n",
      "~A Sample from Márquez's Story~\n",
      " Ella era la prioridad del poder tradicional sobre la autoridad transitoria, el predominio de la clase sobre la plebe, la trascendencia de la sabiduría divina sobre la improvisación mortal\n",
      "\n",
      "~A Sample from Cortázar's Story~\n",
      " «Ciérrale los ojos», pidió llorando una de las mujeres\n",
      "\n",
      "~A Sample from Borges's Story~\n",
      " El hecho es que hasta ahora las pesquisas más diligentes han sido estériles\n"
     ]
    }
   ],
   "source": [
    "### Import documents\n",
    "from marquez_raw import marquez_docs\n",
    "from cortazar_raw import cortazar_docs\n",
    "from borges_raw import borges_docs\n",
    "\n",
    "### Import sklearn modules\n",
    "from sklearn.feature_extraction.text import CountVectorizer\n",
    "from sklearn.naive_bayes import MultinomialNB\n",
    "\n",
    "### Combining documents into a single document for training\n",
    "combined_docs = marquez_docs + cortazar_docs + borges_docs\n",
    "\n",
    "### Creating label list for training documents\n",
    "writers_labels = [0] * len(marquez_docs) + [1] * len(cortazar_docs) + [2] * len(borges_docs)\n",
    "\n",
    "### Creating list of writers\n",
    "writers = [\"Gabriel García Márquez\", \"Julio Cortázar\", \"Jorge Luis Borges\", \"someone else\"]\n",
    "\n",
    "### Print some samples\n",
    "print(\"\\n~A Sample from Márquez's Story~\\n\", marquez_docs[86])\n",
    "print(\"\\n~A Sample from Cortázar's Story~\\n\", cortazar_docs[86])\n",
    "print(\"\\n~A Sample from Borges's Story~\\n\", borges_docs[86])"
   ]
  },
  {
   "cell_type": "markdown",
   "metadata": {},
   "source": [
    "## Receiving the input"
   ]
  },
  {
   "cell_type": "code",
   "execution_count": 2,
   "metadata": {},
   "outputs": [
    {
     "name": "stdout",
     "output_type": "stream",
     "text": [
      "Please, paste the excerpt that you wish to identify.\n",
      "> Leticia estuvo magnífica, no se le movía ni un dedo cuando llegó el tren. Como no podía girar la cabeza la echaba para atrás, juntando los brazos al cuerpo casi como si le faltaran; aparte el verde de la túnica, era como mirar la Venus del Nilo. En la tercera ventanilla vimos a un muchacho de rulos rubios y ojos claros que nos hizo una gran sonrisa al descubrir que Holanda y yo lo saludábamos. El tren se lo llevó en un segundo, pero eran las cuatro y media y todavía discutíamos si vestía de oscuro, si llevaba corbata roja y si era odioso o simpático. El jueves yo hice la actitud del desaliento, y recibimos otro papelito que decía: “Las tres me gustan mucho. Ariel.” Ahora él sacaba la cabeza y un brazo por la ventanilla y nos saludaba riendo. Le calculamos dieciocho años (seguras que no tenía más de dieciséis) y convinimos en que volvía diariamente de algún colegio inglés. Lo más seguro de todo era el colegio inglés, no aceptábamos un incorporado cualquiera. Se vería que Ariel era muy bien.\n"
     ]
    }
   ],
   "source": [
    "mystery_excerpt = input(\"Please, paste the excerpt that you wish to identify.\\n> \")"
   ]
  },
  {
   "cell_type": "markdown",
   "metadata": {},
   "source": [
    "## Training the vector and vectorizing the excerpt"
   ]
  },
  {
   "cell_type": "code",
   "execution_count": 3,
   "metadata": {},
   "outputs": [],
   "source": [
    "### Create the bag of words vectorizer\n",
    "bow_vectorizer = CountVectorizer()\n",
    "\n",
    "### Train the vectorizer on the training documents\n",
    "stories_vectors = bow_vectorizer.fit_transform(combined_docs)\n",
    "\n",
    "### Vectorize the excerpt that should be identified\n",
    "mystery_vector = bow_vectorizer.transform([mystery_excerpt])"
   ]
  },
  {
   "cell_type": "markdown",
   "metadata": {},
   "source": [
    "## Training the statistical classifier"
   ]
  },
  {
   "cell_type": "code",
   "execution_count": 4,
   "metadata": {},
   "outputs": [
    {
     "data": {
      "text/plain": [
       "MultinomialNB()"
      ]
     },
     "execution_count": 4,
     "metadata": {},
     "output_type": "execute_result"
    }
   ],
   "source": [
    "### Create an instance of the statistical classifier\n",
    "story_classifier = MultinomialNB()\n",
    "\n",
    "### Train the classifier on the vectorized stories and the labels\n",
    "story_classifier.fit(stories_vectors, writers_labels)"
   ]
  },
  {
   "cell_type": "markdown",
   "metadata": {},
   "source": [
    "## Make a prediction and print it"
   ]
  },
  {
   "cell_type": "code",
   "execution_count": 5,
   "metadata": {},
   "outputs": [
    {
     "name": "stdout",
     "output_type": "stream",
     "text": [
      "The excerpt was probably written by Julio Cortázar!\n"
     ]
    }
   ],
   "source": [
    "### Make a prediction with the classifier\n",
    "prediction = story_classifier.predict(mystery_vector)\n",
    "mystery_writer_label = prediction[0] if prediction[0] else 3\n",
    "print(\"The excerpt was probably written by {}!\".format(writers[mystery_writer_label]))"
   ]
  }
 ],
 "metadata": {
  "kernelspec": {
   "display_name": "Python 3",
   "language": "python",
   "name": "python3"
  },
  "language_info": {
   "codemirror_mode": {
    "name": "ipython",
    "version": 3
   },
   "file_extension": ".py",
   "mimetype": "text/x-python",
   "name": "python",
   "nbconvert_exporter": "python",
   "pygments_lexer": "ipython3",
   "version": "3.8.5"
  }
 },
 "nbformat": 4,
 "nbformat_minor": 4
}
