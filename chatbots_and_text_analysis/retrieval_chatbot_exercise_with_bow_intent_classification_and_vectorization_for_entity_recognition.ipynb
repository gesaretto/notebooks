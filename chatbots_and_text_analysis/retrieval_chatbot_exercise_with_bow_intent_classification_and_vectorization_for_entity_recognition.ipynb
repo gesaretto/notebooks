{
 "cells": [
  {
   "cell_type": "markdown",
   "metadata": {},
   "source": [
    "# Retrieval-Based Chatbot with BOW Intent Classification & Word Embeddings for Entity Recognition\n",
    "\n",
    "### Practice: CityBot Speaks Italian"
   ]
  },
  {
   "cell_type": "markdown",
   "metadata": {},
   "source": [
    "Importing NLP libraries and tools; setting up corpus of stop words, word embeddings, and lemmatizer for Italian."
   ]
  },
  {
   "cell_type": "code",
   "execution_count": 1,
   "metadata": {},
   "outputs": [
    {
     "name": "stderr",
     "output_type": "stream",
     "text": [
      "C:\\workspace\\miniconda3\\lib\\site-packages\\treetaggerwrapper.py:739: FutureWarning: Possible nested set at position 8\n",
      "  punct2find_re = re.compile(\"([^ ])([[\" + ALONEMARKS + \"])\",\n",
      "C:\\workspace\\miniconda3\\lib\\site-packages\\treetaggerwrapper.py:2043: FutureWarning: Possible nested set at position 152\n",
      "  DnsHostMatch_re = re.compile(\"(\" + DnsHost_expression + \")\",\n",
      "C:\\workspace\\miniconda3\\lib\\site-packages\\treetaggerwrapper.py:2067: FutureWarning: Possible nested set at position 409\n",
      "  UrlMatch_re = re.compile(UrlMatch_expression, re.VERBOSE | re.IGNORECASE)\n",
      "C:\\workspace\\miniconda3\\lib\\site-packages\\treetaggerwrapper.py:2079: FutureWarning: Possible nested set at position 192\n",
      "  EmailMatch_re = re.compile(EmailMatch_expression, re.VERBOSE | re.IGNORECASE)\n"
     ]
    }
   ],
   "source": [
    "import re\n",
    "from collections import Counter\n",
    "import spacy\n",
    "word2vec = spacy.load(\"it_core_news_md\")\n",
    "import pprint\n",
    "import treetaggerwrapper\n",
    "from nltk.corpus import stopwords\n",
    "italian_stop_words = set(stopwords.words(\"italian\"))\n",
    "tagger = treetaggerwrapper.TreeTagger(TAGLANG=\"it\")"
   ]
  },
  {
   "cell_type": "markdown",
   "metadata": {},
   "source": [
    "Defining variables with the answers that will be retrieved and the word that corresponds to the one entity (\"city\") that will be captured by the bot. Defining a set of exit commands as well."
   ]
  },
  {
   "cell_type": "code",
   "execution_count": 2,
   "metadata": {},
   "outputs": [],
   "source": [
    "slot = \"città\"\n",
    "\n",
    "answer_1 = \"\"\"\n",
    "Agli abitanti di {} piace andare al mare durante le vacanze.\n",
    "Prendono il sole, si rilassano, e si divertono,\n",
    "benché la spiaggia sia piena di spazzatura.\"\"\"\n",
    "\n",
    "answer_2 = \"\"\"\n",
    "Il costo della vita è molto alto a {}.\n",
    "Gli affitti sono assai cari; e chi fischietta per strada deve pagare multe salate.\"\"\"\n",
    "\n",
    "answer_3 = \"\"\"\n",
    "{} è la mia citta preferita!\n",
    "Ci sono tante persone simpatiche e puoi andare in giro nudo.\"\"\"\n",
    "\n",
    "answer_4 = \"\"\"\n",
    "Ti consiglio di visitare {}, se ti piace la cultura.\n",
    "C'è uno straordinario museo del formaggio.\"\"\"\n",
    "\n",
    "answer_5 = \"\"\"\n",
    "Se cerchi tante aree verdi, {} è il posto giusto per te.\n",
    "Ci sono parecchi parchi, orti botanici, giardini, e foreste piene di criceti.\"\"\"\n",
    "\n",
    "answer_6 = \"\"\"\n",
    "Non avere paura, a {} c'è pochissimo crimine.\n",
    "Nessun furto, niente vandalismo, solo costanti sparatorie contro i piccioni.\"\"\"\n",
    "\n",
    "answer_7 = \"\"\"\n",
    "Quando sono a {}, l'attività che mi piace di più è andare al cinema!\n",
    "Ci sono anche un paio di teatri, ma lì non puoi mangiare il popcorn caduto per terra.\"\"\"\n",
    "\n",
    "answer_8 = \"\"\"\n",
    "Il palazzo più famoso di {} è la Torre del Puzzo.\n",
    "Contiene il celebre monumento al Merluzzo Peloso, una vera meraviglia dell'arte.\"\"\"\n",
    "\n",
    "answer_9 = \"\"\"\n",
    "Tutto ciò che posso dirti a proposito degli abitanti di {},\n",
    "è che adorano i ristoranti che servono il risotto con le verze.\"\"\"\n",
    "\n",
    "answers = [answer_1, answer_2, answer_3, answer_4, answer_5, answer_6, answer_7, answer_8, answer_9]\n",
    "\n",
    "exit_commands = [\"ciao\", \"arrivederci\", \"niente\", \"basta\", \"vado\", \"esci\"] "
   ]
  },
  {
   "cell_type": "markdown",
   "metadata": {},
   "source": [
    "Creating preprocessing function to make the text lowercase, remove punctuation and stop words, and lemmatizing it."
   ]
  },
  {
   "cell_type": "code",
   "execution_count": 3,
   "metadata": {},
   "outputs": [],
   "source": [
    "def preprocess(text):\n",
    "    lowercase_text = text.lower()\n",
    "    cleaned_text = re.sub(r\"[^\\w\\s]\", \" \", lowercase_text)\n",
    "    tagged_text = treetaggerwrapper.make_tags(tagger.tag_text(cleaned_text))\n",
    "    lemmatized_text = [lemma for word, tag, lemma in tagged_text if lemma not in italian_stop_words]\n",
    "    return lemmatized_text"
   ]
  },
  {
   "cell_type": "markdown",
   "metadata": {},
   "source": [
    "Two of the following three functions determine the similarity between two strings using either a BOW model (`compare_overlap`) or word embeddings vectors (`compute_similarity`). The third function (`extract_nouns`) tags a string in Italian for POS and extracts its nouns."
   ]
  },
  {
   "cell_type": "code",
   "execution_count": 4,
   "metadata": {},
   "outputs": [],
   "source": [
    "def compare_overlap(user_input_bow, possible_answer_bow):\n",
    "    similar_words_score = 0\n",
    "    for word in user_input_bow:\n",
    "        if word in possible_answer_bow:\n",
    "            similar_words_score += 1\n",
    "    return similar_words_score\n",
    "\n",
    "def extract_nouns(text):\n",
    "    tagged_text = treetaggerwrapper.make_tags(tagger.tag_text(text))\n",
    "    nouns = [lemma for word, tag, lemma in tagged_text if tag == \"NPR\"]\n",
    "    return nouns\n",
    "\n",
    "def compute_similarity(possible_entities, slot):\n",
    "    similarity_list = [(possible_entity, slot, possible_entity.similarity(slot)) for possible_entity in possible_entities]\n",
    "    return similarity_list"
   ]
  },
  {
   "cell_type": "markdown",
   "metadata": {},
   "source": [
    "Finally, the Chatbot is defined as a class object which takes the user's input and either continues or interrupts a conversation, selecting and delivering the most appropriate answers."
   ]
  },
  {
   "cell_type": "code",
   "execution_count": 5,
   "metadata": {},
   "outputs": [],
   "source": [
    "class CityBotto:\n",
    "    \n",
    "    # Defining function to stop conversation if the user enters an exit command.\n",
    "    def stop_convo(self, user_input):\n",
    "        for command in exit_commands:\n",
    "            if command in user_input.lower():\n",
    "                print(\"Va bene, alla prossima! Tanti saluti e un bel bacione.\")\n",
    "                return True\n",
    "            \n",
    "    # Defining function to start conversation and keep it going until the user enters an exit command.\n",
    "    def start_convo(self):\n",
    "        greeting = \"\"\"\n",
    "Ciao, sono Citybotto!\n",
    "Dispongo di tante informazioni su tutte le città del mondo.\n",
    "Fammi una domanda riguardo alla tua città.\\n> \"\"\"\n",
    "        user_input = input(greeting)\n",
    "        while not self.stop_convo(user_input):\n",
    "            user_input = self.retrieve_answer(user_input)\n",
    "\n",
    "    # Defining function to classify intent of the user input.\n",
    "    def classify_intent(self, answers, user_input):\n",
    "        user_input_bow = Counter(preprocess(user_input))\n",
    "        possible_answers_bow = [Counter(preprocess(answer)) for answer in answers]\n",
    "        list_of_similarity_scores = [compare_overlap(answer_bow, user_input_bow) for answer_bow in possible_answers_bow]\n",
    "        best_answer_index = list_of_similarity_scores.index(max(list_of_similarity_scores))\n",
    "        return answers[best_answer_index]\n",
    "    \n",
    "    # Defining function to recognize entities in the user input.\n",
    "    def recognize_entity(self, user_input):\n",
    "        user_input_nouns = extract_nouns(user_input)\n",
    "        embeddings_possible_entities = word2vec(\" \".join(user_input_nouns))\n",
    "        embeddings_slot = word2vec(slot)\n",
    "        similarity_scores = compute_similarity(embeddings_possible_entities, embeddings_slot)\n",
    "        # The following arranges the similarity scores in ascending order.\n",
    "        similarity_scores.sort(key=lambda x: x[2])\n",
    "        # Checks if the similarity scores list is empty; if it is not,\n",
    "        # it returns the entity that corresponds to the highest score\n",
    "        # (the first value in the last tuple contained in the list);\n",
    "        # if it is, it simply returns the base value of the slot.\n",
    "        try:\n",
    "            return similarity_scores[-1][0]\n",
    "        except IndexError:\n",
    "            return slot\n",
    "    \n",
    "    # Defining function to retrieve answer to the user based on the user's input and to ask for another question.\n",
    "    def retrieve_answer(self, user_input):\n",
    "        best_answer = self.classify_intent(answers, user_input)\n",
    "        entity = self.recognize_entity(user_input)\n",
    "        print(best_answer.format(entity))\n",
    "        user_input = input(\"Vuoi farmi un'altra domanda riguardo a una città?\\n> \")\n",
    "        return user_input"
   ]
  },
  {
   "cell_type": "code",
   "execution_count": 6,
   "metadata": {},
   "outputs": [
    {
     "name": "stdout",
     "output_type": "stream",
     "text": [
      "\n",
      "Ciao, sono Citybotto!\n",
      "Dispongo di tante informazioni su tutte le città del mondo.\n",
      "Fammi una domanda riguardo alla tua città.\n",
      "> Sono un abitante di Parigi. Ti piace questa città?\n",
      "\n",
      "Agli abitanti di Parigi piace andare al mare durante le vacanze.\n",
      "Prendono il sole, si rilassano, e si divertono,\n",
      "benché la spiaggia sia piena di spazzatura.\n",
      "Vuoi farmi un'altra domanda riguardo a una città?\n",
      "> Roma è la tua città preferita?\n",
      "\n",
      "Roma è la mia citta preferita!\n",
      "Ci sono tante persone simpatiche e puoi andare in giro nudo.\n",
      "Vuoi farmi un'altra domanda riguardo a una città?\n",
      "> Ci sono buoni ristoranti a Berlino?\n",
      "\n",
      "Tutto ciò che posso dirti a proposito degli abitanti di Berlino,\n",
      "è che adorano i ristoranti che servono il risotto con le verze.\n",
      "Vuoi farmi un'altra domanda riguardo a una città?\n",
      "> Posso andare al cinema a Vladivostok?\n",
      "\n",
      "Quando sono a città, l'attività che mi piace di più è andare al cinema!\n",
      "Ci sono anche un paio di teatri, ma lì non puoi mangiare il popcorn caduto per terra.\n",
      "Vuoi farmi un'altra domanda riguardo a una città?\n",
      "> Qual è il monumento più famoso di Siena?\n",
      "\n",
      "Il palazzo più famoso di Siena è la Torre del Puzzo.\n",
      "Contiene il celebre monumento al Merluzzo Peloso, una vera meraviglia dell'arte.\n",
      "Vuoi farmi un'altra domanda riguardo a una città?\n",
      "> Giotto è mai stato a Bergamo?\n",
      "\n",
      "Agli abitanti di Bergamo piace andare al mare durante le vacanze.\n",
      "Prendono il sole, si rilassano, e si divertono,\n",
      "benché la spiaggia sia piena di spazzatura.\n",
      "Vuoi farmi un'altra domanda riguardo a una città?\n",
      "> A parte i dipinti di Botticelli, che monumenti ci sono a Firenze?\n",
      "\n",
      "Il palazzo più famoso di Firenze è la Torre del Puzzo.\n",
      "Contiene il celebre monumento al Merluzzo Peloso, una vera meraviglia dell'arte.\n",
      "Vuoi farmi un'altra domanda riguardo a una città?\n",
      "> No, ciao.\n",
      "Va bene, alla prossima! Tanti saluti e un bel bacione.\n"
     ]
    }
   ],
   "source": [
    "city_bot = CityBotto()\n",
    "city_bot.start_convo()"
   ]
  }
 ],
 "metadata": {
  "kernelspec": {
   "display_name": "Python 3",
   "language": "python",
   "name": "python3"
  },
  "language_info": {
   "codemirror_mode": {
    "name": "ipython",
    "version": 3
   },
   "file_extension": ".py",
   "mimetype": "text/x-python",
   "name": "python",
   "nbconvert_exporter": "python",
   "pygments_lexer": "ipython3",
   "version": "3.8.5"
  }
 },
 "nbformat": 4,
 "nbformat_minor": 4
}
