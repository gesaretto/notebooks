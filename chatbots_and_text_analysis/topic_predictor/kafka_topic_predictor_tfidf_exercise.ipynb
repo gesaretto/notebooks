{
 "cells": [
  {
   "cell_type": "markdown",
   "metadata": {},
   "source": [
    "# Topic Modelling with Term Frequency - Inverse Document Frequency\n",
    "\n",
    "## Topic Predictor Exercise"
   ]
  },
  {
   "cell_type": "markdown",
   "metadata": {},
   "source": [
    "Import libraries and initialize NLP collections for German; import a small archive of Kafka's short stories."
   ]
  },
  {
   "cell_type": "code",
   "execution_count": 1,
   "metadata": {},
   "outputs": [],
   "source": [
    "import nltk\n",
    "import re\n",
    "import spacy\n",
    "import pandas as pd\n",
    "from sklearn.feature_extraction.text import CountVectorizer, TfidfTransformer, TfidfVectorizer\n",
    "from nltk.corpus import stopwords\n",
    "from nltk.tokenize import word_tokenize\n",
    "from kafka_stories import title_list, all_stories\n",
    "\n",
    "stopwords_german = stopwords.words('german')\n",
    "nlp = spacy.load('de_core_news_md')"
   ]
  },
  {
   "cell_type": "markdown",
   "metadata": {},
   "source": [
    "Preprocess texts (clean, lemmatize, delete stopwords); store them as a list of strings (one string per story)."
   ]
  },
  {
   "cell_type": "code",
   "execution_count": 2,
   "metadata": {},
   "outputs": [
    {
     "name": "stdout",
     "output_type": "stream",
     "text": [
      "\n",
      "Mein Großvater pflegte zu sagen: »Das Leben ist erstaunlich kurz. Jetzt\n",
      "in der Erinnerung drängt es sich mir so zusammen, daß ich zum Beispiel\n",
      "kaum begreife, wie ein junger Mensch sich entschließen kann ins nächste\n",
      "Dorf zu reiten, ohne zu fürchten, daß – von unglücklichen Zufällen ganz\n",
      "abgesehen – schon die Zeit des gewöhnlichen, glücklich ablaufenden\n",
      "Lebens für einen solchen Ritt bei weitem nicht hinreicht.«\n",
      "\n",
      "großvater pflegen sagen leben erstaunlich kurz erinnerung drängen zusammen beispiel kaum begreifen jung mensch entschließen nächst dorf reiten fürchten unglücklich zufällen ganz absehen schon zeit gewöhnlich glücklich ablaufend lebens solch ritt weit hinreichen \n"
     ]
    }
   ],
   "source": [
    "def clean_text(text):\n",
    "    return re.sub(r\"\\W+\", \" \", text).lower()\n",
    "\n",
    "def lemmatize_text(text):\n",
    "    doc = nlp(text)\n",
    "    lemmatized_text = \"\"\n",
    "    for token in doc:\n",
    "         if token.lemma_ != \" \" and token.lemma_ not in stopwords_german:\n",
    "                lemmatized_text += str(token.lemma_) + \" \"\n",
    "    return lemmatized_text\n",
    "\n",
    "def preprocess_text(text):\n",
    "    return lemmatize_text(clean_text(text))\n",
    "\n",
    "preprocessed_stories = [preprocess_text(story) for story in all_stories]\n",
    "\n",
    "print(all_stories[6])\n",
    "print(preprocessed_stories[6])"
   ]
  },
  {
   "cell_type": "markdown",
   "metadata": {},
   "source": [
    "Using CountVectorizer, create a vector for all the words in the archive and count their frequency in each story. Extract the list of features in the archive (words). Create a table for word frequencies using Panda. "
   ]
  },
  {
   "cell_type": "code",
   "execution_count": 3,
   "metadata": {},
   "outputs": [
    {
     "name": "stdout",
     "output_type": "stream",
     "text": [
      "             Der neue Advokat  Auf der Galerie  Ein altes Blatt  \\\n",
      "aas                         0                0                0   \n",
      "ab                          0                0                0   \n",
      "abend                       0                0                0   \n",
      "abends                      0                0                0   \n",
      "abfertigen                  0                0                0   \n",
      "...                       ...              ...              ...   \n",
      "übersehen                   0                0                0   \n",
      "übersiedelt                 0                0                0   \n",
      "überwinden                  0                0                0   \n",
      "übrigens                    0                0                0   \n",
      "übungen                     0                0                1   \n",
      "\n",
      "             Vor dem Gesetz  Schakale und Araber  Ein Besuch im Bergwerk  \\\n",
      "aas                       0                    1                       0   \n",
      "ab                        0                    0                       0   \n",
      "abend                     0                    0                       0   \n",
      "abends                    0                    0                       0   \n",
      "abfertigen                0                    0                       0   \n",
      "...                     ...                  ...                     ...   \n",
      "übersehen                 0                    0                       0   \n",
      "übersiedelt               0                    0                       0   \n",
      "überwinden                0                    0                       0   \n",
      "übrigens                  0                    0                       0   \n",
      "übungen                   0                    0                       0   \n",
      "\n",
      "             Das nächste Dorf  Eine kaiserliche Botschaft  \\\n",
      "aas                         0                           0   \n",
      "ab                          0                           1   \n",
      "abend                       0                           1   \n",
      "abends                      0                           0   \n",
      "abfertigen                  0                           1   \n",
      "...                       ...                         ...   \n",
      "übersehen                   0                           0   \n",
      "übersiedelt                 0                           0   \n",
      "überwinden                  0                           1   \n",
      "übrigens                    0                           0   \n",
      "übungen                     0                           0   \n",
      "\n",
      "             Die Sorge des Hausvaters  Ein Brudermord  \n",
      "aas                                 0               0  \n",
      "ab                                  0               0  \n",
      "abend                               0               0  \n",
      "abends                              0               1  \n",
      "abfertigen                          0               0  \n",
      "...                               ...             ...  \n",
      "übersehen                           0               1  \n",
      "übersiedelt                         1               0  \n",
      "überwinden                          0               0  \n",
      "übrigens                            2               0  \n",
      "übungen                             0               0  \n",
      "\n",
      "[1475 rows x 10 columns]\n"
     ]
    }
   ],
   "source": [
    "vectorizer = CountVectorizer()\n",
    "counts = vectorizer.fit_transform(preprocessed_stories)\n",
    "\n",
    "feature_names = vectorizer.get_feature_names()\n",
    "\n",
    "df_word_counts = pd.DataFrame(counts.T.todense(), index=feature_names, columns=title_list)\n",
    "print(df_word_counts)"
   ]
  },
  {
   "cell_type": "markdown",
   "metadata": {},
   "source": [
    "Use TfidfTransformer to turn the Bag-of-Words frequency obtained from CountVectorizer into a Term Frequency - Inverse Document Frequency score. Use Pandas to create a table containing the tf-idf scores."
   ]
  },
  {
   "cell_type": "code",
   "execution_count": 4,
   "metadata": {},
   "outputs": [
    {
     "name": "stdout",
     "output_type": "stream",
     "text": [
      "             Der neue Advokat  Auf der Galerie  Ein altes Blatt  \\\n",
      "aas                       0.0              0.0         0.000000   \n",
      "ab                        0.0              0.0         0.000000   \n",
      "abend                     0.0              0.0         0.000000   \n",
      "abends                    0.0              0.0         0.000000   \n",
      "abfertigen                0.0              0.0         0.000000   \n",
      "...                       ...              ...              ...   \n",
      "übersehen                 0.0              0.0         0.000000   \n",
      "übersiedelt               0.0              0.0         0.000000   \n",
      "überwinden                0.0              0.0         0.000000   \n",
      "übrigens                  0.0              0.0         0.000000   \n",
      "übungen                   0.0              0.0         2.704748   \n",
      "\n",
      "             Vor dem Gesetz  Schakale und Araber  Ein Besuch im Bergwerk  \\\n",
      "aas                     0.0             2.704748                     0.0   \n",
      "ab                      0.0             0.000000                     0.0   \n",
      "abend                   0.0             0.000000                     0.0   \n",
      "abends                  0.0             0.000000                     0.0   \n",
      "abfertigen              0.0             0.000000                     0.0   \n",
      "...                     ...                  ...                     ...   \n",
      "übersehen               0.0             0.000000                     0.0   \n",
      "übersiedelt             0.0             0.000000                     0.0   \n",
      "überwinden              0.0             0.000000                     0.0   \n",
      "übrigens                0.0             0.000000                     0.0   \n",
      "übungen                 0.0             0.000000                     0.0   \n",
      "\n",
      "             Das nächste Dorf  Eine kaiserliche Botschaft  \\\n",
      "aas                       0.0                    0.000000   \n",
      "ab                        0.0                    2.704748   \n",
      "abend                     0.0                    2.704748   \n",
      "abends                    0.0                    0.000000   \n",
      "abfertigen                0.0                    2.704748   \n",
      "...                       ...                         ...   \n",
      "übersehen                 0.0                    0.000000   \n",
      "übersiedelt               0.0                    0.000000   \n",
      "überwinden                0.0                    2.704748   \n",
      "übrigens                  0.0                    0.000000   \n",
      "übungen                   0.0                    0.000000   \n",
      "\n",
      "             Die Sorge des Hausvaters  Ein Brudermord  \n",
      "aas                          0.000000        0.000000  \n",
      "ab                           0.000000        0.000000  \n",
      "abend                        0.000000        0.000000  \n",
      "abends                       0.000000        2.704748  \n",
      "abfertigen                   0.000000        0.000000  \n",
      "...                               ...             ...  \n",
      "übersehen                    0.000000        2.704748  \n",
      "übersiedelt                  2.704748        0.000000  \n",
      "überwinden                   0.000000        0.000000  \n",
      "übrigens                     5.409496        0.000000  \n",
      "übungen                      0.000000        0.000000  \n",
      "\n",
      "[1475 rows x 10 columns]\n"
     ]
    }
   ],
   "source": [
    "transformer = TfidfTransformer(norm=None)\n",
    "tfidf_scores_transformed = transformer.fit_transform(counts)\n",
    "\n",
    "df_tf_idf = pd.DataFrame(tfidf_scores_transformed.T.todense(), index=feature_names, columns=title_list)\n",
    "print(df_tf_idf)"
   ]
  },
  {
   "cell_type": "markdown",
   "metadata": {},
   "source": [
    "Finally, obtain the highest tf-idf score for each story and display it. Does it reflect the topic of the story? "
   ]
  },
  {
   "cell_type": "code",
   "execution_count": 5,
   "metadata": {},
   "outputs": [
    {
     "name": "stdout",
     "output_type": "stream",
     "text": [
      "Der neue Advokat    bucephalus\n",
      "dtype: object\n",
      "Auf der Galerie    pferde\n",
      "dtype: object\n",
      "Ein altes Blatt    nomaden\n",
      "dtype: object\n",
      "Vor dem Gesetz    türhüter\n",
      "dtype: object\n",
      "Schakale und Araber    araber\n",
      "dtype: object\n",
      "Ein Besuch im Bergwerk    herren\n",
      "dtype: object\n",
      "Das nächste Dorf    ablaufend\n",
      "dtype: object\n",
      "Eine kaiserliche Botschaft    botschaft\n",
      "dtype: object\n",
      "Die Sorge des Hausvaters    odradek\n",
      "dtype: object\n",
      "Ein Brudermord    schmar\n",
      "dtype: object\n"
     ]
    }
   ],
   "source": [
    "for story_title in title_list:\n",
    "    print(df_tf_idf[[story_title]].idxmax())"
   ]
  }
 ],
 "metadata": {
  "kernelspec": {
   "display_name": "Python 3",
   "language": "python",
   "name": "python3"
  },
  "language_info": {
   "codemirror_mode": {
    "name": "ipython",
    "version": 3
   },
   "file_extension": ".py",
   "mimetype": "text/x-python",
   "name": "python",
   "nbconvert_exporter": "python",
   "pygments_lexer": "ipython3",
   "version": "3.8.5"
  }
 },
 "nbformat": 4,
 "nbformat_minor": 4
}
