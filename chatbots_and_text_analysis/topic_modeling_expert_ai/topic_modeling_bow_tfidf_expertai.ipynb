{
 "cells": [
  {
   "cell_type": "markdown",
   "id": "88619482",
   "metadata": {},
   "source": [
    "# A Basic Introduction to Topic Modeling with Python "
   ]
  },
  {
   "cell_type": "markdown",
   "id": "a1b82e4d",
   "metadata": {},
   "source": [
    "Let's import the Pandas Data Analysis library to help us organize the text in the dataset."
   ]
  },
  {
   "cell_type": "code",
   "execution_count": 1,
   "id": "f0e0bb84",
   "metadata": {},
   "outputs": [],
   "source": [
    "import pandas as pd"
   ]
  },
  {
   "cell_type": "markdown",
   "id": "42c6928b",
   "metadata": {},
   "source": [
    "Let's import and initialize the Natural Language Toolkit libraries we need for this task, together with the Regular Expressions library."
   ]
  },
  {
   "cell_type": "code",
   "execution_count": 2,
   "id": "03db08a7",
   "metadata": {},
   "outputs": [],
   "source": [
    "from nltk import pos_tag\n",
    "from nltk.stem import WordNetLemmatizer\n",
    "from nltk.tokenize import word_tokenize\n",
    "from nltk.corpus import stopwords, wordnet\n",
    "import re"
   ]
  },
  {
   "cell_type": "code",
   "execution_count": 3,
   "id": "616b435f",
   "metadata": {},
   "outputs": [],
   "source": [
    "from sklearn.feature_extraction.text import CountVectorizer, TfidfTransformer, TfidfVectorizer"
   ]
  },
  {
   "cell_type": "markdown",
   "id": "d5571464",
   "metadata": {},
   "source": [
    "### Preparing the dataset"
   ]
  },
  {
   "cell_type": "markdown",
   "id": "95a690b4",
   "metadata": {},
   "source": [
    "Let's import the Harry Potter dataset from Kaggle. (You can install Kaggle on your system using [these](https://www.kaggle.com/docs/api) instructions.) The dataset contains separate .csv files for each Harry Potter film. "
   ]
  },
  {
   "cell_type": "code",
   "execution_count": 4,
   "id": "c6853215",
   "metadata": {},
   "outputs": [],
   "source": [
    "from kaggle.api.kaggle_api_extended import KaggleApi\n",
    "api = KaggleApi()\n",
    "api.authenticate()\n",
    "api.dataset_download_files(\n",
    "    'kornflex/harry-potter-movies-dataset',\n",
    "    unzip=True)"
   ]
  },
  {
   "cell_type": "markdown",
   "id": "e4629666",
   "metadata": {},
   "source": [
    "The file named \"movies.csv\" contains information about the movies. I want to extract the list of the eight movie titles."
   ]
  },
  {
   "cell_type": "code",
   "execution_count": 5,
   "id": "a7573772",
   "metadata": {},
   "outputs": [
    {
     "name": "stdout",
     "output_type": "stream",
     "text": [
      "                                         movie  released_year  running_time  \\\n",
      "0     Harry Potter and the Philosopher's Stone           2001           152   \n",
      "1      Harry Potter and the Chamber of Secrets           2002           161   \n",
      "2     Harry Potter and the Prisoner of Azkaban           2004           142   \n",
      "3          Harry Potter and the Goblet of Fire           2005           157   \n",
      "4    Harry Potter and the Order of the Phoenix           2007           138   \n",
      "5       Harry Potter and the Half-Blood Prince           2009           153   \n",
      "6  Harry Potter and the Deathly Hallows Part 1           2010           146   \n",
      "7  Harry Potter and the Deathly Hallows Part 2           2011           130   \n",
      "\n",
      "      budget  box_office     file  \n",
      "0  125000000  1002000000  hp1.csv  \n",
      "1  100000000   880300000  hp2.csv  \n",
      "2  130000000   796700000  hp3.csv  \n",
      "3  150000000   896400000  hp4.csv  \n",
      "4  150000000   942000000  hp5.csv  \n",
      "5  250000000   943200000  hp6.csv  \n",
      "6  200000000   976900000  hp7.csv  \n",
      "7  250000000  1342000000  hp8.csv  \n"
     ]
    }
   ],
   "source": [
    "movies_info = pd.read_csv(\"datasets/movies.csv\", sep=\";\")\n",
    "print(movies_info)"
   ]
  },
  {
   "cell_type": "code",
   "execution_count": 6,
   "id": "120f1d2e",
   "metadata": {},
   "outputs": [
    {
     "name": "stdout",
     "output_type": "stream",
     "text": [
      "[\"Harry Potter and the Philosopher's Stone\", 'Harry Potter and the Chamber of Secrets', 'Harry Potter and the Prisoner of Azkaban', 'Harry Potter and the Goblet of Fire', 'Harry Potter and the Order of the Phoenix', 'Harry Potter and the Half-Blood Prince', 'Harry Potter and the Deathly Hallows Part 1', 'Harry Potter and the Deathly Hallows Part 2']\n"
     ]
    }
   ],
   "source": [
    "movie_titles = movies_info.movie.tolist()\n",
    "print(movie_titles)"
   ]
  },
  {
   "cell_type": "markdown",
   "id": "fdc22890",
   "metadata": {},
   "source": [
    "Now I will create a list of lists containing the dialogue for each movie."
   ]
  },
  {
   "cell_type": "code",
   "execution_count": 7,
   "id": "1567e99a",
   "metadata": {},
   "outputs": [],
   "source": [
    "all_scripts = []\n",
    "for i in range(1,9):\n",
    "    all_scripts.append(\" \".join(pd.read_csv(f\"datasets/hp{str(i)}.csv\").fillna(\"\").dialog.tolist()))"
   ]
  },
  {
   "cell_type": "markdown",
   "id": "f602aad1",
   "metadata": {},
   "source": [
    "### Preprocessing the texts"
   ]
  },
  {
   "cell_type": "code",
   "execution_count": 8,
   "id": "5ce5a887",
   "metadata": {},
   "outputs": [],
   "source": [
    "stopwords = stopwords.words('english')\n",
    "lemmatizer = WordNetLemmatizer()"
   ]
  },
  {
   "cell_type": "code",
   "execution_count": 9,
   "id": "d66ef48d",
   "metadata": {},
   "outputs": [],
   "source": [
    "def clean_text(text):\n",
    "    return re.sub(r\"[\\W]+\", \" \", text)\n",
    "\n",
    "def lemmatize_text(text):\n",
    "    tag_dictionary = {'NN':wordnet.NOUN,'JJ':wordnet.ADJ,'VB':wordnet.VERB,'RB':wordnet.ADV}\n",
    "    lemmatized_text = \"\"\n",
    "    for word, tag in pos_tag(word_tokenize(text)):\n",
    "        if word in stopwords:\n",
    "            pass\n",
    "        elif tag[:2] in tag_dictionary:\n",
    "            lemmatized_text += str(lemmatizer.lemmatize(word, tag_dictionary[tag[:2]])) + \" \"\n",
    "        else:\n",
    "            lemmatized_text += str(lemmatizer.lemmatize(word)) + \" \"\n",
    "    return lemmatized_text\n",
    "\n",
    "def preprocess_text(text):\n",
    "    return lemmatize_text(clean_text(text))"
   ]
  },
  {
   "cell_type": "code",
   "execution_count": 10,
   "id": "004a497f",
   "metadata": {},
   "outputs": [],
   "source": [
    "preprocessed_scripts = [preprocess_text(script) for script in all_scripts]"
   ]
  },
  {
   "cell_type": "markdown",
   "id": "131afd8a",
   "metadata": {},
   "source": [
    "## Topic Modeling with Bag-of-words Model"
   ]
  },
  {
   "cell_type": "code",
   "execution_count": 11,
   "id": "e872d912",
   "metadata": {},
   "outputs": [],
   "source": [
    "vectorizer = CountVectorizer()\n",
    "counts = vectorizer.fit_transform(preprocessed_scripts)\n",
    "feature_names = vectorizer.get_feature_names()\n",
    "df_bow = pd.DataFrame(counts.T.todense(),\n",
    "                      index=feature_names,\n",
    "                      columns=movie_titles)"
   ]
  },
  {
   "cell_type": "code",
   "execution_count": 12,
   "id": "eb7a0aca",
   "metadata": {},
   "outputs": [
    {
     "name": "stdout",
     "output_type": "stream",
     "text": [
      "go       102\n",
      "harry     95\n",
      "know      73\n",
      "you       72\n",
      "it        72\n",
      "get       68\n",
      "oh        54\n",
      "see       51\n",
      "one       49\n",
      "what      48\n",
      "Name: Harry Potter and the Philosopher's Stone, dtype: int64\n"
     ]
    }
   ],
   "source": [
    "print(df_bow.iloc[:,0].sort_values(ascending=False).head(10))"
   ]
  },
  {
   "cell_type": "code",
   "execution_count": 28,
   "id": "b8c7ebc6",
   "metadata": {},
   "outputs": [],
   "source": [
    "def print_top_words(df):\n",
    "    for title in movie_titles:\n",
    "        top_words = df.loc[:, title].sort_values(ascending=False).index.tolist()[:5]\n",
    "        top_scores = df.loc[:, title].sort_values(ascending=False).values.tolist()[:5]\n",
    "        print(\"- \" + title + \":\",\n",
    "              \"\\n\",\n",
    "             [f\"{top_words[i]} ({round(top_scores[i], 2)})\" for i in range(5)],\n",
    "             \"\\n\")"
   ]
  },
  {
   "cell_type": "code",
   "execution_count": 29,
   "id": "cfb43f5d",
   "metadata": {},
   "outputs": [
    {
     "name": "stdout",
     "output_type": "stream",
     "text": [
      "# Main topics in Harry Potter scripts using Bag-of-word model #\n",
      "\n",
      "- Harry Potter and the Philosopher's Stone: \n",
      " ['go (102)', 'harry (95)', 'know (73)', 'you (72)', 'it (72)'] \n",
      "\n",
      "- Harry Potter and the Chamber of Secrets: \n",
      " ['harry (106)', 'you (96)', 'go (88)', 'it (68)', 'get (66)'] \n",
      "\n",
      "- Harry Potter and the Prisoner of Azkaban: \n",
      " ['harry (95)', 'you (93)', 'come (87)', 'it (71)', 'go (64)'] \n",
      "\n",
      "- Harry Potter and the Goblet of Fire: \n",
      " ['harry (80)', 'you (68)', 'know (58)', 'the (50)', 'what (45)'] \n",
      "\n",
      "- Harry Potter and the Order of the Phoenix: \n",
      " ['harry (123)', 'you (104)', 'potter (74)', 'go (73)', 'get (70)'] \n",
      "\n",
      "- Harry Potter and the Half-Blood Prince: \n",
      " ['you (109)', 'know (102)', 'it (82)', 'harry (80)', 'one (74)'] \n",
      "\n",
      "- Harry Potter and the Deathly Hallows Part 1: \n",
      " ['it (96)', 'you (94)', 'know (94)', 'harry (78)', 'think (67)'] \n",
      "\n",
      "- Harry Potter and the Deathly Hallows Part 2: \n",
      " ['you (85)', 'it (60)', 'harry (55)', 'know (46)', 'but (36)'] \n",
      "\n"
     ]
    }
   ],
   "source": [
    "print(\"# Main topics in Harry Potter scripts using Bag-of-word model #\\n\")\n",
    "print_top_words(df_bow)"
   ]
  },
  {
   "cell_type": "markdown",
   "id": "47687d66",
   "metadata": {},
   "source": [
    "## Topic modeling with Bag-of-words and Tf-idf scores"
   ]
  },
  {
   "cell_type": "code",
   "execution_count": 30,
   "id": "ca567564",
   "metadata": {},
   "outputs": [],
   "source": [
    "transformer = TfidfTransformer(norm=None,\n",
    "                              smooth_idf=True,\n",
    "                              use_idf=True,\n",
    "                              sublinear_tf=True)\n",
    "tfidf_scores_transformed = transformer.fit_transform(counts)\n",
    "df_tf_idf = pd.DataFrame(tfidf_scores_transformed.T.todense(),\n",
    "                        index=feature_names,\n",
    "                        columns=movie_titles)"
   ]
  },
  {
   "cell_type": "code",
   "execution_count": 31,
   "id": "2070421d",
   "metadata": {},
   "outputs": [
    {
     "name": "stdout",
     "output_type": "stream",
     "text": [
      "# Main topics in Harry Potter scripts using Bag-of-word model and TFIDF #\n",
      "\n",
      "- Harry Potter and the Philosopher's Stone: \n",
      " ['flamel (8.51)', 'fluffy (8.27)', 'whoa (7.78)', 'philosopher (7.71)', 'quirrell (7.71)'] \n",
      "\n",
      "- Harry Potter and the Chamber of Secrets: \n",
      " ['dobby (9.28)', 'heir (8.73)', 'ho (8.01)', 'petrified (8.01)', 'hee (8.01)'] \n",
      "\n",
      "- Harry Potter and the Prisoner of Azkaban: \n",
      " ['pettigrew (9.11)', 'buckbeak (8.28)', 'peter (8.01)', 'riddikulus (7.71)', 'boggart (7.71)'] \n",
      "\n",
      "- Harry Potter and the Goblet of Fire: \n",
      " ['champion (9.74)', 'krum (9.29)', 'tri (8.73)', 'barty (8.01)', 'cedric (7.78)'] \n",
      "\n",
      "- Harry Potter and the Order of the Phoenix: \n",
      " ['prophesy (9.74)', 'mysteries (9.45)', 'stupify (8.01)', 'umbridge (7.64)', 'kreacher (7.31)'] \n",
      "\n",
      "- Harry Potter and the Half-Blood Prince: \n",
      " ['slughorn (9.6)', 'horace (8.93)', 'cormac (8.01)', 'cabinet (7.71)', 'vow (7.38)'] \n",
      "\n",
      "- Harry Potter and the Deathly Hallows Part 1: \n",
      " ['bathilda (8.27)', 'bagshot (8.01)', 'kreacher (7.64)', 'dobby (7.24)', 'gregorovitch (6.99)'] \n",
      "\n",
      "- Harry Potter and the Deathly Hallows Part 2: \n",
      " ['griphook (8.27)', 'diadem (7.38)', 'elder (6.71)', 'lestrange (6.71)', 'helena (5.98)'] \n",
      "\n"
     ]
    }
   ],
   "source": [
    "print(\"# Main topics in Harry Potter scripts using Bag-of-word model and TFIDF #\\n\")\n",
    "print_top_words(df_tf_idf)"
   ]
  }
 ],
 "metadata": {
  "kernelspec": {
   "display_name": "Python 3",
   "language": "python",
   "name": "python3"
  },
  "language_info": {
   "codemirror_mode": {
    "name": "ipython",
    "version": 3
   },
   "file_extension": ".py",
   "mimetype": "text/x-python",
   "name": "python",
   "nbconvert_exporter": "python",
   "pygments_lexer": "ipython3",
   "version": "3.9.5"
  }
 },
 "nbformat": 4,
 "nbformat_minor": 5
}
